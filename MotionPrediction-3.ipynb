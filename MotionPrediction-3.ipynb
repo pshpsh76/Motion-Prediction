{
  "cells": [
    {
      "cell_type": "markdown",
      "id": "ca14cece",
      "metadata": {
        "cellId": "n36z8orj3qjb9pji9inlqm",
        "id": "ca14cece"
      },
      "source": [
        "# Предсказание траекторий автомобилей"
      ]
    },
    {
      "cell_type": "code",
      "execution_count": 1,
      "id": "d5da630e",
      "metadata": {
        "cellId": "syigsql2ytke38o1ulg0u8",
        "colab": {
          "base_uri": "https://localhost:8080/",
          "height": 326
        },
        "id": "d5da630e",
        "outputId": "9646a502-fccf-45c6-f843-10d56d65794a"
      },
      "outputs": [
        {
          "output_type": "error",
          "ename": "ValueError",
          "evalue": "To embed videos, you must pass embed=True (this may make your notebook files huge)\nConsider passing Video(url='...')",
          "traceback": [
            "\u001b[0;31m---------------------------------------------------------------------------\u001b[0m",
            "\u001b[0;31mValueError\u001b[0m                                Traceback (most recent call last)",
            "\u001b[0;32m<ipython-input-1-0bded6e3fe77>\u001b[0m in \u001b[0;36m<cell line: 4>\u001b[0;34m()\u001b[0m\n\u001b[1;32m      2\u001b[0m \u001b[0;32mfrom\u001b[0m \u001b[0mIPython\u001b[0m\u001b[0;34m.\u001b[0m\u001b[0mdisplay\u001b[0m \u001b[0;32mimport\u001b[0m \u001b[0mVideo\u001b[0m\u001b[0;34m\u001b[0m\u001b[0;34m\u001b[0m\u001b[0m\n\u001b[1;32m      3\u001b[0m \u001b[0;34m\u001b[0m\u001b[0m\n\u001b[0;32m----> 4\u001b[0;31m \u001b[0mVideo\u001b[0m\u001b[0;34m(\u001b[0m\u001b[0;34m\"motion-prediction-video.mp4\"\u001b[0m\u001b[0;34m,\u001b[0m \u001b[0mwidth\u001b[0m\u001b[0;34m=\u001b[0m\u001b[0;36m400\u001b[0m\u001b[0;34m,\u001b[0m \u001b[0mheight\u001b[0m\u001b[0;34m=\u001b[0m\u001b[0;36m400\u001b[0m\u001b[0;34m)\u001b[0m\u001b[0;34m\u001b[0m\u001b[0;34m\u001b[0m\u001b[0m\n\u001b[0m",
            "\u001b[0;32m/usr/local/lib/python3.10/dist-packages/IPython/core/display.py\u001b[0m in \u001b[0;36m__init__\u001b[0;34m(self, data, url, filename, embed, mimetype, width, height, html_attributes)\u001b[0m\n\u001b[1;32m   1408\u001b[0m                 \u001b[0;34m\"Consider passing Video(url='...')\"\u001b[0m\u001b[0;34m,\u001b[0m\u001b[0;34m\u001b[0m\u001b[0;34m\u001b[0m\u001b[0m\n\u001b[1;32m   1409\u001b[0m             ])\n\u001b[0;32m-> 1410\u001b[0;31m             \u001b[0;32mraise\u001b[0m \u001b[0mValueError\u001b[0m\u001b[0;34m(\u001b[0m\u001b[0mmsg\u001b[0m\u001b[0;34m)\u001b[0m\u001b[0;34m\u001b[0m\u001b[0;34m\u001b[0m\u001b[0m\n\u001b[0m\u001b[1;32m   1411\u001b[0m \u001b[0;34m\u001b[0m\u001b[0m\n\u001b[1;32m   1412\u001b[0m         \u001b[0mself\u001b[0m\u001b[0;34m.\u001b[0m\u001b[0mmimetype\u001b[0m \u001b[0;34m=\u001b[0m \u001b[0mmimetype\u001b[0m\u001b[0;34m\u001b[0m\u001b[0;34m\u001b[0m\u001b[0m\n",
            "\u001b[0;31mValueError\u001b[0m: To embed videos, you must pass embed=True (this may make your notebook files huge)\nConsider passing Video(url='...')"
          ]
        }
      ],
      "source": [
        "#!c1.8\n",
        "from IPython.display import Video\n",
        "\n",
        "Video(\"motion-prediction-video.mp4\", width=400, height=400)"
      ]
    },
    {
      "cell_type": "markdown",
      "id": "a09402e7",
      "metadata": {
        "cellId": "9iavc2tbajn7qe5jr5tacl",
        "id": "a09402e7"
      },
      "source": [
        "## Датасет\n",
        "\n",
        "Для работы над проектом возьмем некоторое подмножество датасета [Shifts](https://research.yandex.com/shifts) из трека про предсказание движения автомобилей.\n",
        "\n",
        "Датасет представляет собой набор сцен. Каждая сцена содержит в себе информацию о динамических объектах (автомобилях,  пешеходах и самом беспилотнике), карту дорожного полотна и состояния светофоров. Длительность каждой сцены составляет 10 секунд: 5 секунд прошлого и 5 секунд будущего. Таким образом, задача - зная прошлую информацию об окружающем мире, научиться предсказывать будущее его состояние.\n",
        "\n",
        "Для каждого автомобиля в сцене известны следующие параметры:\n",
        "- уникальный идентификатор\n",
        "- положение в глобальной системе координат (x и y)\n",
        "- размеры (длина и ширина)\n",
        "- линейная скорость (вдоль осей x и y)\n",
        "- линейное ускорение (вдоль осей x и y)\n",
        "- направление вдоль оси z (угол в радианах)\n",
        "\n",
        "Аналогичные данные известны для самого беспилотника. Для пешехедов данные ограничиваются id, положением, размером и скоростью.\n",
        "\n",
        "Дорожный граф (карта) содержит в себе информацию о полосах, полигон дороги, полигоны пешеходных переходов."
      ]
    },
    {
      "cell_type": "markdown",
      "id": "35fdeb28",
      "metadata": {
        "cellId": "n0hje2s56jfj54p579zne8",
        "id": "35fdeb28"
      },
      "source": [
        "## Ссылки на данные"
      ]
    },
    {
      "cell_type": "markdown",
      "id": "887843d0",
      "metadata": {
        "cellId": "w7c2e7gwz1wcyfrbcbllr",
        "id": "887843d0"
      },
      "source": [
        "Train: https://disk.yandex.ru/d/tuTwRSLL-KFqjg\n",
        "\n",
        "Validation: https://disk.yandex.ru/d/3Lu6_6BgwkXlgw\n",
        "\n",
        "Test: https://disk.yandex.ru/d/M_4ED0r19OnSrg\n",
        "\n",
        "Данные лежат в tar-архивах. Их можно распаковать командой ```tar -xzf train.tar.gz```"
      ]
    },
    {
      "cell_type": "markdown",
      "id": "5c67ad8a",
      "metadata": {
        "cellId": "fnqj44y4xevz09wvadpcl9",
        "id": "5c67ad8a"
      },
      "source": [
        "## Python API датасета"
      ]
    },
    {
      "cell_type": "markdown",
      "id": "9db0df71",
      "metadata": {
        "cellId": "xhulpxjf4xhq215am6wjf",
        "id": "9db0df71"
      },
      "source": [
        "Для работы с датасетом нам понадобится установить python пакет.\n",
        "\n",
        "Следующием команды нужно выполнить в консоли (или напрямую из ячеек ноутбука, начиная каждую команду с ```!```, например ```!python3 ...```):\n",
        "```\n",
        "python3 -m venv .my_venv\n",
        "source .my_venv/bin/activate\n",
        "git clone https://github.com/Shifts-Project/shifts.git\n",
        "cd shifts/sdc\n",
        "pip install .\n",
        "```"
      ]
    },
    {
      "cell_type": "markdown",
      "id": "44ccfcaa",
      "metadata": {
        "cellId": "7r0ms0xjl7jxdl84jauctl",
        "id": "44ccfcaa"
      },
      "source": [
        "## Структура проекта\n",
        "\n",
        "Проект будет состоять из нескольких этапов.\n",
        "\n",
        "**Этап 0.** Посмотрим на возможные представления данных. Придумаем, какими метриками можно оценивать модели в нашей задаче. Реализуем бейзлайновую модель, которую нам необходимо будет побить, и нарисуем её предсказания.\n",
        "\n",
        "**Этап 1.** На этом шаге мы используем наши знания о полносвязных нейросетях и векторное преставление сцены, чтобы реализовать первую модель.\n",
        "\n",
        "**Этап 2.** Применим сверточные нейросети к картиночному представлению сцены."
      ]
    },
    {
      "cell_type": "markdown",
      "id": "21ac3b14",
      "metadata": {
        "cellId": "vkip4m39tysc4rwrzxixg",
        "id": "21ac3b14"
      },
      "source": [
        "## Этап 0"
      ]
    },
    {
      "cell_type": "markdown",
      "id": "d7bb2e4a",
      "metadata": {
        "cellId": "fuoeugmnz7d826lgwc08rk",
        "id": "d7bb2e4a"
      },
      "source": [
        "### Представление сцены"
      ]
    },
    {
      "cell_type": "markdown",
      "id": "6fb55186",
      "metadata": {
        "cellId": "4woucu3pl5jq74qbts27km",
        "id": "6fb55186"
      },
      "source": [
        "Основные классы для взаимодействия датасетом:\n",
        "- ```FeatureVectorizer``` - достает из сцены описание объекта, для которого мы делаем предсказание в векторном виде\n",
        "- ```MotionPredictionDataset``` - испольуя классы выше, реализует Pytorch-style датасет\n",
        "\n",
        "Класс ```FeatureVectorizer``` можно настраивать с помощью словарей с конфигурацией. Это позволяет задавать интересующую нас глубину истории и набор признаков. Подробнее мы посмотрим дальше."
      ]
    },
    {
      "cell_type": "code",
      "execution_count": null,
      "id": "b2b7b385",
      "metadata": {
        "cellId": "2ohyd3sramjxbmi6i1k7e",
        "id": "b2b7b385",
        "outputId": "babe7401-768d-4dc9-cbb4-b89007b1c471"
      },
      "outputs": [
        {
          "name": "stderr",
          "output_type": "stream",
          "text": [
            "/home/jupyter/.local/lib/python3.8/site-packages/ysdc_dataset_api/utils/transform.py:90: NumbaPerformanceWarning: \u001b[1m\u001b[1m'@' is faster on contiguous arrays, called on (array(float32, 2d, A), array(float32, 2d, C))\u001b[0m\u001b[0m\n",
            "  res = transform @ ph\n",
            "/usr/local/lib/python3.8/dist-packages/numba/core/typing/npydecl.py:930: NumbaPerformanceWarning: \u001b[1m'@' is faster on contiguous arrays, called on (array(float32, 2d, A), array(float32, 2d, C))\u001b[0m\n",
            "  warnings.warn(NumbaPerformanceWarning(msg))\n"
          ]
        }
      ],
      "source": [
        "#!c1.8\n",
        "import json\n",
        "import yaml\n",
        "\n",
        "import matplotlib.pyplot as plt\n",
        "import numpy as np\n",
        "from matplotlib import collections as mc\n",
        "\n",
        "from ysdc_dataset_api.dataset import TFMotionPredictionDataset\n",
        "from ysdc_dataset_api.features import FeatureRenderer, FeatureVectorizer\n",
        "from ysdc_dataset_api.utils import transform_2d_points"
      ]
    },
    {
      "cell_type": "code",
      "execution_count": null,
      "id": "1a98b30e",
      "metadata": {
        "cellId": "jshdy2vjte0ycdoj99ovh",
        "id": "1a98b30e"
      },
      "outputs": [],
      "source": [
        "#!c1.8\n",
        "with open('vectorizer_config.yaml') as f:\n",
        "    vectorizer_config = yaml.safe_load(f)"
      ]
    },
    {
      "cell_type": "code",
      "execution_count": null,
      "id": "eaeb02d2",
      "metadata": {
        "cellId": "5m7lb9lkgamqkltww9ful",
        "id": "eaeb02d2",
        "outputId": "b06ff22c-33a4-4664-a1c2-c33fc314d243"
      },
      "outputs": [
        {
          "name": "stdout",
          "output_type": "stream",
          "text": [
            "{\n",
            "  \"time_grid_params\": {\n",
            "    \"start\": 0,\n",
            "    \"stop\": 4,\n",
            "    \"step\": 1\n",
            "  },\n",
            "  \"features\": [\n",
            "    \"position\",\n",
            "    \"velocity\",\n",
            "    \"acceleration\",\n",
            "    \"yaw\"\n",
            "  ]\n",
            "}\n"
          ]
        }
      ],
      "source": [
        "#!c1.8\n",
        "print(json.dumps(vectorizer_config, indent=2))"
      ]
    },
    {
      "cell_type": "markdown",
      "id": "b5535a0f",
      "metadata": {
        "cellId": "kdptb9daqnb6lw4yj6ttdg",
        "id": "b5535a0f"
      },
      "source": [
        "Конфиг векторайзера содержит поля `time_grid_params` и `features`.\n",
        "\n",
        "Первое отвечает за количество исторических моментов времени, извлекаемых из сцены для объекта. Параметр `start=0` соответсвует последнему известному состоянию автомобиля. `stop=4` отсчитывает 4 таймстемпа назад, что с шагом `step=1`, даёт нам 5 моментов времени. Максимальная глубина истории 25, что будет соответсвовать параметрам `start=0, stop=24, step=1`.\n",
        "\n",
        "Поле `features` отвечает за то, какие признаки мы хотим извлечь из сцены для дальшейшего использования. `position` даёт нам x и y координаты (2 признака), `velocity` - линейную скорость по x и y (2 признака), `acceleration` - линейное ускорение по x и y (2 признака), `yaw` - угол (1 признак). Итого 7 признаков для каждого из 5 моментов времени в прошлом."
      ]
    },
    {
      "cell_type": "code",
      "execution_count": null,
      "id": "0243ee21",
      "metadata": {
        "cellId": "imjhlf1r65305wuu5v2dk",
        "id": "0243ee21"
      },
      "outputs": [],
      "source": [
        "#!c1.8\n",
        "# Создадим векторайзер\n",
        "vectorizer = FeatureVectorizer(vectorizer_config)"
      ]
    },
    {
      "cell_type": "markdown",
      "id": "0fdcb531",
      "metadata": {
        "cellId": "tundwei8v3s2oi98brgnkd",
        "id": "0fdcb531"
      },
      "source": [
        "Как было упомянуто выше, информацию из сцены так же можно представить в виде изображения. Рендеринг работает довоьлно долго, и делать его налету в процессе обучения будет проблематично. Поэтому мы воспользуемся уже готовыми многоканальными изображениями, которые приложены к датасету."
      ]
    },
    {
      "cell_type": "code",
      "execution_count": null,
      "id": "24ebcc6c",
      "metadata": {
        "cellId": "s4t09bkdx3e9ze1w3g7gf",
        "id": "24ebcc6c",
        "outputId": "adda34e2-6fb9-45e4-af61-2eddae51326c"
      },
      "outputs": [
        {
          "name": "stderr",
          "output_type": "stream",
          "text": [
            "/kernel/lib/python3.8/site-packages/ml_kernel/kernel.py:864: UserWarning: The following variables cannot be serialized: dataset, test_dataset, val_dataset\n",
            "  warnings.warn(message)\n"
          ]
        }
      ],
      "source": [
        "#!c1.8\n",
        "dataset_path = 'data/train'\n",
        "val_dataset_path = 'data/val'\n",
        "test_dataset_path = 'data/test'\n",
        "\n",
        "dataset = TFMotionPredictionDataset(\n",
        "    # Путь к датасету\n",
        "    dataset_path=dataset_path,\n",
        "    # Путь к подготовленным картинкам, у нас они лежат там же\n",
        "    prerendered_dataset_path=dataset_path,\n",
        "    # Набор объектов, умеющих готовить фичи для модели. У нас это только векторайзер.\n",
        "    feature_producers=[vectorizer],\n",
        ").get_tf_dataset()\n",
        "\n",
        "val_dataset = TFMotionPredictionDataset(\n",
        "    dataset_path=val_dataset_path,\n",
        "    prerendered_dataset_path=val_dataset_path,\n",
        "    feature_producers=[vectorizer],\n",
        ").get_tf_dataset()\n",
        "\n",
        "test_dataset = TFMotionPredictionDataset(\n",
        "    dataset_path=test_dataset_path,\n",
        "    prerendered_dataset_path=test_dataset_path,\n",
        "    feature_producers=[vectorizer],\n",
        ").get_tf_dataset()"
      ]
    },
    {
      "cell_type": "code",
      "execution_count": null,
      "id": "01fefa0a",
      "metadata": {
        "cellId": "wshtezvy8l8b8kliz7l1x",
        "id": "01fefa0a",
        "outputId": "9319ea2c-1c41-448e-94f5-c231572a87e6"
      },
      "outputs": [
        {
          "name": "stdout",
          "output_type": "stream",
          "text": [
            "dict_keys(['ground_truth_trajectory', 'scene_id', 'track_id', 'prerendered_feature_map', 'vector_features'])\n"
          ]
        },
        {
          "name": "stderr",
          "output_type": "stream",
          "text": [
            "/kernel/lib/python3.8/site-packages/ml_kernel/kernel.py:864: UserWarning: The following variables cannot be serialized: dataset, test_dataset, val_dataset\n",
            "  warnings.warn(message)\n"
          ]
        }
      ],
      "source": [
        "#!c1.8\n",
        "# Посмотрим, что лежит в одном объекте из датасета\n",
        "data_item = next(iter(dataset))\n",
        "print(data_item.keys())"
      ]
    },
    {
      "cell_type": "markdown",
      "id": "a36caba9",
      "metadata": {
        "cellId": "04xzygm8wyl8bn2o7210spj",
        "id": "a36caba9"
      },
      "source": [
        "Нас интересуют следующие поля:\n",
        "- `ground_truth_trajectory` - траектория, которую нам надо предсказать,\n",
        "- `prerendered_feature_map` - подготовленное изображение сцены вокруг автомобиля,\n",
        "- `vector_features` - векторное представление целевого автомобиля."
      ]
    },
    {
      "cell_type": "code",
      "execution_count": null,
      "id": "035fce5a",
      "metadata": {
        "cellId": "qvzwc11aiop7vnc6sl7",
        "id": "035fce5a",
        "outputId": "2bfcd005-3f8a-4570-bf94-f78a16902404"
      },
      "outputs": [
        {
          "name": "stdout",
          "output_type": "stream",
          "text": [
            "(25, 2)\n"
          ]
        }
      ],
      "source": [
        "#!c1.8\n",
        "print(data_item['ground_truth_trajectory'].shape)"
      ]
    },
    {
      "cell_type": "code",
      "execution_count": null,
      "id": "359c9fee",
      "metadata": {
        "cellId": "r8qn506dzdambnybtqiw9q",
        "id": "359c9fee",
        "outputId": "e3b1180a-e87a-4004-865c-5d63e5659cf6"
      },
      "outputs": [
        {
          "name": "stdout",
          "output_type": "stream",
          "text": [
            "tf.Tensor(\n",
            "[[ 9.8083496e-02 -1.6210556e-02]\n",
            " [-2.1453857e-02 -5.9974670e-02]\n",
            " [-1.3870239e-01 -7.1348190e-02]\n",
            " [-1.5197754e-01 -3.2289505e-02]\n",
            " [ 6.1065674e-02 -8.0108643e-05]\n",
            " [ 1.8051147e-01 -2.4965286e-02]\n",
            " [ 2.3358154e-01 -3.1501770e-02]\n",
            " [ 2.3767090e-01 -4.7439575e-02]\n",
            " [ 2.6086426e-01 -3.4521103e-02]\n",
            " [ 2.2857666e-01 -4.7407150e-02]\n",
            " [ 2.4829102e-01 -1.7486572e-02]\n",
            " [ 2.2973633e-01 -2.9182434e-02]\n",
            " [ 3.3026123e-01 -7.1620941e-03]\n",
            " [ 3.2449341e-01  1.0303497e-02]\n",
            " [ 3.1008911e-01  9.8934174e-03]\n",
            " [ 3.5311890e-01 -3.6144257e-03]\n",
            " [ 3.8018799e-01 -2.5259018e-02]\n",
            " [ 4.2044067e-01 -5.0052643e-02]\n",
            " [ 2.9519653e-01 -1.4421463e-02]\n",
            " [ 3.7106323e-01 -1.1652374e-01]\n",
            " [ 4.3930054e-01 -1.1513138e-01]\n",
            " [ 4.2144775e-01 -8.1237793e-02]\n",
            " [ 3.6071777e-01 -2.4038315e-02]\n",
            " [ 4.4265747e-01 -7.6370239e-02]\n",
            " [ 4.8245239e-01 -1.2498093e-01]], shape=(25, 2), dtype=float32)\n"
          ]
        }
      ],
      "source": [
        "#!c1.8\n",
        "print(data_item['ground_truth_trajectory'])"
      ]
    },
    {
      "cell_type": "markdown",
      "id": "c59660d7",
      "metadata": {
        "cellId": "biskizbpi5d479agntddu4",
        "id": "c59660d7"
      },
      "source": [
        "Предсказываемая траектория имеет размерность (25, 2), где 25 - количество моментов в будущем, на которые мы ххотим сделать предказание, а 2 - x и y координаты в метрах, где автомобиль окажется в эти моменты."
      ]
    },
    {
      "cell_type": "code",
      "execution_count": null,
      "id": "20b9773e",
      "metadata": {
        "cellId": "984ti05rbp6sc3e7ui9qll",
        "id": "20b9773e",
        "outputId": "3a73a026-52db-4757-ee9c-cf3811d91922"
      },
      "outputs": [
        {
          "name": "stdout",
          "output_type": "stream",
          "text": [
            "(5, 8)\n"
          ]
        }
      ],
      "source": [
        "#!c1.8\n",
        "print(data_item['vector_features'].shape)"
      ]
    },
    {
      "cell_type": "code",
      "execution_count": null,
      "id": "5bb1805e",
      "metadata": {
        "cellId": "34s4z9u9xthd8ug4c7tsgj",
        "id": "5bb1805e",
        "outputId": "b98d3faa-08e4-45d1-f808-5567796aa82b"
      },
      "outputs": [
        {
          "name": "stdout",
          "output_type": "stream",
          "text": [
            "tf.Tensor(\n",
            "[[-0.19607544  0.0065918   0.          0.          0.          0.\n",
            "   1.3975863   1.        ]\n",
            " [-0.17193604  0.00763702  0.          0.          0.          0.\n",
            "   1.394321    1.        ]\n",
            " [-0.17208862  0.00679779  0.          0.          0.          0.\n",
            "   1.376034    1.        ]\n",
            " [-0.17404175  0.00531006  0.          0.          0.          0.\n",
            "   1.3643332   1.        ]\n",
            " [ 0.          0.          0.5979004  -0.00255394  0.49191284  0.14166641\n",
            "   1.3696145   1.        ]], shape=(5, 8), dtype=float32)\n"
          ]
        }
      ],
      "source": [
        "#!c1.8\n",
        "print(data_item['vector_features'])"
      ]
    },
    {
      "cell_type": "markdown",
      "id": "ffd4b5b1",
      "metadata": {
        "cellId": "62a6cijsh8xahc6eyw00et",
        "id": "ffd4b5b1"
      },
      "source": [
        "Векторное представление имеет размерность (5, 8), где 5 - количество исторических моментов (которое мы указали в конфиге), 8 - размерность признаков. Признаков на один больше, чем было указано выше. Векторайзер добавляет один неявно добавляет один признак, указывающий были ли данные известны на этот момент в истории (1) или были заполнены нулями (0)."
      ]
    },
    {
      "cell_type": "code",
      "execution_count": null,
      "id": "282e1125",
      "metadata": {
        "cellId": "r98dykpcyjm6g4qz5jtiiu",
        "id": "282e1125",
        "outputId": "7113826c-716c-4bfd-fecd-a860c3b7a1dc"
      },
      "outputs": [
        {
          "name": "stdout",
          "output_type": "stream",
          "text": [
            "(17, 128, 128)\n"
          ]
        }
      ],
      "source": [
        "#!c1.8\n",
        "print(data_item['prerendered_feature_map'].shape)"
      ]
    },
    {
      "cell_type": "markdown",
      "id": "dd02458b",
      "metadata": {
        "cellId": "vaxf3p0i8vecokrl9m2tq",
        "id": "dd02458b"
      },
      "source": [
        "Размерность изображения (17, 128, 128). Изображения представляют собой вид сверху, при этом в центре всегда находится автомобиль, для которого мы делаем предсказание. Каналы содержат информацию о положении автомобилей и пешеходов, их скорости и ускорения, дорожну карту. Более подробное описание доступно в файле `renderer_config.yaml`."
      ]
    },
    {
      "cell_type": "code",
      "execution_count": null,
      "id": "16a09205",
      "metadata": {
        "cellId": "bqjkttwgin9i2xo169fbum",
        "id": "16a09205"
      },
      "outputs": [],
      "source": [
        "#!c1.8\n",
        "# Создадим рендерер. Нам он понадобится только для визуализации.\n",
        "with open('renderer_config.yaml') as f:\n",
        "    renderer_config = yaml.safe_load(f)\n",
        "renderer = FeatureRenderer(renderer_config)"
      ]
    },
    {
      "cell_type": "code",
      "execution_count": null,
      "id": "54eab9dc",
      "metadata": {
        "cellId": "zgbmh3huy8rpnqbehkwmg7",
        "id": "54eab9dc"
      },
      "outputs": [],
      "source": [
        "#!c1.8\n",
        "def draw_feature_map(feature_map, gt_trajectory=None, pred_trajectory=None, *, transform=None):\n",
        "    # Plot vehicles occupancy, pedestrian occupancy, lane occupancy and road polygon\n",
        "    plt.figure(figsize=(10, 10))\n",
        "    # 0 канал -- положение автомобилей\n",
        "    plt.imshow(feature_map[0], origin='lower', cmap='binary', alpha=0.7)\n",
        "    # 6 канал -- положение пешеходов\n",
        "    plt.imshow(feature_map[6], origin='lower', cmap='binary', alpha=0.5)\n",
        "    # 13 канал -- положение дорожных полос\n",
        "    plt.imshow(feature_map[13], origin='lower', cmap='binary', alpha=0.2)\n",
        "    # 16 канал -- полигон дороги\n",
        "    plt.imshow(feature_map[16], origin='lower', cmap='binary', alpha=0.1)\n",
        "\n",
        "    if gt_trajectory is not None:\n",
        "        assert transform is not None\n",
        "        # Переведем ground truth траекторию агента в систему координат фичемапы\n",
        "        gt_trajectory = np.concatenate(\n",
        "            (np.array([[0, 0]], dtype=np.float32), gt_trajectory),\n",
        "            axis=0)\n",
        "        transformed_gt = transform_2d_points(gt_trajectory, transform)\n",
        "        ax = plt.gca()\n",
        "        ax.add_collection(mc.LineCollection([transformed_gt], color='green'))\n",
        "\n",
        "    if pred_trajectory is not None:\n",
        "        assert transform is not None\n",
        "        prediction = np.concatenate(\n",
        "            (np.array([[0, 0]], dtype=np.float32), pred_trajectory),\n",
        "            axis=0)\n",
        "        transformed_prediction = transform_2d_points(prediction, renderer.to_feature_map_tf)\n",
        "        ax.add_collection(mc.LineCollection([transformed_prediction], color='red'))"
      ]
    },
    {
      "cell_type": "code",
      "execution_count": null,
      "id": "15322b98",
      "metadata": {
        "cellId": "msztgb6lm2gs5n6uvxgxi",
        "id": "15322b98",
        "outputId": "63363a08-0a76-41ce-c40c-182917b72f8f"
      },
      "outputs": [
        {
          "name": "stderr",
          "output_type": "stream",
          "text": [
            "/kernel/lib/python3.8/site-packages/ml_kernel/kernel.py:864: UserWarning: The following variables cannot be serialized: dataset, dataset_iter, test_dataset, val_dataset\n",
            "  warnings.warn(message)\n"
          ]
        }
      ],
      "source": [
        "#!c1.8\n",
        "# Поищем пример, где смещение по оси x было больше 5 метров в финальной точке.\n",
        "dataset_iter = iter(dataset)\n",
        "while True:\n",
        "    data_item = next(dataset_iter)\n",
        "    if data_item['ground_truth_trajectory'][-1, 0] > 5:\n",
        "        break"
      ]
    },
    {
      "cell_type": "code",
      "execution_count": null,
      "id": "d417d02f",
      "metadata": {
        "cellId": "hqaextm4t5ubaz3yg7hzud",
        "id": "d417d02f",
        "outputId": "a3fcb7b0-0dec-4b4a-8798-4535ae7bf8f5"
      },
      "outputs": [
        {
          "data": {
            "image/png": "[encoded data removed]",
            "text/plain": [
              "<Figure size 720x720 with 1 Axes>"
            ]
          },
          "metadata": {
            "needs_background": "light"
          },
          "output_type": "display_data"
        }
      ],
      "source": [
        "#!c1.8\n",
        "draw_feature_map(\n",
        "    data_item['prerendered_feature_map'],\n",
        "    data_item['ground_truth_trajectory'],\n",
        "    transform=renderer.to_feature_map_tf,\n",
        ")"
      ]
    },
    {
      "cell_type": "markdown",
      "id": "8d53d424",
      "metadata": {
        "cellId": "qqoo3hxprah2szsf9tg7ur",
        "id": "8d53d424"
      },
      "source": [
        "На изображении мы видим коробочки автомобилей, дорожную карту, а так же будущую траекторию автомобиля зеленым цветом."
      ]
    },
    {
      "cell_type": "markdown",
      "id": "b5e8b2b7",
      "metadata": {
        "cellId": "bq5a29bpz94hkqtqyfx17e",
        "id": "b5e8b2b7"
      },
      "source": [
        "### Метрики\n",
        "\n",
        "Одними из общепринятых метрик для оценки качества предсказания траекторий являются Average Displacement Error и Final Displacement Error, а так же их модификации minADE@k, minFDE@k для случая, когда мы прдесказываем больше одной траектории:\n",
        "- ADE - среднее по таймстемпам L2 отклонеие предсказания от ground truth\n",
        "- FDE - L2 отклонение последней предсказанной точки траектории от ground truth\n",
        "- minADE@k -- минимальное значение ADE по k наиболее вероятных предсказанных гипотез\n",
        "- minFDE@k -- минимальное значение FDE по k наиболее вероятных предсказанных гипотез"
      ]
    },
    {
      "cell_type": "code",
      "execution_count": null,
      "id": "46477a56",
      "metadata": {
        "cellId": "vfefdzwivkhonpe8gw8a",
        "id": "46477a56"
      },
      "outputs": [],
      "source": [
        "#!c1.8\n",
        "def ade(y_true, y_pred):\n",
        "    \"\"\"\n",
        "    Args:\n",
        "        y_true (np.ndarray): shape (batch, n_timestamps, 2)\n",
        "        y_pred (np.ndarray): shape (batch, n_timestamps, 2)\n",
        "\n",
        "    Returns:\n",
        "        np.ndarray: shape (batch, 1)\n",
        "    \"\"\"\n",
        "    return np.mean(np.linalg.norm(y_true - y_pred, axis=-1), axis=-1)"
      ]
    },
    {
      "cell_type": "code",
      "execution_count": null,
      "id": "57dfca3c",
      "metadata": {
        "cellId": "181m44bsf4wre79avzvrg",
        "id": "57dfca3c"
      },
      "outputs": [],
      "source": [
        "#!c1.8\n",
        "def fde(y_true, y_pred):\n",
        "    \"\"\"\n",
        "    Args:\n",
        "        y_true (np.ndarray): shape (batch, n_timestamps, 2)\n",
        "        y_pred (np.ndarray): shape (batch, n_timestamps, 2)\n",
        "\n",
        "    Returns:\n",
        "        np.ndarray: shape (batch, 1)\n",
        "    \"\"\"\n",
        "    return np.linalg.norm(y_true - y_pred, axis=-1)[..., -1]"
      ]
    },
    {
      "cell_type": "code",
      "execution_count": null,
      "id": "50800f27",
      "metadata": {
        "cellId": "37z83nd1delvwrzfyhwhc8",
        "id": "50800f27"
      },
      "outputs": [],
      "source": [
        "#!c1.8\n",
        "def min_ade(y_true, y_pred):\n",
        "    \"\"\"\n",
        "    Insert your code for minADE computation below.\n",
        "\n",
        "    Args:\n",
        "        y_true (np.ndarray): shape (batch, n_timestamps, 2)\n",
        "        y_pred (np.ndarray): shape (batch, n_modes, n_timestamps, 2)\n",
        "\n",
        "    Returns:\n",
        "        np.ndarray: shape (batch, 1)\n",
        "    \"\"\"\n",
        "    y_true = y_true[:, np.newaxis, ...]\n",
        "    return np.min(ade(y_true, y_pred), axis=1)"
      ]
    },
    {
      "cell_type": "code",
      "execution_count": null,
      "id": "64aa4266",
      "metadata": {
        "cellId": "jigdwbewiy5a370ln82",
        "id": "64aa4266"
      },
      "outputs": [],
      "source": [
        "#!c1.8\n",
        "def min_fde(y_true, y_pred):\n",
        "    \"\"\"\n",
        "    Insert your code for minFDE computation below.\n",
        "\n",
        "    Args:\n",
        "        y_true (np.ndarray): shape (batch, n_timestamps, 2)\n",
        "        y_pred (np.ndarray): shape (batch, n_modes, n_timestamps, 2)\n",
        "\n",
        "    Returns:\n",
        "        np.ndarray: shape (batch, 1)\n",
        "    \"\"\"\n",
        "    y_true = y_true[:, np.newaxis, ...]\n",
        "    return np.min(fde(y_true, y_pred), axis=1)"
      ]
    },
    {
      "cell_type": "markdown",
      "id": "ce8f2b81",
      "metadata": {
        "cellId": "ktbypdf0ch9jhk92tq7gb",
        "id": "ce8f2b81"
      },
      "source": [
        "### Модель с константной скоростью"
      ]
    },
    {
      "cell_type": "markdown",
      "id": "f8240018",
      "metadata": {
        "cellId": "g25qea3j0octtmqsjpq9el",
        "id": "f8240018"
      },
      "source": [
        "В качестве бейзлайна мы возьмем модель с постоянной скоростью. Она берет скорость автомобиля в последний известный момент времени и используя формулу `S = v * t` делает предсказание."
      ]
    },
    {
      "cell_type": "code",
      "execution_count": null,
      "id": "cbce2bfc",
      "metadata": {
        "cellId": "2o7arhwp9f3vpfhw35o1n",
        "id": "cbce2bfc"
      },
      "outputs": [],
      "source": [
        "#!c1.8\n",
        "import tensorflow as tf\n",
        "import tqdm\n",
        "\n",
        "from ysdc_dataset_api.features import FeatureVectorizer"
      ]
    },
    {
      "cell_type": "code",
      "execution_count": null,
      "id": "aef6237c",
      "metadata": {
        "cellId": "otbtnl109yj3sgbx133rfs",
        "id": "aef6237c",
        "outputId": "1550a64a-58b7-4a44-acd5-be83c1810218"
      },
      "outputs": [
        {
          "name": "stderr",
          "output_type": "stream",
          "text": [
            "/kernel/lib/python3.8/site-packages/ml_kernel/kernel.py:864: UserWarning: The following variables cannot be serialized: dataset, dataset_iter, test_dataset, val_dataset\n",
            "  warnings.warn(message)\n"
          ]
        }
      ],
      "source": [
        "#!c1.8\n",
        "inp = tf.keras.layers.Input(shape=(5, 8), name='vector_features')\n",
        "velocities = inp[:, -1, 2:4]\n",
        "time_grid = tf.linspace(0.2, 5, 25)\n",
        "out = tf.einsum('bc,t->btc', velocities, time_grid)\n",
        "\n",
        "model = tf.keras.Model(inp, out)"
      ]
    },
    {
      "cell_type": "code",
      "execution_count": null,
      "id": "63918df5",
      "metadata": {
        "cellId": "c5dw4xin21eospsch2upp",
        "id": "63918df5",
        "outputId": "8d2d6d1f-4406-4de7-d0eb-8a4ce125b792"
      },
      "outputs": [
        {
          "name": "stderr",
          "output_type": "stream",
          "text": [
            "0it [00:00, ?it/s]/usr/local/lib/python3.8/dist-packages/keras/engine/functional.py:582: UserWarning: Input dict contained keys ['ground_truth_trajectory', 'scene_id', 'track_id', 'prerendered_feature_map'] which did not match any model input. They will be ignored by the model.\n",
            "  warnings.warn(\n",
            "1it [00:00,  3.56it/s]/usr/local/lib/python3.8/dist-packages/keras/engine/functional.py:582: UserWarning: Input dict contained keys ['ground_truth_trajectory', 'scene_id', 'track_id', 'prerendered_feature_map'] which did not match any model input. They will be ignored by the model.\n",
            "  warnings.warn(\n",
            "2it [00:00,  4.01it/s]/usr/local/lib/python3.8/dist-packages/keras/engine/functional.py:582: UserWarning: Input dict contained keys ['ground_truth_trajectory', 'scene_id', 'track_id', 'prerendered_feature_map'] which did not match any model input. They will be ignored by the model.\n",
            "  warnings.warn(\n",
            "3it [00:00,  4.45it/s]/usr/local/lib/python3.8/dist-packages/keras/engine/functional.py:582: UserWarning: Input dict contained keys ['ground_truth_trajectory', 'scene_id', 'track_id', 'prerendered_feature_map'] which did not match any model input. They will be ignored by the model.\n",
            "  warnings.warn(\n",
            "4it [00:00,  4.60it/s]/usr/local/lib/python3.8/dist-packages/keras/engine/functional.py:582: UserWarning: Input dict contained keys ['ground_truth_trajectory', 'scene_id', 'track_id', 'prerendered_feature_map'] which did not match any model input. They will be ignored by the model.\n",
            "  warnings.warn(\n",
            "5it [00:01,  4.35it/s]/usr/local/lib/python3.8/dist-packages/keras/engine/functional.py:582: UserWarning: Input dict contained keys ['ground_truth_trajectory', 'scene_id', 'track_id', 'prerendered_feature_map'] which did not match any model input. They will be ignored by the model.\n",
            "  warnings.warn(\n",
            "6it [00:01,  4.05it/s]/usr/local/lib/python3.8/dist-packages/keras/engine/functional.py:582: UserWarning: Input dict contained keys ['ground_truth_trajectory', 'scene_id', 'track_id', 'prerendered_feature_map'] which did not match any model input. They will be ignored by the model.\n",
            "  warnings.warn(\n",
            "7it [00:01,  4.01it/s]/usr/local/lib/python3.8/dist-packages/keras/engine/functional.py:582: UserWarning: Input dict contained keys ['ground_truth_trajectory', 'scene_id', 'track_id', 'prerendered_feature_map'] which did not match any model input. They will be ignored by the model.\n",
            "  warnings.warn(\n",
            "8it [00:01,  3.88it/s]/usr/local/lib/python3.8/dist-packages/keras/engine/functional.py:582: UserWarning: Input dict contained keys ['ground_truth_trajectory', 'scene_id', 'track_id', 'prerendered_feature_map'] which did not match any model input. They will be ignored by the model.\n",
            "  warnings.warn(\n",
            "9it [00:02,  3.89it/s]/usr/local/lib/python3.8/dist-packages/keras/engine/functional.py:582: UserWarning: Input dict contained keys ['ground_truth_trajectory', 'scene_id', 'track_id', 'prerendered_feature_map'] which did not match any model input. They will be ignored by the model.\n",
            "  warnings.warn(\n",
            "10it [00:02,  3.78it/s]/usr/local/lib/python3.8/dist-packages/keras/engine/functional.py:582: UserWarning: Input dict contained keys ['ground_truth_trajectory', 'scene_id', 'track_id', 'prerendered_feature_map'] which did not match any model input. They will be ignored by the model.\n",
            "  warnings.warn(\n",
            "11it [00:02,  3.88it/s]/usr/local/lib/python3.8/dist-packages/keras/engine/functional.py:582: UserWarning: Input dict contained keys ['ground_truth_trajectory', 'scene_id', 'track_id', 'prerendered_feature_map'] which did not match any model input. They will be ignored by the model.\n",
            "  warnings.warn(\n",
            "12it [00:02,  3.94it/s]/usr/local/lib/python3.8/dist-packages/keras/engine/functional.py:582: UserWarning: Input dict contained keys ['ground_truth_trajectory', 'scene_id', 'track_id', 'prerendered_feature_map'] which did not match any model input. They will be ignored by the model.\n",
            "  warnings.warn(\n",
            "13it [00:03,  4.04it/s]/usr/local/lib/python3.8/dist-packages/keras/engine/functional.py:582: UserWarning: Input dict contained keys ['ground_truth_trajectory', 'scene_id', 'track_id', 'prerendered_feature_map'] which did not match any model input. They will be ignored by the model.\n",
            "  warnings.warn(\n",
            "14it [00:03,  3.91it/s]/usr/local/lib/python3.8/dist-packages/keras/engine/functional.py:582: UserWarning: Input dict contained keys ['ground_truth_trajectory', 'scene_id', 'track_id', 'prerendered_feature_map'] which did not match any model input. They will be ignored by the model.\n",
            "  warnings.warn(\n",
            "15it [00:03,  3.87it/s]/usr/local/lib/python3.8/dist-packages/keras/engine/functional.py:582: UserWarning: Input dict contained keys ['ground_truth_trajectory', 'scene_id', 'track_id', 'prerendered_feature_map'] which did not match any model input. They will be ignored by the model.\n",
            "  warnings.warn(\n",
            "16it [00:03,  3.87it/s]/usr/local/lib/python3.8/dist-packages/keras/engine/functional.py:582: UserWarning: Input dict contained keys ['ground_truth_trajectory', 'scene_id', 'track_id', 'prerendered_feature_map'] which did not match any model input. They will be ignored by the model.\n",
            "  warnings.warn(\n",
            "17it [00:04,  3.84it/s]/usr/local/lib/python3.8/dist-packages/keras/engine/functional.py:582: UserWarning: Input dict contained keys ['ground_truth_trajectory', 'scene_id', 'track_id', 'prerendered_feature_map'] which did not match any model input. They will be ignored by the model.\n",
            "  warnings.warn(\n",
            "18it [00:04,  3.88it/s]/usr/local/lib/python3.8/dist-packages/keras/engine/functional.py:582: UserWarning: Input dict contained keys ['ground_truth_trajectory', 'scene_id', 'track_id', 'prerendered_feature_map'] which did not match any model input. They will be ignored by the model.\n",
            "  warnings.warn(\n",
            "19it [00:04,  3.93it/s]/usr/local/lib/python3.8/dist-packages/keras/engine/functional.py:582: UserWarning: Input dict contained keys ['ground_truth_trajectory', 'scene_id', 'track_id', 'prerendered_feature_map'] which did not match any model input. They will be ignored by the model.\n",
            "  warnings.warn(\n",
            "20it [00:05,  3.80it/s]/usr/local/lib/python3.8/dist-packages/keras/engine/functional.py:582: UserWarning: Input dict contained keys ['ground_truth_trajectory', 'scene_id', 'track_id', 'prerendered_feature_map'] which did not match any model input. They will be ignored by the model.\n",
            "  warnings.warn(\n",
            "21it [00:05,  3.70it/s]/usr/local/lib/python3.8/dist-packages/keras/engine/functional.py:582: UserWarning: Input dict contained keys ['ground_truth_trajectory', 'scene_id', 'track_id', 'prerendered_feature_map'] which did not match any model input. They will be ignored by the model.\n",
            "  warnings.warn(\n",
            "22it [00:05,  3.83it/s]/usr/local/lib/python3.8/dist-packages/keras/engine/functional.py:582: UserWarning: Input dict contained keys ['ground_truth_trajectory', 'scene_id', 'track_id', 'prerendered_feature_map'] which did not match any model input. They will be ignored by the model.\n",
            "  warnings.warn(\n",
            "23it [00:05,  3.70it/s]/usr/local/lib/python3.8/dist-packages/keras/engine/functional.py:582: UserWarning: Input dict contained keys ['ground_truth_trajectory', 'scene_id', 'track_id', 'prerendered_feature_map'] which did not match any model input. They will be ignored by the model.\n",
            "  warnings.warn(\n",
            "24it [00:06,  3.55it/s]/usr/local/lib/python3.8/dist-packages/keras/engine/functional.py:582: UserWarning: Input dict contained keys ['ground_truth_trajectory', 'scene_id', 'track_id', 'prerendered_feature_map'] which did not match any model input. They will be ignored by the model.\n",
            "  warnings.warn(\n",
            "25it [00:06,  3.62it/s]/usr/local/lib/python3.8/dist-packages/keras/engine/functional.py:582: UserWarning: Input dict contained keys ['ground_truth_trajectory', 'scene_id', 'track_id', 'prerendered_feature_map'] which did not match any model input. They will be ignored by the model.\n",
            "  warnings.warn(\n",
            "26it [00:06,  3.54it/s]/usr/local/lib/python3.8/dist-packages/keras/engine/functional.py:582: UserWarning: Input dict contained keys ['ground_truth_trajectory', 'scene_id', 'track_id', 'prerendered_feature_map'] which did not match any model input. They will be ignored by the model.\n",
            "  warnings.warn(\n",
            "27it [00:06,  3.71it/s]/usr/local/lib/python3.8/dist-packages/keras/engine/functional.py:582: UserWarning: Input dict contained keys ['ground_truth_trajectory', 'scene_id', 'track_id', 'prerendered_feature_map'] which did not match any model input. They will be ignored by the model.\n",
            "  warnings.warn(\n",
            "28it [00:07,  3.55it/s]/usr/local/lib/python3.8/dist-packages/keras/engine/functional.py:582: UserWarning: Input dict contained keys ['ground_truth_trajectory', 'scene_id', 'track_id', 'prerendered_feature_map'] which did not match any model input. They will be ignored by the model.\n",
            "  warnings.warn(\n",
            "29it [00:07,  3.47it/s]/usr/local/lib/python3.8/dist-packages/keras/engine/functional.py:582: UserWarning: Input dict contained keys ['ground_truth_trajectory', 'scene_id', 'track_id', 'prerendered_feature_map'] which did not match any model input. They will be ignored by the model.\n",
            "  warnings.warn(\n",
            "30it [00:07,  3.71it/s]/usr/local/lib/python3.8/dist-packages/keras/engine/functional.py:582: UserWarning: Input dict contained keys ['ground_truth_trajectory', 'scene_id', 'track_id', 'prerendered_feature_map'] which did not match any model input. They will be ignored by the model.\n",
            "  warnings.warn(\n",
            "31it [00:08,  3.68it/s]/usr/local/lib/python3.8/dist-packages/keras/engine/functional.py:582: UserWarning: Input dict contained keys ['ground_truth_trajectory', 'scene_id', 'track_id', 'prerendered_feature_map'] which did not match any model input. They will be ignored by the model.\n",
            "  warnings.warn(\n",
            "32it [00:08,  3.62it/s]/usr/local/lib/python3.8/dist-packages/keras/engine/functional.py:582: UserWarning: Input dict contained keys ['ground_truth_trajectory', 'scene_id', 'track_id', 'prerendered_feature_map'] which did not match any model input. They will be ignored by the model.\n",
            "  warnings.warn(\n",
            "33it [00:08,  3.55it/s]/usr/local/lib/python3.8/dist-packages/keras/engine/functional.py:582: UserWarning: Input dict contained keys ['ground_truth_trajectory', 'scene_id', 'track_id', 'prerendered_feature_map'] which did not match any model input. They will be ignored by the model.\n",
            "  warnings.warn(\n",
            "34it [00:08,  3.79it/s]/usr/local/lib/python3.8/dist-packages/keras/engine/functional.py:582: UserWarning: Input dict contained keys ['ground_truth_trajectory', 'scene_id', 'track_id', 'prerendered_feature_map'] which did not match any model input. They will be ignored by the model.\n",
            "  warnings.warn(\n",
            "35it [00:09,  3.91it/s]/usr/local/lib/python3.8/dist-packages/keras/engine/functional.py:582: UserWarning: Input dict contained keys ['ground_truth_trajectory', 'scene_id', 'track_id', 'prerendered_feature_map'] which did not match any model input. They will be ignored by the model.\n",
            "  warnings.warn(\n",
            "36it [00:09,  3.95it/s]/usr/local/lib/python3.8/dist-packages/keras/engine/functional.py:582: UserWarning: Input dict contained keys ['ground_truth_trajectory', 'scene_id', 'track_id', 'prerendered_feature_map'] which did not match any model input. They will be ignored by the model.\n",
            "  warnings.warn(\n",
            "37it [00:09,  3.99it/s]/usr/local/lib/python3.8/dist-packages/keras/engine/functional.py:582: UserWarning: Input dict contained keys ['ground_truth_trajectory', 'scene_id', 'track_id', 'prerendered_feature_map'] which did not match any model input. They will be ignored by the model.\n",
            "  warnings.warn(\n",
            "38it [00:09,  4.09it/s]/usr/local/lib/python3.8/dist-packages/keras/engine/functional.py:582: UserWarning: Input dict contained keys ['ground_truth_trajectory', 'scene_id', 'track_id', 'prerendered_feature_map'] which did not match any model input. They will be ignored by the model.\n",
            "  warnings.warn(\n",
            "39it [00:10,  4.22it/s]/usr/local/lib/python3.8/dist-packages/keras/engine/functional.py:582: UserWarning: Input dict contained keys ['ground_truth_trajectory', 'scene_id', 'track_id', 'prerendered_feature_map'] which did not match any model input. They will be ignored by the model.\n",
            "  warnings.warn(\n",
            "40it [00:10,  4.10it/s]/usr/local/lib/python3.8/dist-packages/keras/engine/functional.py:582: UserWarning: Input dict contained keys ['ground_truth_trajectory', 'scene_id', 'track_id', 'prerendered_feature_map'] which did not match any model input. They will be ignored by the model.\n",
            "  warnings.warn(\n",
            "41it [00:10,  4.23it/s]/usr/local/lib/python3.8/dist-packages/keras/engine/functional.py:582: UserWarning: Input dict contained keys ['ground_truth_trajectory', 'scene_id', 'track_id', 'prerendered_feature_map'] which did not match any model input. They will be ignored by the model.\n",
            "  warnings.warn(\n",
            "42it [00:10,  4.25it/s]/usr/local/lib/python3.8/dist-packages/keras/engine/functional.py:582: UserWarning: Input dict contained keys ['ground_truth_trajectory', 'scene_id', 'track_id', 'prerendered_feature_map'] which did not match any model input. They will be ignored by the model.\n",
            "  warnings.warn(\n",
            "43it [00:10,  4.28it/s]/usr/local/lib/python3.8/dist-packages/keras/engine/functional.py:582: UserWarning: Input dict contained keys ['ground_truth_trajectory', 'scene_id', 'track_id', 'prerendered_feature_map'] which did not match any model input. They will be ignored by the model.\n",
            "  warnings.warn(\n",
            "44it [00:11,  4.31it/s]/usr/local/lib/python3.8/dist-packages/keras/engine/functional.py:582: UserWarning: Input dict contained keys ['ground_truth_trajectory', 'scene_id', 'track_id', 'prerendered_feature_map'] which did not match any model input. They will be ignored by the model.\n",
            "  warnings.warn(\n",
            "45it [00:11,  4.24it/s]/usr/local/lib/python3.8/dist-packages/keras/engine/functional.py:582: UserWarning: Input dict contained keys ['ground_truth_trajectory', 'scene_id', 'track_id', 'prerendered_feature_map'] which did not match any model input. They will be ignored by the model.\n",
            "  warnings.warn(\n",
            "46it [00:11,  4.30it/s]/usr/local/lib/python3.8/dist-packages/keras/engine/functional.py:582: UserWarning: Input dict contained keys ['ground_truth_trajectory', 'scene_id', 'track_id', 'prerendered_feature_map'] which did not match any model input. They will be ignored by the model.\n",
            "  warnings.warn(\n",
            "47it [00:11,  4.18it/s]/usr/local/lib/python3.8/dist-packages/keras/engine/functional.py:582: UserWarning: Input dict contained keys ['ground_truth_trajectory', 'scene_id', 'track_id', 'prerendered_feature_map'] which did not match any model input. They will be ignored by the model.\n",
            "  warnings.warn(\n",
            "48it [00:12,  4.23it/s]/usr/local/lib/python3.8/dist-packages/keras/engine/functional.py:582: UserWarning: Input dict contained keys ['ground_truth_trajectory', 'scene_id', 'track_id', 'prerendered_feature_map'] which did not match any model input. They will be ignored by the model.\n",
            "  warnings.warn(\n",
            "49it [00:12,  4.32it/s]/usr/local/lib/python3.8/dist-packages/keras/engine/functional.py:582: UserWarning: Input dict contained keys ['ground_truth_trajectory', 'scene_id', 'track_id', 'prerendered_feature_map'] which did not match any model input. They will be ignored by the model.\n",
            "  warnings.warn(\n",
            "50it [00:12,  4.00it/s]/usr/local/lib/python3.8/dist-packages/keras/engine/functional.py:582: UserWarning: Input dict contained keys ['ground_truth_trajectory', 'scene_id', 'track_id', 'prerendered_feature_map'] which did not match any model input. They will be ignored by the model.\n",
            "  warnings.warn(\n",
            "51it [00:12,  4.03it/s]/usr/local/lib/python3.8/dist-packages/keras/engine/functional.py:582: UserWarning: Input dict contained keys ['ground_truth_trajectory', 'scene_id', 'track_id', 'prerendered_feature_map'] which did not match any model input. They will be ignored by the model.\n",
            "  warnings.warn(\n",
            "52it [00:13,  3.89it/s]/usr/local/lib/python3.8/dist-packages/keras/engine/functional.py:582: UserWarning: Input dict contained keys ['ground_truth_trajectory', 'scene_id', 'track_id', 'prerendered_feature_map'] which did not match any model input. They will be ignored by the model.\n",
            "  warnings.warn(\n",
            "53it [00:13,  4.01it/s]/usr/local/lib/python3.8/dist-packages/keras/engine/functional.py:582: UserWarning: Input dict contained keys ['ground_truth_trajectory', 'scene_id', 'track_id', 'prerendered_feature_map'] which did not match any model input. They will be ignored by the model.\n",
            "  warnings.warn(\n",
            "54it [00:13,  4.10it/s]/usr/local/lib/python3.8/dist-packages/keras/engine/functional.py:582: UserWarning: Input dict contained keys ['ground_truth_trajectory', 'scene_id', 'track_id', 'prerendered_feature_map'] which did not match any model input. They will be ignored by the model.\n",
            "  warnings.warn(\n",
            "55it [00:13,  4.12it/s]/usr/local/lib/python3.8/dist-packages/keras/engine/functional.py:582: UserWarning: Input dict contained keys ['ground_truth_trajectory', 'scene_id', 'track_id', 'prerendered_feature_map'] which did not match any model input. They will be ignored by the model.\n",
            "  warnings.warn(\n",
            "56it [00:14,  4.27it/s]/usr/local/lib/python3.8/dist-packages/keras/engine/functional.py:582: UserWarning: Input dict contained keys ['ground_truth_trajectory', 'scene_id', 'track_id', 'prerendered_feature_map'] which did not match any model input. They will be ignored by the model.\n",
            "  warnings.warn(\n",
            "57it [00:14,  4.01it/s]/usr/local/lib/python3.8/dist-packages/keras/engine/functional.py:582: UserWarning: Input dict contained keys ['ground_truth_trajectory', 'scene_id', 'track_id', 'prerendered_feature_map'] which did not match any model input. They will be ignored by the model.\n",
            "  warnings.warn(\n",
            "58it [00:14,  4.11it/s]/usr/local/lib/python3.8/dist-packages/keras/engine/functional.py:582: UserWarning: Input dict contained keys ['ground_truth_trajectory', 'scene_id', 'track_id', 'prerendered_feature_map'] which did not match any model input. They will be ignored by the model.\n",
            "  warnings.warn(\n",
            "59it [00:14,  4.26it/s]/usr/local/lib/python3.8/dist-packages/keras/engine/functional.py:582: UserWarning: Input dict contained keys ['ground_truth_trajectory', 'scene_id', 'track_id', 'prerendered_feature_map'] which did not match any model input. They will be ignored by the model.\n",
            "  warnings.warn(\n",
            "60it [00:15,  4.34it/s]/usr/local/lib/python3.8/dist-packages/keras/engine/functional.py:582: UserWarning: Input dict contained keys ['ground_truth_trajectory', 'scene_id', 'track_id', 'prerendered_feature_map'] which did not match any model input. They will be ignored by the model.\n",
            "  warnings.warn(\n",
            "61it [00:15,  4.33it/s]/usr/local/lib/python3.8/dist-packages/keras/engine/functional.py:582: UserWarning: Input dict contained keys ['ground_truth_trajectory', 'scene_id', 'track_id', 'prerendered_feature_map'] which did not match any model input. They will be ignored by the model.\n",
            "  warnings.warn(\n",
            "62it [00:15,  4.40it/s]/usr/local/lib/python3.8/dist-packages/keras/engine/functional.py:582: UserWarning: Input dict contained keys ['ground_truth_trajectory', 'scene_id', 'track_id', 'prerendered_feature_map'] which did not match any model input. They will be ignored by the model.\n",
            "  warnings.warn(\n",
            "63it [00:15,  4.23it/s]/usr/local/lib/python3.8/dist-packages/keras/engine/functional.py:582: UserWarning: Input dict contained keys ['ground_truth_trajectory', 'scene_id', 'track_id', 'prerendered_feature_map'] which did not match any model input. They will be ignored by the model.\n",
            "  warnings.warn(\n",
            "64it [00:16,  4.14it/s]/usr/local/lib/python3.8/dist-packages/keras/engine/functional.py:582: UserWarning: Input dict contained keys ['ground_truth_trajectory', 'scene_id', 'track_id', 'prerendered_feature_map'] which did not match any model input. They will be ignored by the model.\n",
            "  warnings.warn(\n",
            "65it [00:16,  4.13it/s]/usr/local/lib/python3.8/dist-packages/keras/engine/functional.py:582: UserWarning: Input dict contained keys ['ground_truth_trajectory', 'scene_id', 'track_id', 'prerendered_feature_map'] which did not match any model input. They will be ignored by the model.\n",
            "  warnings.warn(\n",
            "66it [00:16,  4.16it/s]/usr/local/lib/python3.8/dist-packages/keras/engine/functional.py:582: UserWarning: Input dict contained keys ['ground_truth_trajectory', 'scene_id', 'track_id', 'prerendered_feature_map'] which did not match any model input. They will be ignored by the model.\n",
            "  warnings.warn(\n",
            "67it [00:16,  4.13it/s]/usr/local/lib/python3.8/dist-packages/keras/engine/functional.py:582: UserWarning: Input dict contained keys ['ground_truth_trajectory', 'scene_id', 'track_id', 'prerendered_feature_map'] which did not match any model input. They will be ignored by the model.\n",
            "  warnings.warn(\n",
            "68it [00:16,  4.18it/s]/usr/local/lib/python3.8/dist-packages/keras/engine/functional.py:582: UserWarning: Input dict contained keys ['ground_truth_trajectory', 'scene_id', 'track_id', 'prerendered_feature_map'] which did not match any model input. They will be ignored by the model.\n",
            "  warnings.warn(\n",
            "69it [00:17,  4.13it/s]/usr/local/lib/python3.8/dist-packages/keras/engine/functional.py:582: UserWarning: Input dict contained keys ['ground_truth_trajectory', 'scene_id', 'track_id', 'prerendered_feature_map'] which did not match any model input. They will be ignored by the model.\n",
            "  warnings.warn(\n",
            "70it [00:17,  4.07it/s]/usr/local/lib/python3.8/dist-packages/keras/engine/functional.py:582: UserWarning: Input dict contained keys ['ground_truth_trajectory', 'scene_id', 'track_id', 'prerendered_feature_map'] which did not match any model input. They will be ignored by the model.\n",
            "  warnings.warn(\n",
            "71it [00:17,  3.98it/s]/usr/local/lib/python3.8/dist-packages/keras/engine/functional.py:582: UserWarning: Input dict contained keys ['ground_truth_trajectory', 'scene_id', 'track_id', 'prerendered_feature_map'] which did not match any model input. They will be ignored by the model.\n",
            "  warnings.warn(\n",
            "72it [00:17,  4.04it/s]/usr/local/lib/python3.8/dist-packages/keras/engine/functional.py:582: UserWarning: Input dict contained keys ['ground_truth_trajectory', 'scene_id', 'track_id', 'prerendered_feature_map'] which did not match any model input. They will be ignored by the model.\n",
            "  warnings.warn(\n",
            "73it [00:18,  4.27it/s]/usr/local/lib/python3.8/dist-packages/keras/engine/functional.py:582: UserWarning: Input dict contained keys ['ground_truth_trajectory', 'scene_id', 'track_id', 'prerendered_feature_map'] which did not match any model input. They will be ignored by the model.\n",
            "  warnings.warn(\n",
            "74it [00:18,  4.31it/s]/usr/local/lib/python3.8/dist-packages/keras/engine/functional.py:582: UserWarning: Input dict contained keys ['ground_truth_trajectory', 'scene_id', 'track_id', 'prerendered_feature_map'] which did not match any model input. They will be ignored by the model.\n",
            "  warnings.warn(\n",
            "75it [00:18,  4.34it/s]/usr/local/lib/python3.8/dist-packages/keras/engine/functional.py:582: UserWarning: Input dict contained keys ['ground_truth_trajectory', 'scene_id', 'track_id', 'prerendered_feature_map'] which did not match any model input. They will be ignored by the model.\n",
            "  warnings.warn(\n",
            "76it [00:18,  4.11it/s]/usr/local/lib/python3.8/dist-packages/keras/engine/functional.py:582: UserWarning: Input dict contained keys ['ground_truth_trajectory', 'scene_id', 'track_id', 'prerendered_feature_map'] which did not match any model input. They will be ignored by the model.\n",
            "  warnings.warn(\n",
            "77it [00:19,  3.97it/s]/usr/local/lib/python3.8/dist-packages/keras/engine/functional.py:582: UserWarning: Input dict contained keys ['ground_truth_trajectory', 'scene_id', 'track_id', 'prerendered_feature_map'] which did not match any model input. They will be ignored by the model.\n",
            "  warnings.warn(\n",
            "78it [00:19,  3.96it/s]/usr/local/lib/python3.8/dist-packages/keras/engine/functional.py:582: UserWarning: Input dict contained keys ['ground_truth_trajectory', 'scene_id', 'track_id', 'prerendered_feature_map'] which did not match any model input. They will be ignored by the model.\n",
            "  warnings.warn(\n",
            "79it [00:19,  4.07it/s]/usr/local/lib/python3.8/dist-packages/keras/engine/functional.py:582: UserWarning: Input dict contained keys ['ground_truth_trajectory', 'scene_id', 'track_id', 'prerendered_feature_map'] which did not match any model input. They will be ignored by the model.\n",
            "  warnings.warn(\n",
            "80it [00:19,  4.13it/s]/usr/local/lib/python3.8/dist-packages/keras/engine/functional.py:582: UserWarning: Input dict contained keys ['ground_truth_trajectory', 'scene_id', 'track_id', 'prerendered_feature_map'] which did not match any model input. They will be ignored by the model.\n",
            "  warnings.warn(\n",
            "81it [00:20,  4.19it/s]/usr/local/lib/python3.8/dist-packages/keras/engine/functional.py:582: UserWarning: Input dict contained keys ['ground_truth_trajectory', 'scene_id', 'track_id', 'prerendered_feature_map'] which did not match any model input. They will be ignored by the model.\n",
            "  warnings.warn(\n",
            "82it [00:20,  4.23it/s]/usr/local/lib/python3.8/dist-packages/keras/engine/functional.py:582: UserWarning: Input dict contained keys ['ground_truth_trajectory', 'scene_id', 'track_id', 'prerendered_feature_map'] which did not match any model input. They will be ignored by the model.\n",
            "  warnings.warn(\n",
            "83it [00:20,  4.28it/s]/usr/local/lib/python3.8/dist-packages/keras/engine/functional.py:582: UserWarning: Input dict contained keys ['ground_truth_trajectory', 'scene_id', 'track_id', 'prerendered_feature_map'] which did not match any model input. They will be ignored by the model.\n",
            "  warnings.warn(\n",
            "84it [00:20,  4.25it/s]/usr/local/lib/python3.8/dist-packages/keras/engine/functional.py:582: UserWarning: Input dict contained keys ['ground_truth_trajectory', 'scene_id', 'track_id', 'prerendered_feature_map'] which did not match any model input. They will be ignored by the model.\n",
            "  warnings.warn(\n",
            "85it [00:21,  4.31it/s]/usr/local/lib/python3.8/dist-packages/keras/engine/functional.py:582: UserWarning: Input dict contained keys ['ground_truth_trajectory', 'scene_id', 'track_id', 'prerendered_feature_map'] which did not match any model input. They will be ignored by the model.\n",
            "  warnings.warn(\n",
            "86it [00:21,  4.31it/s]/usr/local/lib/python3.8/dist-packages/keras/engine/functional.py:582: UserWarning: Input dict contained keys ['ground_truth_trajectory', 'scene_id', 'track_id', 'prerendered_feature_map'] which did not match any model input. They will be ignored by the model.\n",
            "  warnings.warn(\n",
            "87it [00:21,  4.31it/s]/usr/local/lib/python3.8/dist-packages/keras/engine/functional.py:582: UserWarning: Input dict contained keys ['ground_truth_trajectory', 'scene_id', 'track_id', 'prerendered_feature_map'] which did not match any model input. They will be ignored by the model.\n",
            "  warnings.warn(\n",
            "88it [00:21,  4.24it/s]/usr/local/lib/python3.8/dist-packages/keras/engine/functional.py:582: UserWarning: Input dict contained keys ['ground_truth_trajectory', 'scene_id', 'track_id', 'prerendered_feature_map'] which did not match any model input. They will be ignored by the model.\n",
            "  warnings.warn(\n",
            "89it [00:21,  4.42it/s]/usr/local/lib/python3.8/dist-packages/keras/engine/functional.py:582: UserWarning: Input dict contained keys ['ground_truth_trajectory', 'scene_id', 'track_id', 'prerendered_feature_map'] which did not match any model input. They will be ignored by the model.\n",
            "  warnings.warn(\n",
            "90it [00:22,  4.29it/s]/usr/local/lib/python3.8/dist-packages/keras/engine/functional.py:582: UserWarning: Input dict contained keys ['ground_truth_trajectory', 'scene_id', 'track_id', 'prerendered_feature_map'] which did not match any model input. They will be ignored by the model.\n",
            "  warnings.warn(\n",
            "91it [00:22,  4.18it/s]/usr/local/lib/python3.8/dist-packages/keras/engine/functional.py:582: UserWarning: Input dict contained keys ['ground_truth_trajectory', 'scene_id', 'track_id', 'prerendered_feature_map'] which did not match any model input. They will be ignored by the model.\n",
            "  warnings.warn(\n",
            "92it [00:22,  4.21it/s]/usr/local/lib/python3.8/dist-packages/keras/engine/functional.py:582: UserWarning: Input dict contained keys ['ground_truth_trajectory', 'scene_id', 'track_id', 'prerendered_feature_map'] which did not match any model input. They will be ignored by the model.\n",
            "  warnings.warn(\n",
            "93it [00:22,  4.25it/s]/usr/local/lib/python3.8/dist-packages/keras/engine/functional.py:582: UserWarning: Input dict contained keys ['ground_truth_trajectory', 'scene_id', 'track_id', 'prerendered_feature_map'] which did not match any model input. They will be ignored by the model.\n",
            "  warnings.warn(\n",
            "94it [00:23,  4.09it/s]/usr/local/lib/python3.8/dist-packages/keras/engine/functional.py:582: UserWarning: Input dict contained keys ['ground_truth_trajectory', 'scene_id', 'track_id', 'prerendered_feature_map'] which did not match any model input. They will be ignored by the model.\n",
            "  warnings.warn(\n",
            "95it [00:23,  4.09it/s]/usr/local/lib/python3.8/dist-packages/keras/engine/functional.py:582: UserWarning: Input dict contained keys ['ground_truth_trajectory', 'scene_id', 'track_id', 'prerendered_feature_map'] which did not match any model input. They will be ignored by the model.\n",
            "  warnings.warn(\n",
            "96it [00:23,  4.19it/s]/usr/local/lib/python3.8/dist-packages/keras/engine/functional.py:582: UserWarning: Input dict contained keys ['ground_truth_trajectory', 'scene_id', 'track_id', 'prerendered_feature_map'] which did not match any model input. They will be ignored by the model.\n",
            "  warnings.warn(\n",
            "97it [00:23,  4.01it/s]/usr/local/lib/python3.8/dist-packages/keras/engine/functional.py:582: UserWarning: Input dict contained keys ['ground_truth_trajectory', 'scene_id', 'track_id', 'prerendered_feature_map'] which did not match any model input. They will be ignored by the model.\n",
            "  warnings.warn(\n",
            "98it [00:24,  3.83it/s]/usr/local/lib/python3.8/dist-packages/keras/engine/functional.py:582: UserWarning: Input dict contained keys ['ground_truth_trajectory', 'scene_id', 'track_id', 'prerendered_feature_map'] which did not match any model input. They will be ignored by the model.\n",
            "  warnings.warn(\n",
            "99it [00:24,  3.89it/s]/usr/local/lib/python3.8/dist-packages/keras/engine/functional.py:582: UserWarning: Input dict contained keys ['ground_truth_trajectory', 'scene_id', 'track_id', 'prerendered_feature_map'] which did not match any model input. They will be ignored by the model.\n",
            "  warnings.warn(\n",
            "100it [00:24,  3.99it/s]/usr/local/lib/python3.8/dist-packages/keras/engine/functional.py:582: UserWarning: Input dict contained keys ['ground_truth_trajectory', 'scene_id', 'track_id', 'prerendered_feature_map'] which did not match any model input. They will be ignored by the model.\n",
            "  warnings.warn(\n",
            "101it [00:24,  4.09it/s]/usr/local/lib/python3.8/dist-packages/keras/engine/functional.py:582: UserWarning: Input dict contained keys ['ground_truth_trajectory', 'scene_id', 'track_id', 'prerendered_feature_map'] which did not match any model input. They will be ignored by the model.\n",
            "  warnings.warn(\n",
            "102it [00:25,  4.20it/s]/usr/local/lib/python3.8/dist-packages/keras/engine/functional.py:582: UserWarning: Input dict contained keys ['ground_truth_trajectory', 'scene_id', 'track_id', 'prerendered_feature_map'] which did not match any model input. They will be ignored by the model.\n",
            "  warnings.warn(\n",
            "103it [00:25,  4.36it/s]/usr/local/lib/python3.8/dist-packages/keras/engine/functional.py:582: UserWarning: Input dict contained keys ['ground_truth_trajectory', 'scene_id', 'track_id', 'prerendered_feature_map'] which did not match any model input. They will be ignored by the model.\n",
            "  warnings.warn(\n",
            "104it [00:25,  4.47it/s]/usr/local/lib/python3.8/dist-packages/keras/engine/functional.py:582: UserWarning: Input dict contained keys ['ground_truth_trajectory', 'scene_id', 'track_id', 'prerendered_feature_map'] which did not match any model input. They will be ignored by the model.\n",
            "  warnings.warn(\n",
            "105it [00:25,  4.45it/s]/usr/local/lib/python3.8/dist-packages/keras/engine/functional.py:582: UserWarning: Input dict contained keys ['ground_truth_trajectory', 'scene_id', 'track_id', 'prerendered_feature_map'] which did not match any model input. They will be ignored by the model.\n",
            "  warnings.warn(\n",
            "106it [00:26,  4.36it/s]/usr/local/lib/python3.8/dist-packages/keras/engine/functional.py:582: UserWarning: Input dict contained keys ['ground_truth_trajectory', 'scene_id', 'track_id', 'prerendered_feature_map'] which did not match any model input. They will be ignored by the model.\n",
            "  warnings.warn(\n",
            "107it [00:26,  4.19it/s]/usr/local/lib/python3.8/dist-packages/keras/engine/functional.py:582: UserWarning: Input dict contained keys ['ground_truth_trajectory', 'scene_id', 'track_id', 'prerendered_feature_map'] which did not match any model input. They will be ignored by the model.\n",
            "  warnings.warn(\n",
            "108it [00:26,  4.30it/s]/usr/local/lib/python3.8/dist-packages/keras/engine/functional.py:582: UserWarning: Input dict contained keys ['ground_truth_trajectory', 'scene_id', 'track_id', 'prerendered_feature_map'] which did not match any model input. They will be ignored by the model.\n",
            "  warnings.warn(\n",
            "109it [00:26,  4.33it/s]/usr/local/lib/python3.8/dist-packages/keras/engine/functional.py:582: UserWarning: Input dict contained keys ['ground_truth_trajectory', 'scene_id', 'track_id', 'prerendered_feature_map'] which did not match any model input. They will be ignored by the model.\n",
            "  warnings.warn(\n",
            "110it [00:27,  3.97it/s]/usr/local/lib/python3.8/dist-packages/keras/engine/functional.py:582: UserWarning: Input dict contained keys ['ground_truth_trajectory', 'scene_id', 'track_id', 'prerendered_feature_map'] which did not match any model input. They will be ignored by the model.\n",
            "  warnings.warn(\n",
            "111it [00:28,  1.34it/s]/usr/local/lib/python3.8/dist-packages/keras/engine/functional.py:582: UserWarning: Input dict contained keys ['ground_truth_trajectory', 'scene_id', 'track_id', 'prerendered_feature_map'] which did not match any model input. They will be ignored by the model.\n",
            "  warnings.warn(\n",
            "112it [00:29,  1.63it/s]/usr/local/lib/python3.8/dist-packages/keras/engine/functional.py:582: UserWarning: Input dict contained keys ['ground_truth_trajectory', 'scene_id', 'track_id', 'prerendered_feature_map'] which did not match any model input. They will be ignored by the model.\n",
            "  warnings.warn(\n",
            "113it [00:29,  1.84it/s]/usr/local/lib/python3.8/dist-packages/keras/engine/functional.py:582: UserWarning: Input dict contained keys ['ground_truth_trajectory', 'scene_id', 'track_id', 'prerendered_feature_map'] which did not match any model input. They will be ignored by the model.\n",
            "  warnings.warn(\n",
            "114it [00:29,  2.15it/s]/usr/local/lib/python3.8/dist-packages/keras/engine/functional.py:582: UserWarning: Input dict contained keys ['ground_truth_trajectory', 'scene_id', 'track_id', 'prerendered_feature_map'] which did not match any model input. They will be ignored by the model.\n",
            "  warnings.warn(\n",
            "115it [00:30,  2.47it/s]/usr/local/lib/python3.8/dist-packages/keras/engine/functional.py:582: UserWarning: Input dict contained keys ['ground_truth_trajectory', 'scene_id', 'track_id', 'prerendered_feature_map'] which did not match any model input. They will be ignored by the model.\n",
            "  warnings.warn(\n",
            "116it [00:30,  2.73it/s]/usr/local/lib/python3.8/dist-packages/keras/engine/functional.py:582: UserWarning: Input dict contained keys ['ground_truth_trajectory', 'scene_id', 'track_id', 'prerendered_feature_map'] which did not match any model input. They will be ignored by the model.\n",
            "  warnings.warn(\n",
            "117it [00:30,  2.95it/s]/usr/local/lib/python3.8/dist-packages/keras/engine/functional.py:582: UserWarning: Input dict contained keys ['ground_truth_trajectory', 'scene_id', 'track_id', 'prerendered_feature_map'] which did not match any model input. They will be ignored by the model.\n",
            "  warnings.warn(\n",
            "118it [00:31,  2.98it/s]/usr/local/lib/python3.8/dist-packages/keras/engine/functional.py:582: UserWarning: Input dict contained keys ['ground_truth_trajectory', 'scene_id', 'track_id', 'prerendered_feature_map'] which did not match any model input. They will be ignored by the model.\n",
            "  warnings.warn(\n",
            "119it [00:31,  3.05it/s]/usr/local/lib/python3.8/dist-packages/keras/engine/functional.py:582: UserWarning: Input dict contained keys ['ground_truth_trajectory', 'scene_id', 'track_id', 'prerendered_feature_map'] which did not match any model input. They will be ignored by the model.\n",
            "  warnings.warn(\n",
            "120it [00:31,  3.27it/s]/usr/local/lib/python3.8/dist-packages/keras/engine/functional.py:582: UserWarning: Input dict contained keys ['ground_truth_trajectory', 'scene_id', 'track_id', 'prerendered_feature_map'] which did not match any model input. They will be ignored by the model.\n",
            "  warnings.warn(\n",
            "121it [00:31,  3.40it/s]/usr/local/lib/python3.8/dist-packages/keras/engine/functional.py:582: UserWarning: Input dict contained keys ['ground_truth_trajectory', 'scene_id', 'track_id', 'prerendered_feature_map'] which did not match any model input. They will be ignored by the model.\n",
            "  warnings.warn(\n",
            "122it [00:32,  3.44it/s]/usr/local/lib/python3.8/dist-packages/keras/engine/functional.py:582: UserWarning: Input dict contained keys ['ground_truth_trajectory', 'scene_id', 'track_id', 'prerendered_feature_map'] which did not match any model input. They will be ignored by the model.\n",
            "  warnings.warn(\n",
            "123it [00:32,  3.67it/s]/usr/local/lib/python3.8/dist-packages/keras/engine/functional.py:582: UserWarning: Input dict contained keys ['ground_truth_trajectory', 'scene_id', 'track_id', 'prerendered_feature_map'] which did not match any model input. They will be ignored by the model.\n",
            "  warnings.warn(\n",
            "124it [00:32,  3.64it/s]/usr/local/lib/python3.8/dist-packages/keras/engine/functional.py:582: UserWarning: Input dict contained keys ['ground_truth_trajectory', 'scene_id', 'track_id', 'prerendered_feature_map'] which did not match any model input. They will be ignored by the model.\n",
            "  warnings.warn(\n",
            "125it [00:32,  3.64it/s]/usr/local/lib/python3.8/dist-packages/keras/engine/functional.py:582: UserWarning: Input dict contained keys ['ground_truth_trajectory', 'scene_id', 'track_id', 'prerendered_feature_map'] which did not match any model input. They will be ignored by the model.\n",
            "  warnings.warn(\n",
            "126it [00:33,  3.64it/s]/usr/local/lib/python3.8/dist-packages/keras/engine/functional.py:582: UserWarning: Input dict contained keys ['ground_truth_trajectory', 'scene_id', 'track_id', 'prerendered_feature_map'] which did not match any model input. They will be ignored by the model.\n",
            "  warnings.warn(\n",
            "127it [00:33,  3.76it/s]/usr/local/lib/python3.8/dist-packages/keras/engine/functional.py:582: UserWarning: Input dict contained keys ['ground_truth_trajectory', 'scene_id', 'track_id', 'prerendered_feature_map'] which did not match any model input. They will be ignored by the model.\n",
            "  warnings.warn(\n",
            "128it [00:33,  3.87it/s]/usr/local/lib/python3.8/dist-packages/keras/engine/functional.py:582: UserWarning: Input dict contained keys ['ground_truth_trajectory', 'scene_id', 'track_id', 'prerendered_feature_map'] which did not match any model input. They will be ignored by the model.\n",
            "  warnings.warn(\n",
            "129it [00:33,  3.96it/s]/usr/local/lib/python3.8/dist-packages/keras/engine/functional.py:582: UserWarning: Input dict contained keys ['ground_truth_trajectory', 'scene_id', 'track_id', 'prerendered_feature_map'] which did not match any model input. They will be ignored by the model.\n",
            "  warnings.warn(\n",
            "130it [00:34,  4.01it/s]/usr/local/lib/python3.8/dist-packages/keras/engine/functional.py:582: UserWarning: Input dict contained keys ['ground_truth_trajectory', 'scene_id', 'track_id', 'prerendered_feature_map'] which did not match any model input. They will be ignored by the model.\n",
            "  warnings.warn(\n",
            "131it [00:34,  4.07it/s]/usr/local/lib/python3.8/dist-packages/keras/engine/functional.py:582: UserWarning: Input dict contained keys ['ground_truth_trajectory', 'scene_id', 'track_id', 'prerendered_feature_map'] which did not match any model input. They will be ignored by the model.\n",
            "  warnings.warn(\n",
            "132it [00:34,  3.97it/s]/usr/local/lib/python3.8/dist-packages/keras/engine/functional.py:582: UserWarning: Input dict contained keys ['ground_truth_trajectory', 'scene_id', 'track_id', 'prerendered_feature_map'] which did not match any model input. They will be ignored by the model.\n",
            "  warnings.warn(\n",
            "133it [00:34,  4.05it/s]/usr/local/lib/python3.8/dist-packages/keras/engine/functional.py:582: UserWarning: Input dict contained keys ['ground_truth_trajectory', 'scene_id', 'track_id', 'prerendered_feature_map'] which did not match any model input. They will be ignored by the model.\n",
            "  warnings.warn(\n",
            "134it [00:35,  4.03it/s]/usr/local/lib/python3.8/dist-packages/keras/engine/functional.py:582: UserWarning: Input dict contained keys ['ground_truth_trajectory', 'scene_id', 'track_id', 'prerendered_feature_map'] which did not match any model input. They will be ignored by the model.\n",
            "  warnings.warn(\n",
            "135it [00:35,  4.09it/s]/usr/local/lib/python3.8/dist-packages/keras/engine/functional.py:582: UserWarning: Input dict contained keys ['ground_truth_trajectory', 'scene_id', 'track_id', 'prerendered_feature_map'] which did not match any model input. They will be ignored by the model.\n",
            "  warnings.warn(\n",
            "136it [00:35,  4.23it/s]/usr/local/lib/python3.8/dist-packages/keras/engine/functional.py:582: UserWarning: Input dict contained keys ['ground_truth_trajectory', 'scene_id', 'track_id', 'prerendered_feature_map'] which did not match any model input. They will be ignored by the model.\n",
            "  warnings.warn(\n",
            "137it [00:35,  4.29it/s]/usr/local/lib/python3.8/dist-packages/keras/engine/functional.py:582: UserWarning: Input dict contained keys ['ground_truth_trajectory', 'scene_id', 'track_id', 'prerendered_feature_map'] which did not match any model input. They will be ignored by the model.\n",
            "  warnings.warn(\n",
            "138it [00:36,  4.33it/s]/usr/local/lib/python3.8/dist-packages/keras/engine/functional.py:582: UserWarning: Input dict contained keys ['ground_truth_trajectory', 'scene_id', 'track_id', 'prerendered_feature_map'] which did not match any model input. They will be ignored by the model.\n",
            "  warnings.warn(\n",
            "139it [00:36,  4.32it/s]/usr/local/lib/python3.8/dist-packages/keras/engine/functional.py:582: UserWarning: Input dict contained keys ['ground_truth_trajectory', 'scene_id', 'track_id', 'prerendered_feature_map'] which did not match any model input. They will be ignored by the model.\n",
            "  warnings.warn(\n",
            "140it [00:36,  4.33it/s]/usr/local/lib/python3.8/dist-packages/keras/engine/functional.py:582: UserWarning: Input dict contained keys ['ground_truth_trajectory', 'scene_id', 'track_id', 'prerendered_feature_map'] which did not match any model input. They will be ignored by the model.\n",
            "  warnings.warn(\n",
            "141it [00:36,  4.23it/s]/usr/local/lib/python3.8/dist-packages/keras/engine/functional.py:582: UserWarning: Input dict contained keys ['ground_truth_trajectory', 'scene_id', 'track_id', 'prerendered_feature_map'] which did not match any model input. They will be ignored by the model.\n",
            "  warnings.warn(\n",
            "142it [00:37,  4.08it/s]/usr/local/lib/python3.8/dist-packages/keras/engine/functional.py:582: UserWarning: Input dict contained keys ['ground_truth_trajectory', 'scene_id', 'track_id', 'prerendered_feature_map'] which did not match any model input. They will be ignored by the model.\n",
            "  warnings.warn(\n",
            "143it [00:37,  3.94it/s]/usr/local/lib/python3.8/dist-packages/keras/engine/functional.py:582: UserWarning: Input dict contained keys ['ground_truth_trajectory', 'scene_id', 'track_id', 'prerendered_feature_map'] which did not match any model input. They will be ignored by the model.\n",
            "  warnings.warn(\n",
            "144it [00:37,  4.05it/s]/usr/local/lib/python3.8/dist-packages/keras/engine/functional.py:582: UserWarning: Input dict contained keys ['ground_truth_trajectory', 'scene_id', 'track_id', 'prerendered_feature_map'] which did not match any model input. They will be ignored by the model.\n",
            "  warnings.warn(\n",
            "145it [00:37,  4.29it/s]/usr/local/lib/python3.8/dist-packages/keras/engine/functional.py:582: UserWarning: Input dict contained keys ['ground_truth_trajectory', 'scene_id', 'track_id', 'prerendered_feature_map'] which did not match any model input. They will be ignored by the model.\n",
            "  warnings.warn(\n",
            "146it [00:38,  4.25it/s]/usr/local/lib/python3.8/dist-packages/keras/engine/functional.py:582: UserWarning: Input dict contained keys ['ground_truth_trajectory', 'scene_id', 'track_id', 'prerendered_feature_map'] which did not match any model input. They will be ignored by the model.\n",
            "  warnings.warn(\n",
            "147it [00:38,  4.45it/s]/usr/local/lib/python3.8/dist-packages/keras/engine/functional.py:582: UserWarning: Input dict contained keys ['ground_truth_trajectory', 'scene_id', 'track_id', 'prerendered_feature_map'] which did not match any model input. They will be ignored by the model.\n",
            "  warnings.warn(\n",
            "148it [00:38,  4.46it/s]/usr/local/lib/python3.8/dist-packages/keras/engine/functional.py:582: UserWarning: Input dict contained keys ['ground_truth_trajectory', 'scene_id', 'track_id', 'prerendered_feature_map'] which did not match any model input. They will be ignored by the model.\n",
            "  warnings.warn(\n",
            "149it [00:38,  4.32it/s]/usr/local/lib/python3.8/dist-packages/keras/engine/functional.py:582: UserWarning: Input dict contained keys ['ground_truth_trajectory', 'scene_id', 'track_id', 'prerendered_feature_map'] which did not match any model input. They will be ignored by the model.\n",
            "  warnings.warn(\n",
            "150it [00:38,  4.14it/s]/usr/local/lib/python3.8/dist-packages/keras/engine/functional.py:582: UserWarning: Input dict contained keys ['ground_truth_trajectory', 'scene_id', 'track_id', 'prerendered_feature_map'] which did not match any model input. They will be ignored by the model.\n",
            "  warnings.warn(\n",
            "151it [00:39,  3.88it/s]/usr/local/lib/python3.8/dist-packages/keras/engine/functional.py:582: UserWarning: Input dict contained keys ['ground_truth_trajectory', 'scene_id', 'track_id', 'prerendered_feature_map'] which did not match any model input. They will be ignored by the model.\n",
            "  warnings.warn(\n",
            "152it [00:39,  3.98it/s]/usr/local/lib/python3.8/dist-packages/keras/engine/functional.py:582: UserWarning: Input dict contained keys ['ground_truth_trajectory', 'scene_id', 'track_id', 'prerendered_feature_map'] which did not match any model input. They will be ignored by the model.\n",
            "  warnings.warn(\n",
            "153it [00:39,  4.04it/s]/usr/local/lib/python3.8/dist-packages/keras/engine/functional.py:582: UserWarning: Input dict contained keys ['ground_truth_trajectory', 'scene_id', 'track_id', 'prerendered_feature_map'] which did not match any model input. They will be ignored by the model.\n",
            "  warnings.warn(\n",
            "154it [00:40,  3.87it/s]/usr/local/lib/python3.8/dist-packages/keras/engine/functional.py:582: UserWarning: Input dict contained keys ['ground_truth_trajectory', 'scene_id', 'track_id', 'prerendered_feature_map'] which did not match any model input. They will be ignored by the model.\n",
            "  warnings.warn(\n",
            "155it [00:40,  3.90it/s]/usr/local/lib/python3.8/dist-packages/keras/engine/functional.py:582: UserWarning: Input dict contained keys ['ground_truth_trajectory', 'scene_id', 'track_id', 'prerendered_feature_map'] which did not match any model input. They will be ignored by the model.\n",
            "  warnings.warn(\n",
            "156it [00:40,  3.89it/s]/usr/local/lib/python3.8/dist-packages/keras/engine/functional.py:582: UserWarning: Input dict contained keys ['ground_truth_trajectory', 'scene_id', 'track_id', 'prerendered_feature_map'] which did not match any model input. They will be ignored by the model.\n",
            "  warnings.warn(\n",
            "157it [00:40,  3.86it/s]/usr/local/lib/python3.8/dist-packages/keras/engine/functional.py:582: UserWarning: Input dict contained keys ['ground_truth_trajectory', 'scene_id', 'track_id', 'prerendered_feature_map'] which did not match any model input. They will be ignored by the model.\n",
            "  warnings.warn(\n",
            "158it [00:41,  4.07it/s]/usr/local/lib/python3.8/dist-packages/keras/engine/functional.py:582: UserWarning: Input dict contained keys ['ground_truth_trajectory', 'scene_id', 'track_id', 'prerendered_feature_map'] which did not match any model input. They will be ignored by the model.\n",
            "  warnings.warn(\n",
            "159it [00:41,  3.95it/s]/usr/local/lib/python3.8/dist-packages/keras/engine/functional.py:582: UserWarning: Input dict contained keys ['ground_truth_trajectory', 'scene_id', 'track_id', 'prerendered_feature_map'] which did not match any model input. They will be ignored by the model.\n",
            "  warnings.warn(\n",
            "160it [00:41,  4.09it/s]/usr/local/lib/python3.8/dist-packages/keras/engine/functional.py:582: UserWarning: Input dict contained keys ['ground_truth_trajectory', 'scene_id', 'track_id', 'prerendered_feature_map'] which did not match any model input. They will be ignored by the model.\n",
            "  warnings.warn(\n",
            "161it [00:41,  4.13it/s]/usr/local/lib/python3.8/dist-packages/keras/engine/functional.py:582: UserWarning: Input dict contained keys ['ground_truth_trajectory', 'scene_id', 'track_id', 'prerendered_feature_map'] which did not match any model input. They will be ignored by the model.\n",
            "  warnings.warn(\n",
            "162it [00:41,  4.19it/s]/usr/local/lib/python3.8/dist-packages/keras/engine/functional.py:582: UserWarning: Input dict contained keys ['ground_truth_trajectory', 'scene_id', 'track_id', 'prerendered_feature_map'] which did not match any model input. They will be ignored by the model.\n",
            "  warnings.warn(\n",
            "163it [00:42,  4.10it/s]/usr/local/lib/python3.8/dist-packages/keras/engine/functional.py:582: UserWarning: Input dict contained keys ['ground_truth_trajectory', 'scene_id', 'track_id', 'prerendered_feature_map'] which did not match any model input. They will be ignored by the model.\n",
            "  warnings.warn(\n",
            "164it [00:42,  4.09it/s]/usr/local/lib/python3.8/dist-packages/keras/engine/functional.py:582: UserWarning: Input dict contained keys ['ground_truth_trajectory', 'scene_id', 'track_id', 'prerendered_feature_map'] which did not match any model input. They will be ignored by the model.\n",
            "  warnings.warn(\n",
            "165it [00:42,  4.03it/s]/usr/local/lib/python3.8/dist-packages/keras/engine/functional.py:582: UserWarning: Input dict contained keys ['ground_truth_trajectory', 'scene_id', 'track_id', 'prerendered_feature_map'] which did not match any model input. They will be ignored by the model.\n",
            "  warnings.warn(\n",
            "166it [00:43,  3.86it/s]/usr/local/lib/python3.8/dist-packages/keras/engine/functional.py:582: UserWarning: Input dict contained keys ['ground_truth_trajectory', 'scene_id', 'track_id', 'prerendered_feature_map'] which did not match any model input. They will be ignored by the model.\n",
            "  warnings.warn(\n",
            "167it [00:43,  3.73it/s]/usr/local/lib/python3.8/dist-packages/keras/engine/functional.py:582: UserWarning: Input dict contained keys ['ground_truth_trajectory', 'scene_id', 'track_id', 'prerendered_feature_map'] which did not match any model input. They will be ignored by the model.\n",
            "  warnings.warn(\n",
            "168it [00:43,  3.70it/s]/usr/local/lib/python3.8/dist-packages/keras/engine/functional.py:582: UserWarning: Input dict contained keys ['ground_truth_trajectory', 'scene_id', 'track_id', 'prerendered_feature_map'] which did not match any model input. They will be ignored by the model.\n",
            "  warnings.warn(\n",
            "169it [00:43,  3.79it/s]/usr/local/lib/python3.8/dist-packages/keras/engine/functional.py:582: UserWarning: Input dict contained keys ['ground_truth_trajectory', 'scene_id', 'track_id', 'prerendered_feature_map'] which did not match any model input. They will be ignored by the model.\n",
            "  warnings.warn(\n",
            "170it [00:44,  3.73it/s]/usr/local/lib/python3.8/dist-packages/keras/engine/functional.py:582: UserWarning: Input dict contained keys ['ground_truth_trajectory', 'scene_id', 'track_id', 'prerendered_feature_map'] which did not match any model input. They will be ignored by the model.\n",
            "  warnings.warn(\n",
            "171it [00:44,  3.74it/s]/usr/local/lib/python3.8/dist-packages/keras/engine/functional.py:582: UserWarning: Input dict contained keys ['ground_truth_trajectory', 'scene_id', 'track_id', 'prerendered_feature_map'] which did not match any model input. They will be ignored by the model.\n",
            "  warnings.warn(\n",
            "172it [00:44,  3.73it/s]/usr/local/lib/python3.8/dist-packages/keras/engine/functional.py:582: UserWarning: Input dict contained keys ['ground_truth_trajectory', 'scene_id', 'track_id', 'prerendered_feature_map'] which did not match any model input. They will be ignored by the model.\n",
            "  warnings.warn(\n",
            "173it [00:44,  3.83it/s]/usr/local/lib/python3.8/dist-packages/keras/engine/functional.py:582: UserWarning: Input dict contained keys ['ground_truth_trajectory', 'scene_id', 'track_id', 'prerendered_feature_map'] which did not match any model input. They will be ignored by the model.\n",
            "  warnings.warn(\n",
            "174it [00:45,  3.88it/s]/usr/local/lib/python3.8/dist-packages/keras/engine/functional.py:582: UserWarning: Input dict contained keys ['ground_truth_trajectory', 'scene_id', 'track_id', 'prerendered_feature_map'] which did not match any model input. They will be ignored by the model.\n",
            "  warnings.warn(\n",
            "175it [00:45,  4.13it/s]/usr/local/lib/python3.8/dist-packages/keras/engine/functional.py:582: UserWarning: Input dict contained keys ['ground_truth_trajectory', 'scene_id', 'track_id', 'prerendered_feature_map'] which did not match any model input. They will be ignored by the model.\n",
            "  warnings.warn(\n",
            "176it [00:45,  4.14it/s]/usr/local/lib/python3.8/dist-packages/keras/engine/functional.py:582: UserWarning: Input dict contained keys ['ground_truth_trajectory', 'scene_id', 'track_id', 'prerendered_feature_map'] which did not match any model input. They will be ignored by the model.\n",
            "  warnings.warn(\n",
            "177it [00:45,  4.30it/s]/usr/local/lib/python3.8/dist-packages/keras/engine/functional.py:582: UserWarning: Input dict contained keys ['ground_truth_trajectory', 'scene_id', 'track_id', 'prerendered_feature_map'] which did not match any model input. They will be ignored by the model.\n",
            "  warnings.warn(\n",
            "178it [00:46,  4.31it/s]/usr/local/lib/python3.8/dist-packages/keras/engine/functional.py:582: UserWarning: Input dict contained keys ['ground_truth_trajectory', 'scene_id', 'track_id', 'prerendered_feature_map'] which did not match any model input. They will be ignored by the model.\n",
            "  warnings.warn(\n",
            "179it [00:46,  4.29it/s]/usr/local/lib/python3.8/dist-packages/keras/engine/functional.py:582: UserWarning: Input dict contained keys ['ground_truth_trajectory', 'scene_id', 'track_id', 'prerendered_feature_map'] which did not match any model input. They will be ignored by the model.\n",
            "  warnings.warn(\n",
            "180it [00:46,  4.30it/s]/usr/local/lib/python3.8/dist-packages/keras/engine/functional.py:582: UserWarning: Input dict contained keys ['ground_truth_trajectory', 'scene_id', 'track_id', 'prerendered_feature_map'] which did not match any model input. They will be ignored by the model.\n",
            "  warnings.warn(\n",
            "181it [00:46,  4.39it/s]/usr/local/lib/python3.8/dist-packages/keras/engine/functional.py:582: UserWarning: Input dict contained keys ['ground_truth_trajectory', 'scene_id', 'track_id', 'prerendered_feature_map'] which did not match any model input. They will be ignored by the model.\n",
            "  warnings.warn(\n",
            "182it [00:46,  4.48it/s]/usr/local/lib/python3.8/dist-packages/keras/engine/functional.py:582: UserWarning: Input dict contained keys ['ground_truth_trajectory', 'scene_id', 'track_id', 'prerendered_feature_map'] which did not match any model input. They will be ignored by the model.\n",
            "  warnings.warn(\n",
            "183it [00:47,  4.41it/s]/usr/local/lib/python3.8/dist-packages/keras/engine/functional.py:582: UserWarning: Input dict contained keys ['ground_truth_trajectory', 'scene_id', 'track_id', 'prerendered_feature_map'] which did not match any model input. They will be ignored by the model.\n",
            "  warnings.warn(\n",
            "184it [00:47,  4.36it/s]/usr/local/lib/python3.8/dist-packages/keras/engine/functional.py:582: UserWarning: Input dict contained keys ['ground_truth_trajectory', 'scene_id', 'track_id', 'prerendered_feature_map'] which did not match any model input. They will be ignored by the model.\n",
            "  warnings.warn(\n",
            "185it [00:47,  4.31it/s]/usr/local/lib/python3.8/dist-packages/keras/engine/functional.py:582: UserWarning: Input dict contained keys ['ground_truth_trajectory', 'scene_id', 'track_id', 'prerendered_feature_map'] which did not match any model input. They will be ignored by the model.\n",
            "  warnings.warn(\n",
            "186it [00:47,  4.09it/s]/usr/local/lib/python3.8/dist-packages/keras/engine/functional.py:582: UserWarning: Input dict contained keys ['ground_truth_trajectory', 'scene_id', 'track_id', 'prerendered_feature_map'] which did not match any model input. They will be ignored by the model.\n",
            "  warnings.warn(\n",
            "187it [00:48,  4.00it/s]/usr/local/lib/python3.8/dist-packages/keras/engine/functional.py:582: UserWarning: Input dict contained keys ['ground_truth_trajectory', 'scene_id', 'track_id', 'prerendered_feature_map'] which did not match any model input. They will be ignored by the model.\n",
            "  warnings.warn(\n",
            "188it [00:48,  4.00it/s]/usr/local/lib/python3.8/dist-packages/keras/engine/functional.py:582: UserWarning: Input dict contained keys ['ground_truth_trajectory', 'scene_id', 'track_id', 'prerendered_feature_map'] which did not match any model input. They will be ignored by the model.\n",
            "  warnings.warn(\n",
            "189it [00:48,  4.07it/s]/usr/local/lib/python3.8/dist-packages/keras/engine/functional.py:582: UserWarning: Input dict contained keys ['ground_truth_trajectory', 'scene_id', 'track_id', 'prerendered_feature_map'] which did not match any model input. They will be ignored by the model.\n",
            "  warnings.warn(\n",
            "190it [00:48,  4.22it/s]/usr/local/lib/python3.8/dist-packages/keras/engine/functional.py:582: UserWarning: Input dict contained keys ['ground_truth_trajectory', 'scene_id', 'track_id', 'prerendered_feature_map'] which did not match any model input. They will be ignored by the model.\n",
            "  warnings.warn(\n",
            "191it [00:49,  4.11it/s]/usr/local/lib/python3.8/dist-packages/keras/engine/functional.py:582: UserWarning: Input dict contained keys ['ground_truth_trajectory', 'scene_id', 'track_id', 'prerendered_feature_map'] which did not match any model input. They will be ignored by the model.\n",
            "  warnings.warn(\n",
            "192it [00:49,  4.15it/s]/usr/local/lib/python3.8/dist-packages/keras/engine/functional.py:582: UserWarning: Input dict contained keys ['ground_truth_trajectory', 'scene_id', 'track_id', 'prerendered_feature_map'] which did not match any model input. They will be ignored by the model.\n",
            "  warnings.warn(\n",
            "193it [00:49,  4.24it/s]/usr/local/lib/python3.8/dist-packages/keras/engine/functional.py:582: UserWarning: Input dict contained keys ['ground_truth_trajectory', 'scene_id', 'track_id', 'prerendered_feature_map'] which did not match any model input. They will be ignored by the model.\n",
            "  warnings.warn(\n",
            "194it [00:49,  4.22it/s]/usr/local/lib/python3.8/dist-packages/keras/engine/functional.py:582: UserWarning: Input dict contained keys ['ground_truth_trajectory', 'scene_id', 'track_id', 'prerendered_feature_map'] which did not match any model input. They will be ignored by the model.\n",
            "  warnings.warn(\n",
            "195it [00:50,  4.27it/s]/usr/local/lib/python3.8/dist-packages/keras/engine/functional.py:582: UserWarning: Input dict contained keys ['ground_truth_trajectory', 'scene_id', 'track_id', 'prerendered_feature_map'] which did not match any model input. They will be ignored by the model.\n",
            "  warnings.warn(\n",
            "196it [00:50,  4.27it/s]/usr/local/lib/python3.8/dist-packages/keras/engine/functional.py:582: UserWarning: Input dict contained keys ['ground_truth_trajectory', 'scene_id', 'track_id', 'prerendered_feature_map'] which did not match any model input. They will be ignored by the model.\n",
            "  warnings.warn(\n",
            "197it [00:50,  3.68it/s]/usr/local/lib/python3.8/dist-packages/keras/engine/functional.py:582: UserWarning: Input dict contained keys ['ground_truth_trajectory', 'scene_id', 'track_id', 'prerendered_feature_map'] which did not match any model input. They will be ignored by the model.\n",
            "  warnings.warn(\n",
            "198it [00:50,  3.78it/s]/usr/local/lib/python3.8/dist-packages/keras/engine/functional.py:582: UserWarning: Input dict contained keys ['ground_truth_trajectory', 'scene_id', 'track_id', 'prerendered_feature_map'] which did not match any model input. They will be ignored by the model.\n",
            "  warnings.warn(\n",
            "199it [00:51,  3.85it/s]/usr/local/lib/python3.8/dist-packages/keras/engine/functional.py:582: UserWarning: Input dict contained keys ['ground_truth_trajectory', 'scene_id', 'track_id', 'prerendered_feature_map'] which did not match any model input. They will be ignored by the model.\n",
            "  warnings.warn(\n",
            "200it [00:51,  4.00it/s]/usr/local/lib/python3.8/dist-packages/keras/engine/functional.py:582: UserWarning: Input dict contained keys ['ground_truth_trajectory', 'scene_id', 'track_id', 'prerendered_feature_map'] which did not match any model input. They will be ignored by the model.\n",
            "  warnings.warn(\n",
            "201it [00:51,  3.99it/s]/usr/local/lib/python3.8/dist-packages/keras/engine/functional.py:582: UserWarning: Input dict contained keys ['ground_truth_trajectory', 'scene_id', 'track_id', 'prerendered_feature_map'] which did not match any model input. They will be ignored by the model.\n",
            "  warnings.warn(\n",
            "202it [00:51,  4.05it/s]/usr/local/lib/python3.8/dist-packages/keras/engine/functional.py:582: UserWarning: Input dict contained keys ['ground_truth_trajectory', 'scene_id', 'track_id', 'prerendered_feature_map'] which did not match any model input. They will be ignored by the model.\n",
            "  warnings.warn(\n",
            "203it [00:52,  4.04it/s]/usr/local/lib/python3.8/dist-packages/keras/engine/functional.py:582: UserWarning: Input dict contained keys ['ground_truth_trajectory', 'scene_id', 'track_id', 'prerendered_feature_map'] which did not match any model input. They will be ignored by the model.\n",
            "  warnings.warn(\n",
            "204it [00:52,  4.04it/s]/usr/local/lib/python3.8/dist-packages/keras/engine/functional.py:582: UserWarning: Input dict contained keys ['ground_truth_trajectory', 'scene_id', 'track_id', 'prerendered_feature_map'] which did not match any model input. They will be ignored by the model.\n",
            "  warnings.warn(\n",
            "205it [00:52,  4.13it/s]/usr/local/lib/python3.8/dist-packages/keras/engine/functional.py:582: UserWarning: Input dict contained keys ['ground_truth_trajectory', 'scene_id', 'track_id', 'prerendered_feature_map'] which did not match any model input. They will be ignored by the model.\n",
            "  warnings.warn(\n",
            "206it [00:52,  4.22it/s]/usr/local/lib/python3.8/dist-packages/keras/engine/functional.py:582: UserWarning: Input dict contained keys ['ground_truth_trajectory', 'scene_id', 'track_id', 'prerendered_feature_map'] which did not match any model input. They will be ignored by the model.\n",
            "  warnings.warn(\n",
            "207it [00:53,  4.26it/s]/usr/local/lib/python3.8/dist-packages/keras/engine/functional.py:582: UserWarning: Input dict contained keys ['ground_truth_trajectory', 'scene_id', 'track_id', 'prerendered_feature_map'] which did not match any model input. They will be ignored by the model.\n",
            "  warnings.warn(\n",
            "208it [00:53,  4.20it/s]/usr/local/lib/python3.8/dist-packages/keras/engine/functional.py:582: UserWarning: Input dict contained keys ['ground_truth_trajectory', 'scene_id', 'track_id', 'prerendered_feature_map'] which did not match any model input. They will be ignored by the model.\n",
            "  warnings.warn(\n",
            "209it [00:53,  4.12it/s]/usr/local/lib/python3.8/dist-packages/keras/engine/functional.py:582: UserWarning: Input dict contained keys ['ground_truth_trajectory', 'scene_id', 'track_id', 'prerendered_feature_map'] which did not match any model input. They will be ignored by the model.\n",
            "  warnings.warn(\n",
            "210it [00:53,  3.99it/s]/usr/local/lib/python3.8/dist-packages/keras/engine/functional.py:582: UserWarning: Input dict contained keys ['ground_truth_trajectory', 'scene_id', 'track_id', 'prerendered_feature_map'] which did not match any model input. They will be ignored by the model.\n",
            "  warnings.warn(\n",
            "211it [00:54,  4.18it/s]/usr/local/lib/python3.8/dist-packages/keras/engine/functional.py:582: UserWarning: Input dict contained keys ['ground_truth_trajectory', 'scene_id', 'track_id', 'prerendered_feature_map'] which did not match any model input. They will be ignored by the model.\n",
            "  warnings.warn(\n",
            "212it [00:54,  4.13it/s]/usr/local/lib/python3.8/dist-packages/keras/engine/functional.py:582: UserWarning: Input dict contained keys ['ground_truth_trajectory', 'scene_id', 'track_id', 'prerendered_feature_map'] which did not match any model input. They will be ignored by the model.\n",
            "  warnings.warn(\n",
            "213it [00:54,  4.20it/s]/usr/local/lib/python3.8/dist-packages/keras/engine/functional.py:582: UserWarning: Input dict contained keys ['ground_truth_trajectory', 'scene_id', 'track_id', 'prerendered_feature_map'] which did not match any model input. They will be ignored by the model.\n",
            "  warnings.warn(\n",
            "214it [00:54,  4.37it/s]/usr/local/lib/python3.8/dist-packages/keras/engine/functional.py:582: UserWarning: Input dict contained keys ['ground_truth_trajectory', 'scene_id', 'track_id', 'prerendered_feature_map'] which did not match any model input. They will be ignored by the model.\n",
            "  warnings.warn(\n",
            "215it [00:54,  4.24it/s]/usr/local/lib/python3.8/dist-packages/keras/engine/functional.py:582: UserWarning: Input dict contained keys ['ground_truth_trajectory', 'scene_id', 'track_id', 'prerendered_feature_map'] which did not match any model input. They will be ignored by the model.\n",
            "  warnings.warn(\n",
            "216it [00:55,  4.16it/s]/usr/local/lib/python3.8/dist-packages/keras/engine/functional.py:582: UserWarning: Input dict contained keys ['ground_truth_trajectory', 'scene_id', 'track_id', 'prerendered_feature_map'] which did not match any model input. They will be ignored by the model.\n",
            "  warnings.warn(\n",
            "217it [00:55,  4.07it/s]/usr/local/lib/python3.8/dist-packages/keras/engine/functional.py:582: UserWarning: Input dict contained keys ['ground_truth_trajectory', 'scene_id', 'track_id', 'prerendered_feature_map'] which did not match any model input. They will be ignored by the model.\n",
            "  warnings.warn(\n",
            "218it [00:55,  4.28it/s]/usr/local/lib/python3.8/dist-packages/keras/engine/functional.py:582: UserWarning: Input dict contained keys ['ground_truth_trajectory', 'scene_id', 'track_id', 'prerendered_feature_map'] which did not match any model input. They will be ignored by the model.\n",
            "  warnings.warn(\n",
            "219it [00:55,  4.34it/s]/usr/local/lib/python3.8/dist-packages/keras/engine/functional.py:582: UserWarning: Input dict contained keys ['ground_truth_trajectory', 'scene_id', 'track_id', 'prerendered_feature_map'] which did not match any model input. They will be ignored by the model.\n",
            "  warnings.warn(\n",
            "220it [00:56,  4.25it/s]/usr/local/lib/python3.8/dist-packages/keras/engine/functional.py:582: UserWarning: Input dict contained keys ['ground_truth_trajectory', 'scene_id', 'track_id', 'prerendered_feature_map'] which did not match any model input. They will be ignored by the model.\n",
            "  warnings.warn(\n",
            "221it [00:56,  4.33it/s]/usr/local/lib/python3.8/dist-packages/keras/engine/functional.py:582: UserWarning: Input dict contained keys ['ground_truth_trajectory', 'scene_id', 'track_id', 'prerendered_feature_map'] which did not match any model input. They will be ignored by the model.\n",
            "  warnings.warn(\n",
            "222it [00:56,  4.27it/s]/usr/local/lib/python3.8/dist-packages/keras/engine/functional.py:582: UserWarning: Input dict contained keys ['ground_truth_trajectory', 'scene_id', 'track_id', 'prerendered_feature_map'] which did not match any model input. They will be ignored by the model.\n",
            "  warnings.warn(\n",
            "223it [00:56,  4.12it/s]/usr/local/lib/python3.8/dist-packages/keras/engine/functional.py:582: UserWarning: Input dict contained keys ['ground_truth_trajectory', 'scene_id', 'track_id', 'prerendered_feature_map'] which did not match any model input. They will be ignored by the model.\n",
            "  warnings.warn(\n",
            "224it [00:57,  3.89it/s]/usr/local/lib/python3.8/dist-packages/keras/engine/functional.py:582: UserWarning: Input dict contained keys ['ground_truth_trajectory', 'scene_id', 'track_id', 'prerendered_feature_map'] which did not match any model input. They will be ignored by the model.\n",
            "  warnings.warn(\n",
            "225it [00:57,  3.78it/s]/usr/local/lib/python3.8/dist-packages/keras/engine/functional.py:582: UserWarning: Input dict contained keys ['ground_truth_trajectory', 'scene_id', 'track_id', 'prerendered_feature_map'] which did not match any model input. They will be ignored by the model.\n",
            "  warnings.warn(\n",
            "226it [00:57,  3.77it/s]/usr/local/lib/python3.8/dist-packages/keras/engine/functional.py:582: UserWarning: Input dict contained keys ['ground_truth_trajectory', 'scene_id', 'track_id', 'prerendered_feature_map'] which did not match any model input. They will be ignored by the model.\n",
            "  warnings.warn(\n",
            "227it [00:58,  3.51it/s]/usr/local/lib/python3.8/dist-packages/keras/engine/functional.py:582: UserWarning: Input dict contained keys ['ground_truth_trajectory', 'scene_id', 'track_id', 'prerendered_feature_map'] which did not match any model input. They will be ignored by the model.\n",
            "  warnings.warn(\n",
            "228it [00:58,  3.34it/s]/usr/local/lib/python3.8/dist-packages/keras/engine/functional.py:582: UserWarning: Input dict contained keys ['ground_truth_trajectory', 'scene_id', 'track_id', 'prerendered_feature_map'] which did not match any model input. They will be ignored by the model.\n",
            "  warnings.warn(\n",
            "229it [00:58,  3.33it/s]/usr/local/lib/python3.8/dist-packages/keras/engine/functional.py:582: UserWarning: Input dict contained keys ['ground_truth_trajectory', 'scene_id', 'track_id', 'prerendered_feature_map'] which did not match any model input. They will be ignored by the model.\n",
            "  warnings.warn(\n",
            "230it [01:00,  1.32it/s]/usr/local/lib/python3.8/dist-packages/keras/engine/functional.py:582: UserWarning: Input dict contained keys ['ground_truth_trajectory', 'scene_id', 'track_id', 'prerendered_feature_map'] which did not match any model input. They will be ignored by the model.\n",
            "  warnings.warn(\n",
            "231it [01:00,  1.63it/s]/usr/local/lib/python3.8/dist-packages/keras/engine/functional.py:582: UserWarning: Input dict contained keys ['ground_truth_trajectory', 'scene_id', 'track_id', 'prerendered_feature_map'] which did not match any model input. They will be ignored by the model.\n",
            "  warnings.warn(\n",
            "232it [01:01,  1.99it/s]/usr/local/lib/python3.8/dist-packages/keras/engine/functional.py:582: UserWarning: Input dict contained keys ['ground_truth_trajectory', 'scene_id', 'track_id', 'prerendered_feature_map'] which did not match any model input. They will be ignored by the model.\n",
            "  warnings.warn(\n",
            "233it [01:01,  2.27it/s]/usr/local/lib/python3.8/dist-packages/keras/engine/functional.py:582: UserWarning: Input dict contained keys ['ground_truth_trajectory', 'scene_id', 'track_id', 'prerendered_feature_map'] which did not match any model input. They will be ignored by the model.\n",
            "  warnings.warn(\n",
            "234it [01:01,  2.33it/s]/usr/local/lib/python3.8/dist-packages/keras/engine/functional.py:582: UserWarning: Input dict contained keys ['ground_truth_trajectory', 'scene_id', 'track_id', 'prerendered_feature_map'] which did not match any model input. They will be ignored by the model.\n",
            "  warnings.warn(\n",
            "235it [01:02,  2.58it/s]/usr/local/lib/python3.8/dist-packages/keras/engine/functional.py:582: UserWarning: Input dict contained keys ['ground_truth_trajectory', 'scene_id', 'track_id', 'prerendered_feature_map'] which did not match any model input. They will be ignored by the model.\n",
            "  warnings.warn(\n",
            "236it [01:02,  2.90it/s]/usr/local/lib/python3.8/dist-packages/keras/engine/functional.py:582: UserWarning: Input dict contained keys ['ground_truth_trajectory', 'scene_id', 'track_id', 'prerendered_feature_map'] which did not match any model input. They will be ignored by the model.\n",
            "  warnings.warn(\n",
            "237it [01:02,  3.21it/s]/usr/local/lib/python3.8/dist-packages/keras/engine/functional.py:582: UserWarning: Input dict contained keys ['ground_truth_trajectory', 'scene_id', 'track_id', 'prerendered_feature_map'] which did not match any model input. They will be ignored by the model.\n",
            "  warnings.warn(\n",
            "238it [01:02,  3.32it/s]/usr/local/lib/python3.8/dist-packages/keras/engine/functional.py:582: UserWarning: Input dict contained keys ['ground_truth_trajectory', 'scene_id', 'track_id', 'prerendered_feature_map'] which did not match any model input. They will be ignored by the model.\n",
            "  warnings.warn(\n",
            "239it [01:03,  3.55it/s]/usr/local/lib/python3.8/dist-packages/keras/engine/functional.py:582: UserWarning: Input dict contained keys ['ground_truth_trajectory', 'scene_id', 'track_id', 'prerendered_feature_map'] which did not match any model input. They will be ignored by the model.\n",
            "  warnings.warn(\n",
            "240it [01:03,  3.73it/s]/usr/local/lib/python3.8/dist-packages/keras/engine/functional.py:582: UserWarning: Input dict contained keys ['ground_truth_trajectory', 'scene_id', 'track_id', 'prerendered_feature_map'] which did not match any model input. They will be ignored by the model.\n",
            "  warnings.warn(\n",
            "241it [01:03,  3.72it/s]/usr/local/lib/python3.8/dist-packages/keras/engine/functional.py:582: UserWarning: Input dict contained keys ['ground_truth_trajectory', 'scene_id', 'track_id', 'prerendered_feature_map'] which did not match any model input. They will be ignored by the model.\n",
            "  warnings.warn(\n",
            "242it [01:03,  3.93it/s]/usr/local/lib/python3.8/dist-packages/keras/engine/functional.py:582: UserWarning: Input dict contained keys ['ground_truth_trajectory', 'scene_id', 'track_id', 'prerendered_feature_map'] which did not match any model input. They will be ignored by the model.\n",
            "  warnings.warn(\n",
            "243it [01:03,  4.01it/s]/usr/local/lib/python3.8/dist-packages/keras/engine/functional.py:582: UserWarning: Input dict contained keys ['ground_truth_trajectory', 'scene_id', 'track_id', 'prerendered_feature_map'] which did not match any model input. They will be ignored by the model.\n",
            "  warnings.warn(\n",
            "244it [01:04,  4.05it/s]/usr/local/lib/python3.8/dist-packages/keras/engine/functional.py:582: UserWarning: Input dict contained keys ['ground_truth_trajectory', 'scene_id', 'track_id', 'prerendered_feature_map'] which did not match any model input. They will be ignored by the model.\n",
            "  warnings.warn(\n",
            "245it [01:04,  4.12it/s]/usr/local/lib/python3.8/dist-packages/keras/engine/functional.py:582: UserWarning: Input dict contained keys ['ground_truth_trajectory', 'scene_id', 'track_id', 'prerendered_feature_map'] which did not match any model input. They will be ignored by the model.\n",
            "  warnings.warn(\n",
            "246it [01:04,  4.07it/s]/usr/local/lib/python3.8/dist-packages/keras/engine/functional.py:582: UserWarning: Input dict contained keys ['ground_truth_trajectory', 'scene_id', 'track_id', 'prerendered_feature_map'] which did not match any model input. They will be ignored by the model.\n",
            "  warnings.warn(\n",
            "247it [01:04,  4.12it/s]/usr/local/lib/python3.8/dist-packages/keras/engine/functional.py:582: UserWarning: Input dict contained keys ['ground_truth_trajectory', 'scene_id', 'track_id', 'prerendered_feature_map'] which did not match any model input. They will be ignored by the model.\n",
            "  warnings.warn(\n",
            "248it [01:05,  4.25it/s]/usr/local/lib/python3.8/dist-packages/keras/engine/functional.py:582: UserWarning: Input dict contained keys ['ground_truth_trajectory', 'scene_id', 'track_id', 'prerendered_feature_map'] which did not match any model input. They will be ignored by the model.\n",
            "  warnings.warn(\n",
            "249it [01:05,  4.26it/s]/usr/local/lib/python3.8/dist-packages/keras/engine/functional.py:582: UserWarning: Input dict contained keys ['ground_truth_trajectory', 'scene_id', 'track_id', 'prerendered_feature_map'] which did not match any model input. They will be ignored by the model.\n",
            "  warnings.warn(\n",
            "250it [01:05,  4.26it/s]/usr/local/lib/python3.8/dist-packages/keras/engine/functional.py:582: UserWarning: Input dict contained keys ['ground_truth_trajectory', 'scene_id', 'track_id', 'prerendered_feature_map'] which did not match any model input. They will be ignored by the model.\n",
            "  warnings.warn(\n",
            "251it [01:05,  4.27it/s]/usr/local/lib/python3.8/dist-packages/keras/engine/functional.py:582: UserWarning: Input dict contained keys ['ground_truth_trajectory', 'scene_id', 'track_id', 'prerendered_feature_map'] which did not match any model input. They will be ignored by the model.\n",
            "  warnings.warn(\n",
            "252it [01:06,  4.34it/s]/usr/local/lib/python3.8/dist-packages/keras/engine/functional.py:582: UserWarning: Input dict contained keys ['ground_truth_trajectory', 'scene_id', 'track_id', 'prerendered_feature_map'] which did not match any model input. They will be ignored by the model.\n",
            "  warnings.warn(\n",
            "253it [01:06,  4.22it/s]/usr/local/lib/python3.8/dist-packages/keras/engine/functional.py:582: UserWarning: Input dict contained keys ['ground_truth_trajectory', 'scene_id', 'track_id', 'prerendered_feature_map'] which did not match any model input. They will be ignored by the model.\n",
            "  warnings.warn(\n",
            "254it [01:06,  4.16it/s]/usr/local/lib/python3.8/dist-packages/keras/engine/functional.py:582: UserWarning: Input dict contained keys ['ground_truth_trajectory', 'scene_id', 'track_id', 'prerendered_feature_map'] which did not match any model input. They will be ignored by the model.\n",
            "  warnings.warn(\n",
            "255it [01:06,  4.22it/s]/usr/local/lib/python3.8/dist-packages/keras/engine/functional.py:582: UserWarning: Input dict contained keys ['ground_truth_trajectory', 'scene_id', 'track_id', 'prerendered_feature_map'] which did not match any model input. They will be ignored by the model.\n",
            "  warnings.warn(\n",
            "256it [01:07,  4.19it/s]/usr/local/lib/python3.8/dist-packages/keras/engine/functional.py:582: UserWarning: Input dict contained keys ['ground_truth_trajectory', 'scene_id', 'track_id', 'prerendered_feature_map'] which did not match any model input. They will be ignored by the model.\n",
            "  warnings.warn(\n",
            "257it [01:07,  4.16it/s]/usr/local/lib/python3.8/dist-packages/keras/engine/functional.py:582: UserWarning: Input dict contained keys ['ground_truth_trajectory', 'scene_id', 'track_id', 'prerendered_feature_map'] which did not match any model input. They will be ignored by the model.\n",
            "  warnings.warn(\n",
            "258it [01:07,  4.17it/s]/usr/local/lib/python3.8/dist-packages/keras/engine/functional.py:582: UserWarning: Input dict contained keys ['ground_truth_trajectory', 'scene_id', 'track_id', 'prerendered_feature_map'] which did not match any model input. They will be ignored by the model.\n",
            "  warnings.warn(\n",
            "259it [01:07,  4.16it/s]/usr/local/lib/python3.8/dist-packages/keras/engine/functional.py:582: UserWarning: Input dict contained keys ['ground_truth_trajectory', 'scene_id', 'track_id', 'prerendered_feature_map'] which did not match any model input. They will be ignored by the model.\n",
            "  warnings.warn(\n",
            "260it [01:07,  4.26it/s]/usr/local/lib/python3.8/dist-packages/keras/engine/functional.py:582: UserWarning: Input dict contained keys ['ground_truth_trajectory', 'scene_id', 'track_id', 'prerendered_feature_map'] which did not match any model input. They will be ignored by the model.\n",
            "  warnings.warn(\n",
            "261it [01:08,  4.15it/s]/usr/local/lib/python3.8/dist-packages/keras/engine/functional.py:582: UserWarning: Input dict contained keys ['ground_truth_trajectory', 'scene_id', 'track_id', 'prerendered_feature_map'] which did not match any model input. They will be ignored by the model.\n",
            "  warnings.warn(\n",
            "262it [01:08,  4.14it/s]/usr/local/lib/python3.8/dist-packages/keras/engine/functional.py:582: UserWarning: Input dict contained keys ['ground_truth_trajectory', 'scene_id', 'track_id', 'prerendered_feature_map'] which did not match any model input. They will be ignored by the model.\n",
            "  warnings.warn(\n",
            "263it [01:08,  4.22it/s]/usr/local/lib/python3.8/dist-packages/keras/engine/functional.py:582: UserWarning: Input dict contained keys ['ground_truth_trajectory', 'scene_id', 'track_id', 'prerendered_feature_map'] which did not match any model input. They will be ignored by the model.\n",
            "  warnings.warn(\n",
            "264it [01:08,  4.18it/s]/usr/local/lib/python3.8/dist-packages/keras/engine/functional.py:582: UserWarning: Input dict contained keys ['ground_truth_trajectory', 'scene_id', 'track_id', 'prerendered_feature_map'] which did not match any model input. They will be ignored by the model.\n",
            "  warnings.warn(\n",
            "265it [01:09,  4.15it/s]/usr/local/lib/python3.8/dist-packages/keras/engine/functional.py:582: UserWarning: Input dict contained keys ['ground_truth_trajectory', 'scene_id', 'track_id', 'prerendered_feature_map'] which did not match any model input. They will be ignored by the model.\n",
            "  warnings.warn(\n",
            "266it [01:09,  4.22it/s]/usr/local/lib/python3.8/dist-packages/keras/engine/functional.py:582: UserWarning: Input dict contained keys ['ground_truth_trajectory', 'scene_id', 'track_id', 'prerendered_feature_map'] which did not match any model input. They will be ignored by the model.\n",
            "  warnings.warn(\n",
            "267it [01:09,  4.20it/s]/usr/local/lib/python3.8/dist-packages/keras/engine/functional.py:582: UserWarning: Input dict contained keys ['ground_truth_trajectory', 'scene_id', 'track_id', 'prerendered_feature_map'] which did not match any model input. They will be ignored by the model.\n",
            "  warnings.warn(\n",
            "268it [01:09,  4.35it/s]/usr/local/lib/python3.8/dist-packages/keras/engine/functional.py:582: UserWarning: Input dict contained keys ['ground_truth_trajectory', 'scene_id', 'track_id', 'prerendered_feature_map'] which did not match any model input. They will be ignored by the model.\n",
            "  warnings.warn(\n",
            "269it [01:10,  4.34it/s]/usr/local/lib/python3.8/dist-packages/keras/engine/functional.py:582: UserWarning: Input dict contained keys ['ground_truth_trajectory', 'scene_id', 'track_id', 'prerendered_feature_map'] which did not match any model input. They will be ignored by the model.\n",
            "  warnings.warn(\n",
            "270it [01:10,  4.32it/s]/usr/local/lib/python3.8/dist-packages/keras/engine/functional.py:582: UserWarning: Input dict contained keys ['ground_truth_trajectory', 'scene_id', 'track_id', 'prerendered_feature_map'] which did not match any model input. They will be ignored by the model.\n",
            "  warnings.warn(\n",
            "271it [01:10,  4.36it/s]/usr/local/lib/python3.8/dist-packages/keras/engine/functional.py:582: UserWarning: Input dict contained keys ['ground_truth_trajectory', 'scene_id', 'track_id', 'prerendered_feature_map'] which did not match any model input. They will be ignored by the model.\n",
            "  warnings.warn(\n",
            "272it [01:10,  4.25it/s]/usr/local/lib/python3.8/dist-packages/keras/engine/functional.py:582: UserWarning: Input dict contained keys ['ground_truth_trajectory', 'scene_id', 'track_id', 'prerendered_feature_map'] which did not match any model input. They will be ignored by the model.\n",
            "  warnings.warn(\n",
            "273it [01:11,  4.25it/s]/usr/local/lib/python3.8/dist-packages/keras/engine/functional.py:582: UserWarning: Input dict contained keys ['ground_truth_trajectory', 'scene_id', 'track_id', 'prerendered_feature_map'] which did not match any model input. They will be ignored by the model.\n",
            "  warnings.warn(\n",
            "274it [01:11,  4.09it/s]/usr/local/lib/python3.8/dist-packages/keras/engine/functional.py:582: UserWarning: Input dict contained keys ['ground_truth_trajectory', 'scene_id', 'track_id', 'prerendered_feature_map'] which did not match any model input. They will be ignored by the model.\n",
            "  warnings.warn(\n",
            "275it [01:11,  4.13it/s]/usr/local/lib/python3.8/dist-packages/keras/engine/functional.py:582: UserWarning: Input dict contained keys ['ground_truth_trajectory', 'scene_id', 'track_id', 'prerendered_feature_map'] which did not match any model input. They will be ignored by the model.\n",
            "  warnings.warn(\n",
            "276it [01:11,  4.00it/s]/usr/local/lib/python3.8/dist-packages/keras/engine/functional.py:582: UserWarning: Input dict contained keys ['ground_truth_trajectory', 'scene_id', 'track_id', 'prerendered_feature_map'] which did not match any model input. They will be ignored by the model.\n",
            "  warnings.warn(\n",
            "277it [01:12,  3.92it/s]/usr/local/lib/python3.8/dist-packages/keras/engine/functional.py:582: UserWarning: Input dict contained keys ['ground_truth_trajectory', 'scene_id', 'track_id', 'prerendered_feature_map'] which did not match any model input. They will be ignored by the model.\n",
            "  warnings.warn(\n",
            "278it [01:12,  3.87it/s]/usr/local/lib/python3.8/dist-packages/keras/engine/functional.py:582: UserWarning: Input dict contained keys ['ground_truth_trajectory', 'scene_id', 'track_id', 'prerendered_feature_map'] which did not match any model input. They will be ignored by the model.\n",
            "  warnings.warn(\n",
            "279it [01:12,  3.96it/s]/usr/local/lib/python3.8/dist-packages/keras/engine/functional.py:582: UserWarning: Input dict contained keys ['ground_truth_trajectory', 'scene_id', 'track_id', 'prerendered_feature_map'] which did not match any model input. They will be ignored by the model.\n",
            "  warnings.warn(\n",
            "280it [01:12,  3.95it/s]/usr/local/lib/python3.8/dist-packages/keras/engine/functional.py:582: UserWarning: Input dict contained keys ['ground_truth_trajectory', 'scene_id', 'track_id', 'prerendered_feature_map'] which did not match any model input. They will be ignored by the model.\n",
            "  warnings.warn(\n",
            "281it [01:13,  4.09it/s]/usr/local/lib/python3.8/dist-packages/keras/engine/functional.py:582: UserWarning: Input dict contained keys ['ground_truth_trajectory', 'scene_id', 'track_id', 'prerendered_feature_map'] which did not match any model input. They will be ignored by the model.\n",
            "  warnings.warn(\n",
            "282it [01:13,  4.14it/s]/usr/local/lib/python3.8/dist-packages/keras/engine/functional.py:582: UserWarning: Input dict contained keys ['ground_truth_trajectory', 'scene_id', 'track_id', 'prerendered_feature_map'] which did not match any model input. They will be ignored by the model.\n",
            "  warnings.warn(\n",
            "283it [01:13,  4.21it/s]/usr/local/lib/python3.8/dist-packages/keras/engine/functional.py:582: UserWarning: Input dict contained keys ['ground_truth_trajectory', 'scene_id', 'track_id', 'prerendered_feature_map'] which did not match any model input. They will be ignored by the model.\n",
            "  warnings.warn(\n",
            "284it [01:13,  4.15it/s]/usr/local/lib/python3.8/dist-packages/keras/engine/functional.py:582: UserWarning: Input dict contained keys ['ground_truth_trajectory', 'scene_id', 'track_id', 'prerendered_feature_map'] which did not match any model input. They will be ignored by the model.\n",
            "  warnings.warn(\n",
            "285it [01:14,  4.21it/s]/usr/local/lib/python3.8/dist-packages/keras/engine/functional.py:582: UserWarning: Input dict contained keys ['ground_truth_trajectory', 'scene_id', 'track_id', 'prerendered_feature_map'] which did not match any model input. They will be ignored by the model.\n",
            "  warnings.warn(\n",
            "286it [01:14,  4.29it/s]/usr/local/lib/python3.8/dist-packages/keras/engine/functional.py:582: UserWarning: Input dict contained keys ['ground_truth_trajectory', 'scene_id', 'track_id', 'prerendered_feature_map'] which did not match any model input. They will be ignored by the model.\n",
            "  warnings.warn(\n",
            "287it [01:14,  4.29it/s]/usr/local/lib/python3.8/dist-packages/keras/engine/functional.py:582: UserWarning: Input dict contained keys ['ground_truth_trajectory', 'scene_id', 'track_id', 'prerendered_feature_map'] which did not match any model input. They will be ignored by the model.\n",
            "  warnings.warn(\n",
            "288it [01:14,  4.25it/s]/usr/local/lib/python3.8/dist-packages/keras/engine/functional.py:582: UserWarning: Input dict contained keys ['ground_truth_trajectory', 'scene_id', 'track_id', 'prerendered_feature_map'] which did not match any model input. They will be ignored by the model.\n",
            "  warnings.warn(\n",
            "289it [01:14,  4.32it/s]/usr/local/lib/python3.8/dist-packages/keras/engine/functional.py:582: UserWarning: Input dict contained keys ['ground_truth_trajectory', 'scene_id', 'track_id', 'prerendered_feature_map'] which did not match any model input. They will be ignored by the model.\n",
            "  warnings.warn(\n",
            "290it [01:15,  4.19it/s]/usr/local/lib/python3.8/dist-packages/keras/engine/functional.py:582: UserWarning: Input dict contained keys ['ground_truth_trajectory', 'scene_id', 'track_id', 'prerendered_feature_map'] which did not match any model input. They will be ignored by the model.\n",
            "  warnings.warn(\n",
            "291it [01:15,  4.31it/s]/usr/local/lib/python3.8/dist-packages/keras/engine/functional.py:582: UserWarning: Input dict contained keys ['ground_truth_trajectory', 'scene_id', 'track_id', 'prerendered_feature_map'] which did not match any model input. They will be ignored by the model.\n",
            "  warnings.warn(\n",
            "292it [01:15,  4.40it/s]/usr/local/lib/python3.8/dist-packages/keras/engine/functional.py:582: UserWarning: Input dict contained keys ['ground_truth_trajectory', 'scene_id', 'track_id', 'prerendered_feature_map'] which did not match any model input. They will be ignored by the model.\n",
            "  warnings.warn(\n",
            "293it [01:15,  4.26it/s]/usr/local/lib/python3.8/dist-packages/keras/engine/functional.py:582: UserWarning: Input dict contained keys ['ground_truth_trajectory', 'scene_id', 'track_id', 'prerendered_feature_map'] which did not match any model input. They will be ignored by the model.\n",
            "  warnings.warn(\n",
            "294it [01:16,  4.26it/s]/usr/local/lib/python3.8/dist-packages/keras/engine/functional.py:582: UserWarning: Input dict contained keys ['ground_truth_trajectory', 'scene_id', 'track_id', 'prerendered_feature_map'] which did not match any model input. They will be ignored by the model.\n",
            "  warnings.warn(\n",
            "295it [01:16,  4.26it/s]/usr/local/lib/python3.8/dist-packages/keras/engine/functional.py:582: UserWarning: Input dict contained keys ['ground_truth_trajectory', 'scene_id', 'track_id', 'prerendered_feature_map'] which did not match any model input. They will be ignored by the model.\n",
            "  warnings.warn(\n",
            "296it [01:16,  4.16it/s]/usr/local/lib/python3.8/dist-packages/keras/engine/functional.py:582: UserWarning: Input dict contained keys ['ground_truth_trajectory', 'scene_id', 'track_id', 'prerendered_feature_map'] which did not match any model input. They will be ignored by the model.\n",
            "  warnings.warn(\n",
            "297it [01:16,  4.20it/s]/usr/local/lib/python3.8/dist-packages/keras/engine/functional.py:582: UserWarning: Input dict contained keys ['ground_truth_trajectory', 'scene_id', 'track_id', 'prerendered_feature_map'] which did not match any model input. They will be ignored by the model.\n",
            "  warnings.warn(\n",
            "298it [01:17,  4.12it/s]/usr/local/lib/python3.8/dist-packages/keras/engine/functional.py:582: UserWarning: Input dict contained keys ['ground_truth_trajectory', 'scene_id', 'track_id', 'prerendered_feature_map'] which did not match any model input. They will be ignored by the model.\n",
            "  warnings.warn(\n",
            "299it [01:17,  3.92it/s]/usr/local/lib/python3.8/dist-packages/keras/engine/functional.py:582: UserWarning: Input dict contained keys ['ground_truth_trajectory', 'scene_id', 'track_id', 'prerendered_feature_map'] which did not match any model input. They will be ignored by the model.\n",
            "  warnings.warn(\n",
            "300it [01:17,  3.87it/s]/usr/local/lib/python3.8/dist-packages/keras/engine/functional.py:582: UserWarning: Input dict contained keys ['ground_truth_trajectory', 'scene_id', 'track_id', 'prerendered_feature_map'] which did not match any model input. They will be ignored by the model.\n",
            "  warnings.warn(\n",
            "301it [01:17,  3.80it/s]/usr/local/lib/python3.8/dist-packages/keras/engine/functional.py:582: UserWarning: Input dict contained keys ['ground_truth_trajectory', 'scene_id', 'track_id', 'prerendered_feature_map'] which did not match any model input. They will be ignored by the model.\n",
            "  warnings.warn(\n",
            "302it [01:18,  3.85it/s]/usr/local/lib/python3.8/dist-packages/keras/engine/functional.py:582: UserWarning: Input dict contained keys ['ground_truth_trajectory', 'scene_id', 'track_id', 'prerendered_feature_map'] which did not match any model input. They will be ignored by the model.\n",
            "  warnings.warn(\n",
            "303it [01:18,  3.92it/s]/usr/local/lib/python3.8/dist-packages/keras/engine/functional.py:582: UserWarning: Input dict contained keys ['ground_truth_trajectory', 'scene_id', 'track_id', 'prerendered_feature_map'] which did not match any model input. They will be ignored by the model.\n",
            "  warnings.warn(\n",
            "304it [01:18,  3.85it/s]/usr/local/lib/python3.8/dist-packages/keras/engine/functional.py:582: UserWarning: Input dict contained keys ['ground_truth_trajectory', 'scene_id', 'track_id', 'prerendered_feature_map'] which did not match any model input. They will be ignored by the model.\n",
            "  warnings.warn(\n",
            "305it [01:18,  3.89it/s]/usr/local/lib/python3.8/dist-packages/keras/engine/functional.py:582: UserWarning: Input dict contained keys ['ground_truth_trajectory', 'scene_id', 'track_id', 'prerendered_feature_map'] which did not match any model input. They will be ignored by the model.\n",
            "  warnings.warn(\n",
            "306it [01:19,  3.96it/s]/usr/local/lib/python3.8/dist-packages/keras/engine/functional.py:582: UserWarning: Input dict contained keys ['ground_truth_trajectory', 'scene_id', 'track_id', 'prerendered_feature_map'] which did not match any model input. They will be ignored by the model.\n",
            "  warnings.warn(\n",
            "307it [01:19,  3.89it/s]/usr/local/lib/python3.8/dist-packages/keras/engine/functional.py:582: UserWarning: Input dict contained keys ['ground_truth_trajectory', 'scene_id', 'track_id', 'prerendered_feature_map'] which did not match any model input. They will be ignored by the model.\n",
            "  warnings.warn(\n",
            "308it [01:19,  4.02it/s]/usr/local/lib/python3.8/dist-packages/keras/engine/functional.py:582: UserWarning: Input dict contained keys ['ground_truth_trajectory', 'scene_id', 'track_id', 'prerendered_feature_map'] which did not match any model input. They will be ignored by the model.\n",
            "  warnings.warn(\n",
            "309it [01:19,  4.12it/s]/usr/local/lib/python3.8/dist-packages/keras/engine/functional.py:582: UserWarning: Input dict contained keys ['ground_truth_trajectory', 'scene_id', 'track_id', 'prerendered_feature_map'] which did not match any model input. They will be ignored by the model.\n",
            "  warnings.warn(\n",
            "310it [01:20,  4.29it/s]/usr/local/lib/python3.8/dist-packages/keras/engine/functional.py:582: UserWarning: Input dict contained keys ['ground_truth_trajectory', 'scene_id', 'track_id', 'prerendered_feature_map'] which did not match any model input. They will be ignored by the model.\n",
            "  warnings.warn(\n",
            "311it [01:20,  4.34it/s]/usr/local/lib/python3.8/dist-packages/keras/engine/functional.py:582: UserWarning: Input dict contained keys ['ground_truth_trajectory', 'scene_id', 'track_id', 'prerendered_feature_map'] which did not match any model input. They will be ignored by the model.\n",
            "  warnings.warn(\n",
            "312it [01:20,  4.30it/s]/usr/local/lib/python3.8/dist-packages/keras/engine/functional.py:582: UserWarning: Input dict contained keys ['ground_truth_trajectory', 'scene_id', 'track_id', 'prerendered_feature_map'] which did not match any model input. They will be ignored by the model.\n",
            "  warnings.warn(\n",
            "313it [01:20,  4.26it/s]/usr/local/lib/python3.8/dist-packages/keras/engine/functional.py:582: UserWarning: Input dict contained keys ['ground_truth_trajectory', 'scene_id', 'track_id', 'prerendered_feature_map'] which did not match any model input. They will be ignored by the model.\n",
            "  warnings.warn(\n",
            "314it [01:21,  4.12it/s]/usr/local/lib/python3.8/dist-packages/keras/engine/functional.py:582: UserWarning: Input dict contained keys ['ground_truth_trajectory', 'scene_id', 'track_id', 'prerendered_feature_map'] which did not match any model input. They will be ignored by the model.\n",
            "  warnings.warn(\n",
            "315it [01:21,  4.06it/s]/usr/local/lib/python3.8/dist-packages/keras/engine/functional.py:582: UserWarning: Input dict contained keys ['ground_truth_trajectory', 'scene_id', 'track_id', 'prerendered_feature_map'] which did not match any model input. They will be ignored by the model.\n",
            "  warnings.warn(\n",
            "316it [01:21,  3.91it/s]/usr/local/lib/python3.8/dist-packages/keras/engine/functional.py:582: UserWarning: Input dict contained keys ['ground_truth_trajectory', 'scene_id', 'track_id', 'prerendered_feature_map'] which did not match any model input. They will be ignored by the model.\n",
            "  warnings.warn(\n",
            "317it [01:21,  3.91it/s]/usr/local/lib/python3.8/dist-packages/keras/engine/functional.py:582: UserWarning: Input dict contained keys ['ground_truth_trajectory', 'scene_id', 'track_id', 'prerendered_feature_map'] which did not match any model input. They will be ignored by the model.\n",
            "  warnings.warn(\n",
            "318it [01:22,  4.00it/s]/usr/local/lib/python3.8/dist-packages/keras/engine/functional.py:582: UserWarning: Input dict contained keys ['ground_truth_trajectory', 'scene_id', 'track_id', 'prerendered_feature_map'] which did not match any model input. They will be ignored by the model.\n",
            "  warnings.warn(\n",
            "319it [01:22,  4.05it/s]/usr/local/lib/python3.8/dist-packages/keras/engine/functional.py:582: UserWarning: Input dict contained keys ['ground_truth_trajectory', 'scene_id', 'track_id', 'prerendered_feature_map'] which did not match any model input. They will be ignored by the model.\n",
            "  warnings.warn(\n",
            "320it [01:22,  3.88it/s]/usr/local/lib/python3.8/dist-packages/keras/engine/functional.py:582: UserWarning: Input dict contained keys ['ground_truth_trajectory', 'scene_id', 'track_id', 'prerendered_feature_map'] which did not match any model input. They will be ignored by the model.\n",
            "  warnings.warn(\n",
            "321it [01:22,  3.93it/s]/usr/local/lib/python3.8/dist-packages/keras/engine/functional.py:582: UserWarning: Input dict contained keys ['ground_truth_trajectory', 'scene_id', 'track_id', 'prerendered_feature_map'] which did not match any model input. They will be ignored by the model.\n",
            "  warnings.warn(\n",
            "322it [01:23,  4.02it/s]/usr/local/lib/python3.8/dist-packages/keras/engine/functional.py:582: UserWarning: Input dict contained keys ['ground_truth_trajectory', 'scene_id', 'track_id', 'prerendered_feature_map'] which did not match any model input. They will be ignored by the model.\n",
            "  warnings.warn(\n",
            "323it [01:23,  4.21it/s]/usr/local/lib/python3.8/dist-packages/keras/engine/functional.py:582: UserWarning: Input dict contained keys ['ground_truth_trajectory', 'scene_id', 'track_id', 'prerendered_feature_map'] which did not match any model input. They will be ignored by the model.\n",
            "  warnings.warn(\n",
            "324it [01:23,  4.23it/s]/usr/local/lib/python3.8/dist-packages/keras/engine/functional.py:582: UserWarning: Input dict contained keys ['ground_truth_trajectory', 'scene_id', 'track_id', 'prerendered_feature_map'] which did not match any model input. They will be ignored by the model.\n",
            "  warnings.warn(\n",
            "325it [01:23,  4.24it/s]/usr/local/lib/python3.8/dist-packages/keras/engine/functional.py:582: UserWarning: Input dict contained keys ['ground_truth_trajectory', 'scene_id', 'track_id', 'prerendered_feature_map'] which did not match any model input. They will be ignored by the model.\n",
            "  warnings.warn(\n",
            "326it [01:24,  4.27it/s]/usr/local/lib/python3.8/dist-packages/keras/engine/functional.py:582: UserWarning: Input dict contained keys ['ground_truth_trajectory', 'scene_id', 'track_id', 'prerendered_feature_map'] which did not match any model input. They will be ignored by the model.\n",
            "  warnings.warn(\n",
            "327it [01:24,  4.23it/s]/usr/local/lib/python3.8/dist-packages/keras/engine/functional.py:582: UserWarning: Input dict contained keys ['ground_truth_trajectory', 'scene_id', 'track_id', 'prerendered_feature_map'] which did not match any model input. They will be ignored by the model.\n",
            "  warnings.warn(\n",
            "328it [01:24,  4.40it/s]/usr/local/lib/python3.8/dist-packages/keras/engine/functional.py:582: UserWarning: Input dict contained keys ['ground_truth_trajectory', 'scene_id', 'track_id', 'prerendered_feature_map'] which did not match any model input. They will be ignored by the model.\n",
            "  warnings.warn(\n",
            "329it [01:24,  4.38it/s]/usr/local/lib/python3.8/dist-packages/keras/engine/functional.py:582: UserWarning: Input dict contained keys ['ground_truth_trajectory', 'scene_id', 'track_id', 'prerendered_feature_map'] which did not match any model input. They will be ignored by the model.\n",
            "  warnings.warn(\n",
            "330it [01:24,  4.34it/s]/usr/local/lib/python3.8/dist-packages/keras/engine/functional.py:582: UserWarning: Input dict contained keys ['ground_truth_trajectory', 'scene_id', 'track_id', 'prerendered_feature_map'] which did not match any model input. They will be ignored by the model.\n",
            "  warnings.warn(\n",
            "331it [01:25,  4.35it/s]/usr/local/lib/python3.8/dist-packages/keras/engine/functional.py:582: UserWarning: Input dict contained keys ['ground_truth_trajectory', 'scene_id', 'track_id', 'prerendered_feature_map'] which did not match any model input. They will be ignored by the model.\n",
            "  warnings.warn(\n",
            "332it [01:25,  4.15it/s]/usr/local/lib/python3.8/dist-packages/keras/engine/functional.py:582: UserWarning: Input dict contained keys ['ground_truth_trajectory', 'scene_id', 'track_id', 'prerendered_feature_map'] which did not match any model input. They will be ignored by the model.\n",
            "  warnings.warn(\n",
            "333it [01:25,  4.24it/s]/usr/local/lib/python3.8/dist-packages/keras/engine/functional.py:582: UserWarning: Input dict contained keys ['ground_truth_trajectory', 'scene_id', 'track_id', 'prerendered_feature_map'] which did not match any model input. They will be ignored by the model.\n",
            "  warnings.warn(\n",
            "334it [01:25,  4.26it/s]/usr/local/lib/python3.8/dist-packages/keras/engine/functional.py:582: UserWarning: Input dict contained keys ['ground_truth_trajectory', 'scene_id', 'track_id', 'prerendered_feature_map'] which did not match any model input. They will be ignored by the model.\n",
            "  warnings.warn(\n",
            "335it [01:26,  4.29it/s]/usr/local/lib/python3.8/dist-packages/keras/engine/functional.py:582: UserWarning: Input dict contained keys ['ground_truth_trajectory', 'scene_id', 'track_id', 'prerendered_feature_map'] which did not match any model input. They will be ignored by the model.\n",
            "  warnings.warn(\n",
            "336it [01:26,  4.34it/s]/usr/local/lib/python3.8/dist-packages/keras/engine/functional.py:582: UserWarning: Input dict contained keys ['ground_truth_trajectory', 'scene_id', 'track_id', 'prerendered_feature_map'] which did not match any model input. They will be ignored by the model.\n",
            "  warnings.warn(\n",
            "337it [01:26,  4.38it/s]/usr/local/lib/python3.8/dist-packages/keras/engine/functional.py:582: UserWarning: Input dict contained keys ['ground_truth_trajectory', 'scene_id', 'track_id', 'prerendered_feature_map'] which did not match any model input. They will be ignored by the model.\n",
            "  warnings.warn(\n",
            "338it [01:26,  4.39it/s]/usr/local/lib/python3.8/dist-packages/keras/engine/functional.py:582: UserWarning: Input dict contained keys ['ground_truth_trajectory', 'scene_id', 'track_id', 'prerendered_feature_map'] which did not match any model input. They will be ignored by the model.\n",
            "  warnings.warn(\n",
            "339it [01:27,  4.23it/s]/usr/local/lib/python3.8/dist-packages/keras/engine/functional.py:582: UserWarning: Input dict contained keys ['ground_truth_trajectory', 'scene_id', 'track_id', 'prerendered_feature_map'] which did not match any model input. They will be ignored by the model.\n",
            "  warnings.warn(\n",
            "340it [01:27,  3.96it/s]/usr/local/lib/python3.8/dist-packages/keras/engine/functional.py:582: UserWarning: Input dict contained keys ['ground_truth_trajectory', 'scene_id', 'track_id', 'prerendered_feature_map'] which did not match any model input. They will be ignored by the model.\n",
            "  warnings.warn(\n",
            "341it [01:27,  3.79it/s]/usr/local/lib/python3.8/dist-packages/keras/engine/functional.py:582: UserWarning: Input dict contained keys ['ground_truth_trajectory', 'scene_id', 'track_id', 'prerendered_feature_map'] which did not match any model input. They will be ignored by the model.\n",
            "  warnings.warn(\n",
            "342it [01:27,  3.84it/s]/usr/local/lib/python3.8/dist-packages/keras/engine/functional.py:582: UserWarning: Input dict contained keys ['ground_truth_trajectory', 'scene_id', 'track_id', 'prerendered_feature_map'] which did not match any model input. They will be ignored by the model.\n",
            "  warnings.warn(\n",
            "343it [01:28,  3.80it/s]/usr/local/lib/python3.8/dist-packages/keras/engine/functional.py:582: UserWarning: Input dict contained keys ['ground_truth_trajectory', 'scene_id', 'track_id', 'prerendered_feature_map'] which did not match any model input. They will be ignored by the model.\n",
            "  warnings.warn(\n",
            "344it [01:28,  3.76it/s]/usr/local/lib/python3.8/dist-packages/keras/engine/functional.py:582: UserWarning: Input dict contained keys ['ground_truth_trajectory', 'scene_id', 'track_id', 'prerendered_feature_map'] which did not match any model input. They will be ignored by the model.\n",
            "  warnings.warn(\n",
            "345it [01:28,  3.73it/s]/usr/local/lib/python3.8/dist-packages/keras/engine/functional.py:582: UserWarning: Input dict contained keys ['ground_truth_trajectory', 'scene_id', 'track_id', 'prerendered_feature_map'] which did not match any model input. They will be ignored by the model.\n",
            "  warnings.warn(\n",
            "346it [01:28,  3.61it/s]/usr/local/lib/python3.8/dist-packages/keras/engine/functional.py:582: UserWarning: Input dict contained keys ['ground_truth_trajectory', 'scene_id', 'track_id', 'prerendered_feature_map'] which did not match any model input. They will be ignored by the model.\n",
            "  warnings.warn(\n",
            "347it [01:29,  3.56it/s]/usr/local/lib/python3.8/dist-packages/keras/engine/functional.py:582: UserWarning: Input dict contained keys ['ground_truth_trajectory', 'scene_id', 'track_id', 'prerendered_feature_map'] which did not match any model input. They will be ignored by the model.\n",
            "  warnings.warn(\n",
            "348it [01:29,  3.69it/s]/usr/local/lib/python3.8/dist-packages/keras/engine/functional.py:582: UserWarning: Input dict contained keys ['ground_truth_trajectory', 'scene_id', 'track_id', 'prerendered_feature_map'] which did not match any model input. They will be ignored by the model.\n",
            "  warnings.warn(\n",
            "349it [01:29,  3.87it/s]/usr/local/lib/python3.8/dist-packages/keras/engine/functional.py:582: UserWarning: Input dict contained keys ['ground_truth_trajectory', 'scene_id', 'track_id', 'prerendered_feature_map'] which did not match any model input. They will be ignored by the model.\n",
            "  warnings.warn(\n",
            "350it [01:30,  3.83it/s]/usr/local/lib/python3.8/dist-packages/keras/engine/functional.py:582: UserWarning: Input dict contained keys ['ground_truth_trajectory', 'scene_id', 'track_id', 'prerendered_feature_map'] which did not match any model input. They will be ignored by the model.\n",
            "  warnings.warn(\n",
            "351it [01:30,  3.73it/s]/usr/local/lib/python3.8/dist-packages/keras/engine/functional.py:582: UserWarning: Input dict contained keys ['ground_truth_trajectory', 'scene_id', 'track_id', 'prerendered_feature_map'] which did not match any model input. They will be ignored by the model.\n",
            "  warnings.warn(\n",
            "352it [01:30,  3.79it/s]/usr/local/lib/python3.8/dist-packages/keras/engine/functional.py:582: UserWarning: Input dict contained keys ['ground_truth_trajectory', 'scene_id', 'track_id', 'prerendered_feature_map'] which did not match any model input. They will be ignored by the model.\n",
            "  warnings.warn(\n",
            "353it [01:30,  3.81it/s]/usr/local/lib/python3.8/dist-packages/keras/engine/functional.py:582: UserWarning: Input dict contained keys ['ground_truth_trajectory', 'scene_id', 'track_id', 'prerendered_feature_map'] which did not match any model input. They will be ignored by the model.\n",
            "  warnings.warn(\n",
            "354it [01:31,  4.01it/s]/usr/local/lib/python3.8/dist-packages/keras/engine/functional.py:582: UserWarning: Input dict contained keys ['ground_truth_trajectory', 'scene_id', 'track_id', 'prerendered_feature_map'] which did not match any model input. They will be ignored by the model.\n",
            "  warnings.warn(\n",
            "355it [01:31,  3.88it/s]/usr/local/lib/python3.8/dist-packages/keras/engine/functional.py:582: UserWarning: Input dict contained keys ['ground_truth_trajectory', 'scene_id', 'track_id', 'prerendered_feature_map'] which did not match any model input. They will be ignored by the model.\n",
            "  warnings.warn(\n",
            "356it [01:32,  2.41it/s]/usr/local/lib/python3.8/dist-packages/keras/engine/functional.py:582: UserWarning: Input dict contained keys ['ground_truth_trajectory', 'scene_id', 'track_id', 'prerendered_feature_map'] which did not match any model input. They will be ignored by the model.\n",
            "  warnings.warn(\n",
            "357it [01:33,  1.42it/s]/usr/local/lib/python3.8/dist-packages/keras/engine/functional.py:582: UserWarning: Input dict contained keys ['ground_truth_trajectory', 'scene_id', 'track_id', 'prerendered_feature_map'] which did not match any model input. They will be ignored by the model.\n",
            "  warnings.warn(\n",
            "358it [01:33,  1.78it/s]/usr/local/lib/python3.8/dist-packages/keras/engine/functional.py:582: UserWarning: Input dict contained keys ['ground_truth_trajectory', 'scene_id', 'track_id', 'prerendered_feature_map'] which did not match any model input. They will be ignored by the model.\n",
            "  warnings.warn(\n",
            "359it [01:33,  2.15it/s]/usr/local/lib/python3.8/dist-packages/keras/engine/functional.py:582: UserWarning: Input dict contained keys ['ground_truth_trajectory', 'scene_id', 'track_id', 'prerendered_feature_map'] which did not match any model input. They will be ignored by the model.\n",
            "  warnings.warn(\n",
            "360it [01:34,  2.56it/s]/usr/local/lib/python3.8/dist-packages/keras/engine/functional.py:582: UserWarning: Input dict contained keys ['ground_truth_trajectory', 'scene_id', 'track_id', 'prerendered_feature_map'] which did not match any model input. They will be ignored by the model.\n",
            "  warnings.warn(\n",
            "361it [01:34,  2.83it/s]/usr/local/lib/python3.8/dist-packages/keras/engine/functional.py:582: UserWarning: Input dict contained keys ['ground_truth_trajectory', 'scene_id', 'track_id', 'prerendered_feature_map'] which did not match any model input. They will be ignored by the model.\n",
            "  warnings.warn(\n",
            "362it [01:34,  3.05it/s]/usr/local/lib/python3.8/dist-packages/keras/engine/functional.py:582: UserWarning: Input dict contained keys ['ground_truth_trajectory', 'scene_id', 'track_id', 'prerendered_feature_map'] which did not match any model input. They will be ignored by the model.\n",
            "  warnings.warn(\n",
            "363it [01:34,  3.42it/s]/usr/local/lib/python3.8/dist-packages/keras/engine/functional.py:582: UserWarning: Input dict contained keys ['ground_truth_trajectory', 'scene_id', 'track_id', 'prerendered_feature_map'] which did not match any model input. They will be ignored by the model.\n",
            "  warnings.warn(\n",
            "364it [01:35,  3.61it/s]/usr/local/lib/python3.8/dist-packages/keras/engine/functional.py:582: UserWarning: Input dict contained keys ['ground_truth_trajectory', 'scene_id', 'track_id', 'prerendered_feature_map'] which did not match any model input. They will be ignored by the model.\n",
            "  warnings.warn(\n",
            "365it [01:35,  3.89it/s]/usr/local/lib/python3.8/dist-packages/keras/engine/functional.py:582: UserWarning: Input dict contained keys ['ground_truth_trajectory', 'scene_id', 'track_id', 'prerendered_feature_map'] which did not match any model input. They will be ignored by the model.\n",
            "  warnings.warn(\n",
            "366it [01:35,  4.08it/s]/usr/local/lib/python3.8/dist-packages/keras/engine/functional.py:582: UserWarning: Input dict contained keys ['ground_truth_trajectory', 'scene_id', 'track_id', 'prerendered_feature_map'] which did not match any model input. They will be ignored by the model.\n",
            "  warnings.warn(\n",
            "367it [01:35,  4.17it/s]/usr/local/lib/python3.8/dist-packages/keras/engine/functional.py:582: UserWarning: Input dict contained keys ['ground_truth_trajectory', 'scene_id', 'track_id', 'prerendered_feature_map'] which did not match any model input. They will be ignored by the model.\n",
            "  warnings.warn(\n",
            "368it [01:36,  4.38it/s]/usr/local/lib/python3.8/dist-packages/keras/engine/functional.py:582: UserWarning: Input dict contained keys ['ground_truth_trajectory', 'scene_id', 'track_id', 'prerendered_feature_map'] which did not match any model input. They will be ignored by the model.\n",
            "  warnings.warn(\n",
            "369it [01:36,  4.38it/s]/usr/local/lib/python3.8/dist-packages/keras/engine/functional.py:582: UserWarning: Input dict contained keys ['ground_truth_trajectory', 'scene_id', 'track_id', 'prerendered_feature_map'] which did not match any model input. They will be ignored by the model.\n",
            "  warnings.warn(\n",
            "370it [01:36,  4.41it/s]/usr/local/lib/python3.8/dist-packages/keras/engine/functional.py:582: UserWarning: Input dict contained keys ['ground_truth_trajectory', 'scene_id', 'track_id', 'prerendered_feature_map'] which did not match any model input. They will be ignored by the model.\n",
            "  warnings.warn(\n",
            "371it [01:36,  4.33it/s]/usr/local/lib/python3.8/dist-packages/keras/engine/functional.py:582: UserWarning: Input dict contained keys ['ground_truth_trajectory', 'scene_id', 'track_id', 'prerendered_feature_map'] which did not match any model input. They will be ignored by the model.\n",
            "  warnings.warn(\n",
            "372it [01:36,  4.19it/s]/usr/local/lib/python3.8/dist-packages/keras/engine/functional.py:582: UserWarning: Input dict contained keys ['ground_truth_trajectory', 'scene_id', 'track_id', 'prerendered_feature_map'] which did not match any model input. They will be ignored by the model.\n",
            "  warnings.warn(\n",
            "373it [01:37,  4.16it/s]/usr/local/lib/python3.8/dist-packages/keras/engine/functional.py:582: UserWarning: Input dict contained keys ['ground_truth_trajectory', 'scene_id', 'track_id', 'prerendered_feature_map'] which did not match any model input. They will be ignored by the model.\n",
            "  warnings.warn(\n",
            "374it [01:37,  4.26it/s]/usr/local/lib/python3.8/dist-packages/keras/engine/functional.py:582: UserWarning: Input dict contained keys ['ground_truth_trajectory', 'scene_id', 'track_id', 'prerendered_feature_map'] which did not match any model input. They will be ignored by the model.\n",
            "  warnings.warn(\n",
            "375it [01:37,  4.26it/s]/usr/local/lib/python3.8/dist-packages/keras/engine/functional.py:582: UserWarning: Input dict contained keys ['ground_truth_trajectory', 'scene_id', 'track_id', 'prerendered_feature_map'] which did not match any model input. They will be ignored by the model.\n",
            "  warnings.warn(\n",
            "376it [01:37,  4.36it/s]/usr/local/lib/python3.8/dist-packages/keras/engine/functional.py:582: UserWarning: Input dict contained keys ['ground_truth_trajectory', 'scene_id', 'track_id', 'prerendered_feature_map'] which did not match any model input. They will be ignored by the model.\n",
            "  warnings.warn(\n",
            "377it [01:38,  4.29it/s]/usr/local/lib/python3.8/dist-packages/keras/engine/functional.py:582: UserWarning: Input dict contained keys ['ground_truth_trajectory', 'scene_id', 'track_id', 'prerendered_feature_map'] which did not match any model input. They will be ignored by the model.\n",
            "  warnings.warn(\n",
            "378it [01:38,  4.31it/s]/usr/local/lib/python3.8/dist-packages/keras/engine/functional.py:582: UserWarning: Input dict contained keys ['ground_truth_trajectory', 'scene_id', 'track_id', 'prerendered_feature_map'] which did not match any model input. They will be ignored by the model.\n",
            "  warnings.warn(\n",
            "379it [01:38,  4.30it/s]/usr/local/lib/python3.8/dist-packages/keras/engine/functional.py:582: UserWarning: Input dict contained keys ['ground_truth_trajectory', 'scene_id', 'track_id', 'prerendered_feature_map'] which did not match any model input. They will be ignored by the model.\n",
            "  warnings.warn(\n",
            "380it [01:38,  4.39it/s]/usr/local/lib/python3.8/dist-packages/keras/engine/functional.py:582: UserWarning: Input dict contained keys ['ground_truth_trajectory', 'scene_id', 'track_id', 'prerendered_feature_map'] which did not match any model input. They will be ignored by the model.\n",
            "  warnings.warn(\n",
            "381it [01:39,  4.38it/s]/usr/local/lib/python3.8/dist-packages/keras/engine/functional.py:582: UserWarning: Input dict contained keys ['ground_truth_trajectory', 'scene_id', 'track_id', 'prerendered_feature_map'] which did not match any model input. They will be ignored by the model.\n",
            "  warnings.warn(\n",
            "382it [01:39,  4.42it/s]/usr/local/lib/python3.8/dist-packages/keras/engine/functional.py:582: UserWarning: Input dict contained keys ['ground_truth_trajectory', 'scene_id', 'track_id', 'prerendered_feature_map'] which did not match any model input. They will be ignored by the model.\n",
            "  warnings.warn(\n",
            "383it [01:39,  4.25it/s]/usr/local/lib/python3.8/dist-packages/keras/engine/functional.py:582: UserWarning: Input dict contained keys ['ground_truth_trajectory', 'scene_id', 'track_id', 'prerendered_feature_map'] which did not match any model input. They will be ignored by the model.\n",
            "  warnings.warn(\n",
            "384it [01:39,  4.35it/s]/usr/local/lib/python3.8/dist-packages/keras/engine/functional.py:582: UserWarning: Input dict contained keys ['ground_truth_trajectory', 'scene_id', 'track_id', 'prerendered_feature_map'] which did not match any model input. They will be ignored by the model.\n",
            "  warnings.warn(\n",
            "385it [01:39,  4.29it/s]/usr/local/lib/python3.8/dist-packages/keras/engine/functional.py:582: UserWarning: Input dict contained keys ['ground_truth_trajectory', 'scene_id', 'track_id', 'prerendered_feature_map'] which did not match any model input. They will be ignored by the model.\n",
            "  warnings.warn(\n",
            "386it [01:40,  4.25it/s]/usr/local/lib/python3.8/dist-packages/keras/engine/functional.py:582: UserWarning: Input dict contained keys ['ground_truth_trajectory', 'scene_id', 'track_id', 'prerendered_feature_map'] which did not match any model input. They will be ignored by the model.\n",
            "  warnings.warn(\n",
            "387it [01:40,  3.91it/s]/usr/local/lib/python3.8/dist-packages/keras/engine/functional.py:582: UserWarning: Input dict contained keys ['ground_truth_trajectory', 'scene_id', 'track_id', 'prerendered_feature_map'] which did not match any model input. They will be ignored by the model.\n",
            "  warnings.warn(\n",
            "388it [01:40,  4.06it/s]/usr/local/lib/python3.8/dist-packages/keras/engine/functional.py:582: UserWarning: Input dict contained keys ['ground_truth_trajectory', 'scene_id', 'track_id', 'prerendered_feature_map'] which did not match any model input. They will be ignored by the model.\n",
            "  warnings.warn(\n",
            "389it [01:41,  3.84it/s]/usr/local/lib/python3.8/dist-packages/keras/engine/functional.py:582: UserWarning: Input dict contained keys ['ground_truth_trajectory', 'scene_id', 'track_id', 'prerendered_feature_map'] which did not match any model input. They will be ignored by the model.\n",
            "  warnings.warn(\n",
            "390it [01:41,  4.08it/s]/usr/local/lib/python3.8/dist-packages/keras/engine/functional.py:582: UserWarning: Input dict contained keys ['ground_truth_trajectory', 'scene_id', 'track_id', 'prerendered_feature_map'] which did not match any model input. They will be ignored by the model.\n",
            "  warnings.warn(\n",
            "391it [01:41,  4.22it/s]/usr/local/lib/python3.8/dist-packages/keras/engine/functional.py:582: UserWarning: Input dict contained keys ['ground_truth_trajectory', 'scene_id', 'track_id', 'prerendered_feature_map'] which did not match any model input. They will be ignored by the model.\n",
            "  warnings.warn(\n",
            "392it [01:41,  4.33it/s]/usr/local/lib/python3.8/dist-packages/keras/engine/functional.py:582: UserWarning: Input dict contained keys ['ground_truth_trajectory', 'scene_id', 'track_id', 'prerendered_feature_map'] which did not match any model input. They will be ignored by the model.\n",
            "  warnings.warn(\n",
            "393it [01:41,  4.23it/s]/usr/local/lib/python3.8/dist-packages/keras/engine/functional.py:582: UserWarning: Input dict contained keys ['ground_truth_trajectory', 'scene_id', 'track_id', 'prerendered_feature_map'] which did not match any model input. They will be ignored by the model.\n",
            "  warnings.warn(\n",
            "394it [01:42,  4.07it/s]/usr/local/lib/python3.8/dist-packages/keras/engine/functional.py:582: UserWarning: Input dict contained keys ['ground_truth_trajectory', 'scene_id', 'track_id', 'prerendered_feature_map'] which did not match any model input. They will be ignored by the model.\n",
            "  warnings.warn(\n",
            "395it [01:42,  4.17it/s]/usr/local/lib/python3.8/dist-packages/keras/engine/functional.py:582: UserWarning: Input dict contained keys ['ground_truth_trajectory', 'scene_id', 'track_id', 'prerendered_feature_map'] which did not match any model input. They will be ignored by the model.\n",
            "  warnings.warn(\n",
            "396it [01:42,  4.33it/s]/usr/local/lib/python3.8/dist-packages/keras/engine/functional.py:582: UserWarning: Input dict contained keys ['ground_truth_trajectory', 'scene_id', 'track_id', 'prerendered_feature_map'] which did not match any model input. They will be ignored by the model.\n",
            "  warnings.warn(\n",
            "397it [01:42,  4.22it/s]/usr/local/lib/python3.8/dist-packages/keras/engine/functional.py:582: UserWarning: Input dict contained keys ['ground_truth_trajectory', 'scene_id', 'track_id', 'prerendered_feature_map'] which did not match any model input. They will be ignored by the model.\n",
            "  warnings.warn(\n",
            "398it [01:43,  4.34it/s]/usr/local/lib/python3.8/dist-packages/keras/engine/functional.py:582: UserWarning: Input dict contained keys ['ground_truth_trajectory', 'scene_id', 'track_id', 'prerendered_feature_map'] which did not match any model input. They will be ignored by the model.\n",
            "  warnings.warn(\n",
            "399it [01:43,  4.48it/s]/usr/local/lib/python3.8/dist-packages/keras/engine/functional.py:582: UserWarning: Input dict contained keys ['ground_truth_trajectory', 'scene_id', 'track_id', 'prerendered_feature_map'] which did not match any model input. They will be ignored by the model.\n",
            "  warnings.warn(\n",
            "400it [01:43,  4.29it/s]/usr/local/lib/python3.8/dist-packages/keras/engine/functional.py:582: UserWarning: Input dict contained keys ['ground_truth_trajectory', 'scene_id', 'track_id', 'prerendered_feature_map'] which did not match any model input. They will be ignored by the model.\n",
            "  warnings.warn(\n",
            "401it [01:43,  4.15it/s]/usr/local/lib/python3.8/dist-packages/keras/engine/functional.py:582: UserWarning: Input dict contained keys ['ground_truth_trajectory', 'scene_id', 'track_id', 'prerendered_feature_map'] which did not match any model input. They will be ignored by the model.\n",
            "  warnings.warn(\n",
            "402it [01:44,  4.00it/s]/usr/local/lib/python3.8/dist-packages/keras/engine/functional.py:582: UserWarning: Input dict contained keys ['ground_truth_trajectory', 'scene_id', 'track_id', 'prerendered_feature_map'] which did not match any model input. They will be ignored by the model.\n",
            "  warnings.warn(\n",
            "403it [01:44,  4.04it/s]/usr/local/lib/python3.8/dist-packages/keras/engine/functional.py:582: UserWarning: Input dict contained keys ['ground_truth_trajectory', 'scene_id', 'track_id', 'prerendered_feature_map'] which did not match any model input. They will be ignored by the model.\n",
            "  warnings.warn(\n",
            "404it [01:44,  4.03it/s]/usr/local/lib/python3.8/dist-packages/keras/engine/functional.py:582: UserWarning: Input dict contained keys ['ground_truth_trajectory', 'scene_id', 'track_id', 'prerendered_feature_map'] which did not match any model input. They will be ignored by the model.\n",
            "  warnings.warn(\n",
            "405it [01:44,  4.13it/s]/usr/local/lib/python3.8/dist-packages/keras/engine/functional.py:582: UserWarning: Input dict contained keys ['ground_truth_trajectory', 'scene_id', 'track_id', 'prerendered_feature_map'] which did not match any model input. They will be ignored by the model.\n",
            "  warnings.warn(\n",
            "406it [01:45,  4.08it/s]/usr/local/lib/python3.8/dist-packages/keras/engine/functional.py:582: UserWarning: Input dict contained keys ['ground_truth_trajectory', 'scene_id', 'track_id', 'prerendered_feature_map'] which did not match any model input. They will be ignored by the model.\n",
            "  warnings.warn(\n",
            "407it [01:45,  4.05it/s]/usr/local/lib/python3.8/dist-packages/keras/engine/functional.py:582: UserWarning: Input dict contained keys ['ground_truth_trajectory', 'scene_id', 'track_id', 'prerendered_feature_map'] which did not match any model input. They will be ignored by the model.\n",
            "  warnings.warn(\n",
            "408it [01:45,  3.95it/s]/usr/local/lib/python3.8/dist-packages/keras/engine/functional.py:582: UserWarning: Input dict contained keys ['ground_truth_trajectory', 'scene_id', 'track_id', 'prerendered_feature_map'] which did not match any model input. They will be ignored by the model.\n",
            "  warnings.warn(\n",
            "409it [01:45,  3.97it/s]/usr/local/lib/python3.8/dist-packages/keras/engine/functional.py:582: UserWarning: Input dict contained keys ['ground_truth_trajectory', 'scene_id', 'track_id', 'prerendered_feature_map'] which did not match any model input. They will be ignored by the model.\n",
            "  warnings.warn(\n",
            "410it [01:46,  3.98it/s]/usr/local/lib/python3.8/dist-packages/keras/engine/functional.py:582: UserWarning: Input dict contained keys ['ground_truth_trajectory', 'scene_id', 'track_id', 'prerendered_feature_map'] which did not match any model input. They will be ignored by the model.\n",
            "  warnings.warn(\n",
            "411it [01:46,  3.81it/s]/usr/local/lib/python3.8/dist-packages/keras/engine/functional.py:582: UserWarning: Input dict contained keys ['ground_truth_trajectory', 'scene_id', 'track_id', 'prerendered_feature_map'] which did not match any model input. They will be ignored by the model.\n",
            "  warnings.warn(\n",
            "412it [01:46,  3.77it/s]/usr/local/lib/python3.8/dist-packages/keras/engine/functional.py:582: UserWarning: Input dict contained keys ['ground_truth_trajectory', 'scene_id', 'track_id', 'prerendered_feature_map'] which did not match any model input. They will be ignored by the model.\n",
            "  warnings.warn(\n",
            "413it [01:46,  3.74it/s]/usr/local/lib/python3.8/dist-packages/keras/engine/functional.py:582: UserWarning: Input dict contained keys ['ground_truth_trajectory', 'scene_id', 'track_id', 'prerendered_feature_map'] which did not match any model input. They will be ignored by the model.\n",
            "  warnings.warn(\n",
            "414it [01:47,  3.83it/s]/usr/local/lib/python3.8/dist-packages/keras/engine/functional.py:582: UserWarning: Input dict contained keys ['ground_truth_trajectory', 'scene_id', 'track_id', 'prerendered_feature_map'] which did not match any model input. They will be ignored by the model.\n",
            "  warnings.warn(\n",
            "415it [01:47,  3.82it/s]/usr/local/lib/python3.8/dist-packages/keras/engine/functional.py:582: UserWarning: Input dict contained keys ['ground_truth_trajectory', 'scene_id', 'track_id', 'prerendered_feature_map'] which did not match any model input. They will be ignored by the model.\n",
            "  warnings.warn(\n",
            "416it [01:47,  3.76it/s]/usr/local/lib/python3.8/dist-packages/keras/engine/functional.py:582: UserWarning: Input dict contained keys ['ground_truth_trajectory', 'scene_id', 'track_id', 'prerendered_feature_map'] which did not match any model input. They will be ignored by the model.\n",
            "  warnings.warn(\n",
            "417it [01:47,  4.00it/s]/usr/local/lib/python3.8/dist-packages/keras/engine/functional.py:582: UserWarning: Input dict contained keys ['ground_truth_trajectory', 'scene_id', 'track_id', 'prerendered_feature_map'] which did not match any model input. They will be ignored by the model.\n",
            "  warnings.warn(\n",
            "418it [01:48,  4.15it/s]/usr/local/lib/python3.8/dist-packages/keras/engine/functional.py:582: UserWarning: Input dict contained keys ['ground_truth_trajectory', 'scene_id', 'track_id', 'prerendered_feature_map'] which did not match any model input. They will be ignored by the model.\n",
            "  warnings.warn(\n",
            "419it [01:48,  4.19it/s]/usr/local/lib/python3.8/dist-packages/keras/engine/functional.py:582: UserWarning: Input dict contained keys ['ground_truth_trajectory', 'scene_id', 'track_id', 'prerendered_feature_map'] which did not match any model input. They will be ignored by the model.\n",
            "  warnings.warn(\n",
            "420it [01:48,  4.29it/s]/usr/local/lib/python3.8/dist-packages/keras/engine/functional.py:582: UserWarning: Input dict contained keys ['ground_truth_trajectory', 'scene_id', 'track_id', 'prerendered_feature_map'] which did not match any model input. They will be ignored by the model.\n",
            "  warnings.warn(\n",
            "421it [01:48,  4.30it/s]/usr/local/lib/python3.8/dist-packages/keras/engine/functional.py:582: UserWarning: Input dict contained keys ['ground_truth_trajectory', 'scene_id', 'track_id', 'prerendered_feature_map'] which did not match any model input. They will be ignored by the model.\n",
            "  warnings.warn(\n",
            "422it [01:49,  4.14it/s]/usr/local/lib/python3.8/dist-packages/keras/engine/functional.py:582: UserWarning: Input dict contained keys ['ground_truth_trajectory', 'scene_id', 'track_id', 'prerendered_feature_map'] which did not match any model input. They will be ignored by the model.\n",
            "  warnings.warn(\n",
            "423it [01:49,  4.25it/s]/usr/local/lib/python3.8/dist-packages/keras/engine/functional.py:582: UserWarning: Input dict contained keys ['ground_truth_trajectory', 'scene_id', 'track_id', 'prerendered_feature_map'] which did not match any model input. They will be ignored by the model.\n",
            "  warnings.warn(\n",
            "424it [01:49,  4.19it/s]/usr/local/lib/python3.8/dist-packages/keras/engine/functional.py:582: UserWarning: Input dict contained keys ['ground_truth_trajectory', 'scene_id', 'track_id', 'prerendered_feature_map'] which did not match any model input. They will be ignored by the model.\n",
            "  warnings.warn(\n",
            "425it [01:49,  4.13it/s]/usr/local/lib/python3.8/dist-packages/keras/engine/functional.py:582: UserWarning: Input dict contained keys ['ground_truth_trajectory', 'scene_id', 'track_id', 'prerendered_feature_map'] which did not match any model input. They will be ignored by the model.\n",
            "  warnings.warn(\n",
            "426it [01:50,  4.16it/s]/usr/local/lib/python3.8/dist-packages/keras/engine/functional.py:582: UserWarning: Input dict contained keys ['ground_truth_trajectory', 'scene_id', 'track_id', 'prerendered_feature_map'] which did not match any model input. They will be ignored by the model.\n",
            "  warnings.warn(\n",
            "427it [01:50,  4.26it/s]/usr/local/lib/python3.8/dist-packages/keras/engine/functional.py:582: UserWarning: Input dict contained keys ['ground_truth_trajectory', 'scene_id', 'track_id', 'prerendered_feature_map'] which did not match any model input. They will be ignored by the model.\n",
            "  warnings.warn(\n",
            "428it [01:50,  4.20it/s]/usr/local/lib/python3.8/dist-packages/keras/engine/functional.py:582: UserWarning: Input dict contained keys ['ground_truth_trajectory', 'scene_id', 'track_id', 'prerendered_feature_map'] which did not match any model input. They will be ignored by the model.\n",
            "  warnings.warn(\n",
            "429it [01:50,  3.52it/s]/usr/local/lib/python3.8/dist-packages/keras/engine/functional.py:582: UserWarning: Input dict contained keys ['ground_truth_trajectory', 'scene_id', 'track_id', 'prerendered_feature_map'] which did not match any model input. They will be ignored by the model.\n",
            "  warnings.warn(\n",
            "430it [01:51,  3.82it/s]/usr/local/lib/python3.8/dist-packages/keras/engine/functional.py:582: UserWarning: Input dict contained keys ['ground_truth_trajectory', 'scene_id', 'track_id', 'prerendered_feature_map'] which did not match any model input. They will be ignored by the model.\n",
            "  warnings.warn(\n",
            "431it [01:51,  3.93it/s]/usr/local/lib/python3.8/dist-packages/keras/engine/functional.py:582: UserWarning: Input dict contained keys ['ground_truth_trajectory', 'scene_id', 'track_id', 'prerendered_feature_map'] which did not match any model input. They will be ignored by the model.\n",
            "  warnings.warn(\n",
            "432it [01:51,  4.08it/s]/usr/local/lib/python3.8/dist-packages/keras/engine/functional.py:582: UserWarning: Input dict contained keys ['ground_truth_trajectory', 'scene_id', 'track_id', 'prerendered_feature_map'] which did not match any model input. They will be ignored by the model.\n",
            "  warnings.warn(\n",
            "433it [01:51,  4.16it/s]/usr/local/lib/python3.8/dist-packages/keras/engine/functional.py:582: UserWarning: Input dict contained keys ['ground_truth_trajectory', 'scene_id', 'track_id', 'prerendered_feature_map'] which did not match any model input. They will be ignored by the model.\n",
            "  warnings.warn(\n",
            "434it [01:51,  4.25it/s]/usr/local/lib/python3.8/dist-packages/keras/engine/functional.py:582: UserWarning: Input dict contained keys ['ground_truth_trajectory', 'scene_id', 'track_id', 'prerendered_feature_map'] which did not match any model input. They will be ignored by the model.\n",
            "  warnings.warn(\n",
            "435it [01:52,  4.29it/s]/usr/local/lib/python3.8/dist-packages/keras/engine/functional.py:582: UserWarning: Input dict contained keys ['ground_truth_trajectory', 'scene_id', 'track_id', 'prerendered_feature_map'] which did not match any model input. They will be ignored by the model.\n",
            "  warnings.warn(\n",
            "436it [01:52,  4.48it/s]/usr/local/lib/python3.8/dist-packages/keras/engine/functional.py:582: UserWarning: Input dict contained keys ['ground_truth_trajectory', 'scene_id', 'track_id', 'prerendered_feature_map'] which did not match any model input. They will be ignored by the model.\n",
            "  warnings.warn(\n",
            "437it [01:52,  4.45it/s]/usr/local/lib/python3.8/dist-packages/keras/engine/functional.py:582: UserWarning: Input dict contained keys ['ground_truth_trajectory', 'scene_id', 'track_id', 'prerendered_feature_map'] which did not match any model input. They will be ignored by the model.\n",
            "  warnings.warn(\n",
            "438it [01:52,  4.43it/s]/usr/local/lib/python3.8/dist-packages/keras/engine/functional.py:582: UserWarning: Input dict contained keys ['ground_truth_trajectory', 'scene_id', 'track_id', 'prerendered_feature_map'] which did not match any model input. They will be ignored by the model.\n",
            "  warnings.warn(\n",
            "439it [01:53,  4.40it/s]/usr/local/lib/python3.8/dist-packages/keras/engine/functional.py:582: UserWarning: Input dict contained keys ['ground_truth_trajectory', 'scene_id', 'track_id', 'prerendered_feature_map'] which did not match any model input. They will be ignored by the model.\n",
            "  warnings.warn(\n",
            "440it [01:53,  4.35it/s]/usr/local/lib/python3.8/dist-packages/keras/engine/functional.py:582: UserWarning: Input dict contained keys ['ground_truth_trajectory', 'scene_id', 'track_id', 'prerendered_feature_map'] which did not match any model input. They will be ignored by the model.\n",
            "  warnings.warn(\n",
            "441it [01:53,  4.38it/s]/usr/local/lib/python3.8/dist-packages/keras/engine/functional.py:582: UserWarning: Input dict contained keys ['ground_truth_trajectory', 'scene_id', 'track_id', 'prerendered_feature_map'] which did not match any model input. They will be ignored by the model.\n",
            "  warnings.warn(\n",
            "442it [01:53,  4.40it/s]/usr/local/lib/python3.8/dist-packages/keras/engine/functional.py:582: UserWarning: Input dict contained keys ['ground_truth_trajectory', 'scene_id', 'track_id', 'prerendered_feature_map'] which did not match any model input. They will be ignored by the model.\n",
            "  warnings.warn(\n",
            "443it [01:54,  4.53it/s]/usr/local/lib/python3.8/dist-packages/keras/engine/functional.py:582: UserWarning: Input dict contained keys ['ground_truth_trajectory', 'scene_id', 'track_id', 'prerendered_feature_map'] which did not match any model input. They will be ignored by the model.\n",
            "  warnings.warn(\n",
            "444it [01:54,  4.09it/s]/usr/local/lib/python3.8/dist-packages/keras/engine/functional.py:582: UserWarning: Input dict contained keys ['ground_truth_trajectory', 'scene_id', 'track_id', 'prerendered_feature_map'] which did not match any model input. They will be ignored by the model.\n",
            "  warnings.warn(\n",
            "445it [01:54,  3.93it/s]/usr/local/lib/python3.8/dist-packages/keras/engine/functional.py:582: UserWarning: Input dict contained keys ['ground_truth_trajectory', 'scene_id', 'track_id', 'prerendered_feature_map'] which did not match any model input. They will be ignored by the model.\n",
            "  warnings.warn(\n",
            "446it [01:54,  3.89it/s]/usr/local/lib/python3.8/dist-packages/keras/engine/functional.py:582: UserWarning: Input dict contained keys ['ground_truth_trajectory', 'scene_id', 'track_id', 'prerendered_feature_map'] which did not match any model input. They will be ignored by the model.\n",
            "  warnings.warn(\n",
            "447it [01:55,  4.00it/s]/usr/local/lib/python3.8/dist-packages/keras/engine/functional.py:582: UserWarning: Input dict contained keys ['ground_truth_trajectory', 'scene_id', 'track_id', 'prerendered_feature_map'] which did not match any model input. They will be ignored by the model.\n",
            "  warnings.warn(\n",
            "448it [01:55,  4.08it/s]/usr/local/lib/python3.8/dist-packages/keras/engine/functional.py:582: UserWarning: Input dict contained keys ['ground_truth_trajectory', 'scene_id', 'track_id', 'prerendered_feature_map'] which did not match any model input. They will be ignored by the model.\n",
            "  warnings.warn(\n",
            "449it [01:55,  4.00it/s]/usr/local/lib/python3.8/dist-packages/keras/engine/functional.py:582: UserWarning: Input dict contained keys ['ground_truth_trajectory', 'scene_id', 'track_id', 'prerendered_feature_map'] which did not match any model input. They will be ignored by the model.\n",
            "  warnings.warn(\n",
            "450it [01:55,  3.87it/s]/usr/local/lib/python3.8/dist-packages/keras/engine/functional.py:582: UserWarning: Input dict contained keys ['ground_truth_trajectory', 'scene_id', 'track_id', 'prerendered_feature_map'] which did not match any model input. They will be ignored by the model.\n",
            "  warnings.warn(\n",
            "451it [01:56,  3.73it/s]/usr/local/lib/python3.8/dist-packages/keras/engine/functional.py:582: UserWarning: Input dict contained keys ['ground_truth_trajectory', 'scene_id', 'track_id', 'prerendered_feature_map'] which did not match any model input. They will be ignored by the model.\n",
            "  warnings.warn(\n",
            "452it [01:56,  3.67it/s]/usr/local/lib/python3.8/dist-packages/keras/engine/functional.py:582: UserWarning: Input dict contained keys ['ground_truth_trajectory', 'scene_id', 'track_id', 'prerendered_feature_map'] which did not match any model input. They will be ignored by the model.\n",
            "  warnings.warn(\n",
            "453it [01:56,  3.80it/s]/usr/local/lib/python3.8/dist-packages/keras/engine/functional.py:582: UserWarning: Input dict contained keys ['ground_truth_trajectory', 'scene_id', 'track_id', 'prerendered_feature_map'] which did not match any model input. They will be ignored by the model.\n",
            "  warnings.warn(\n",
            "454it [01:56,  3.71it/s]/usr/local/lib/python3.8/dist-packages/keras/engine/functional.py:582: UserWarning: Input dict contained keys ['ground_truth_trajectory', 'scene_id', 'track_id', 'prerendered_feature_map'] which did not match any model input. They will be ignored by the model.\n",
            "  warnings.warn(\n",
            "455it [01:57,  3.57it/s]/usr/local/lib/python3.8/dist-packages/keras/engine/functional.py:582: UserWarning: Input dict contained keys ['ground_truth_trajectory', 'scene_id', 'track_id', 'prerendered_feature_map'] which did not match any model input. They will be ignored by the model.\n",
            "  warnings.warn(\n",
            "456it [01:57,  3.58it/s]/usr/local/lib/python3.8/dist-packages/keras/engine/functional.py:582: UserWarning: Input dict contained keys ['ground_truth_trajectory', 'scene_id', 'track_id', 'prerendered_feature_map'] which did not match any model input. They will be ignored by the model.\n",
            "  warnings.warn(\n",
            "457it [01:57,  3.58it/s]/usr/local/lib/python3.8/dist-packages/keras/engine/functional.py:582: UserWarning: Input dict contained keys ['ground_truth_trajectory', 'scene_id', 'track_id', 'prerendered_feature_map'] which did not match any model input. They will be ignored by the model.\n",
            "  warnings.warn(\n",
            "458it [01:58,  3.53it/s]/usr/local/lib/python3.8/dist-packages/keras/engine/functional.py:582: UserWarning: Input dict contained keys ['ground_truth_trajectory', 'scene_id', 'track_id', 'prerendered_feature_map'] which did not match any model input. They will be ignored by the model.\n",
            "  warnings.warn(\n",
            "459it [01:58,  3.43it/s]/usr/local/lib/python3.8/dist-packages/keras/engine/functional.py:582: UserWarning: Input dict contained keys ['ground_truth_trajectory', 'scene_id', 'track_id', 'prerendered_feature_map'] which did not match any model input. They will be ignored by the model.\n",
            "  warnings.warn(\n",
            "460it [01:58,  3.55it/s]/usr/local/lib/python3.8/dist-packages/keras/engine/functional.py:582: UserWarning: Input dict contained keys ['ground_truth_trajectory', 'scene_id', 'track_id', 'prerendered_feature_map'] which did not match any model input. They will be ignored by the model.\n",
            "  warnings.warn(\n",
            "461it [01:58,  3.65it/s]/usr/local/lib/python3.8/dist-packages/keras/engine/functional.py:582: UserWarning: Input dict contained keys ['ground_truth_trajectory', 'scene_id', 'track_id', 'prerendered_feature_map'] which did not match any model input. They will be ignored by the model.\n",
            "  warnings.warn(\n",
            "462it [01:59,  3.75it/s]/usr/local/lib/python3.8/dist-packages/keras/engine/functional.py:582: UserWarning: Input dict contained keys ['ground_truth_trajectory', 'scene_id', 'track_id', 'prerendered_feature_map'] which did not match any model input. They will be ignored by the model.\n",
            "  warnings.warn(\n",
            "463it [01:59,  3.84it/s]/usr/local/lib/python3.8/dist-packages/keras/engine/functional.py:582: UserWarning: Input dict contained keys ['ground_truth_trajectory', 'scene_id', 'track_id', 'prerendered_feature_map'] which did not match any model input. They will be ignored by the model.\n",
            "  warnings.warn(\n",
            "464it [01:59,  3.87it/s]/usr/local/lib/python3.8/dist-packages/keras/engine/functional.py:582: UserWarning: Input dict contained keys ['ground_truth_trajectory', 'scene_id', 'track_id', 'prerendered_feature_map'] which did not match any model input. They will be ignored by the model.\n",
            "  warnings.warn(\n",
            "465it [01:59,  3.92it/s]/usr/local/lib/python3.8/dist-packages/keras/engine/functional.py:582: UserWarning: Input dict contained keys ['ground_truth_trajectory', 'scene_id', 'track_id', 'prerendered_feature_map'] which did not match any model input. They will be ignored by the model.\n",
            "  warnings.warn(\n",
            "466it [02:00,  3.95it/s]/usr/local/lib/python3.8/dist-packages/keras/engine/functional.py:582: UserWarning: Input dict contained keys ['ground_truth_trajectory', 'scene_id', 'track_id', 'prerendered_feature_map'] which did not match any model input. They will be ignored by the model.\n",
            "  warnings.warn(\n",
            "467it [02:00,  3.96it/s]/usr/local/lib/python3.8/dist-packages/keras/engine/functional.py:582: UserWarning: Input dict contained keys ['ground_truth_trajectory', 'scene_id', 'track_id', 'prerendered_feature_map'] which did not match any model input. They will be ignored by the model.\n",
            "  warnings.warn(\n",
            "468it [02:00,  4.14it/s]/usr/local/lib/python3.8/dist-packages/keras/engine/functional.py:582: UserWarning: Input dict contained keys ['ground_truth_trajectory', 'scene_id', 'track_id', 'prerendered_feature_map'] which did not match any model input. They will be ignored by the model.\n",
            "  warnings.warn(\n",
            "469it [02:00,  4.31it/s]/usr/local/lib/python3.8/dist-packages/keras/engine/functional.py:582: UserWarning: Input dict contained keys ['ground_truth_trajectory', 'scene_id', 'track_id', 'prerendered_feature_map'] which did not match any model input. They will be ignored by the model.\n",
            "  warnings.warn(\n",
            "470it [02:01,  4.32it/s]/usr/local/lib/python3.8/dist-packages/keras/engine/functional.py:582: UserWarning: Input dict contained keys ['ground_truth_trajectory', 'scene_id', 'track_id', 'prerendered_feature_map'] which did not match any model input. They will be ignored by the model.\n",
            "  warnings.warn(\n",
            "471it [02:01,  4.35it/s]/usr/local/lib/python3.8/dist-packages/keras/engine/functional.py:582: UserWarning: Input dict contained keys ['ground_truth_trajectory', 'scene_id', 'track_id', 'prerendered_feature_map'] which did not match any model input. They will be ignored by the model.\n",
            "  warnings.warn(\n",
            "472it [02:01,  4.30it/s]/usr/local/lib/python3.8/dist-packages/keras/engine/functional.py:582: UserWarning: Input dict contained keys ['ground_truth_trajectory', 'scene_id', 'track_id', 'prerendered_feature_map'] which did not match any model input. They will be ignored by the model.\n",
            "  warnings.warn(\n",
            "473it [02:01,  4.19it/s]/usr/local/lib/python3.8/dist-packages/keras/engine/functional.py:582: UserWarning: Input dict contained keys ['ground_truth_trajectory', 'scene_id', 'track_id', 'prerendered_feature_map'] which did not match any model input. They will be ignored by the model.\n",
            "  warnings.warn(\n",
            "474it [02:02,  4.15it/s]/usr/local/lib/python3.8/dist-packages/keras/engine/functional.py:582: UserWarning: Input dict contained keys ['ground_truth_trajectory', 'scene_id', 'track_id', 'prerendered_feature_map'] which did not match any model input. They will be ignored by the model.\n",
            "  warnings.warn(\n",
            "475it [02:02,  3.96it/s]/usr/local/lib/python3.8/dist-packages/keras/engine/functional.py:582: UserWarning: Input dict contained keys ['ground_truth_trajectory', 'scene_id', 'track_id', 'prerendered_feature_map'] which did not match any model input. They will be ignored by the model.\n",
            "  warnings.warn(\n",
            "476it [02:02,  4.00it/s]/usr/local/lib/python3.8/dist-packages/keras/engine/functional.py:582: UserWarning: Input dict contained keys ['ground_truth_trajectory', 'scene_id', 'track_id', 'prerendered_feature_map'] which did not match any model input. They will be ignored by the model.\n",
            "  warnings.warn(\n",
            "477it [02:02,  3.95it/s]/usr/local/lib/python3.8/dist-packages/keras/engine/functional.py:582: UserWarning: Input dict contained keys ['ground_truth_trajectory', 'scene_id', 'track_id', 'prerendered_feature_map'] which did not match any model input. They will be ignored by the model.\n",
            "  warnings.warn(\n",
            "478it [02:03,  4.08it/s]/usr/local/lib/python3.8/dist-packages/keras/engine/functional.py:582: UserWarning: Input dict contained keys ['ground_truth_trajectory', 'scene_id', 'track_id', 'prerendered_feature_map'] which did not match any model input. They will be ignored by the model.\n",
            "  warnings.warn(\n",
            "479it [02:03,  4.06it/s]/usr/local/lib/python3.8/dist-packages/keras/engine/functional.py:582: UserWarning: Input dict contained keys ['ground_truth_trajectory', 'scene_id', 'track_id', 'prerendered_feature_map'] which did not match any model input. They will be ignored by the model.\n",
            "  warnings.warn(\n",
            "480it [02:03,  4.11it/s]/usr/local/lib/python3.8/dist-packages/keras/engine/functional.py:582: UserWarning: Input dict contained keys ['ground_truth_trajectory', 'scene_id', 'track_id', 'prerendered_feature_map'] which did not match any model input. They will be ignored by the model.\n",
            "  warnings.warn(\n",
            "481it [02:03,  4.08it/s]/usr/local/lib/python3.8/dist-packages/keras/engine/functional.py:582: UserWarning: Input dict contained keys ['ground_truth_trajectory', 'scene_id', 'track_id', 'prerendered_feature_map'] which did not match any model input. They will be ignored by the model.\n",
            "  warnings.warn(\n",
            "482it [02:04,  4.19it/s]/usr/local/lib/python3.8/dist-packages/keras/engine/functional.py:582: UserWarning: Input dict contained keys ['ground_truth_trajectory', 'scene_id', 'track_id', 'prerendered_feature_map'] which did not match any model input. They will be ignored by the model.\n",
            "  warnings.warn(\n",
            "483it [02:04,  4.15it/s]/usr/local/lib/python3.8/dist-packages/keras/engine/functional.py:582: UserWarning: Input dict contained keys ['ground_truth_trajectory', 'scene_id', 'track_id', 'prerendered_feature_map'] which did not match any model input. They will be ignored by the model.\n",
            "  warnings.warn(\n",
            "484it [02:06,  1.41it/s]/usr/local/lib/python3.8/dist-packages/keras/engine/functional.py:582: UserWarning: Input dict contained keys ['ground_truth_trajectory', 'scene_id', 'track_id', 'prerendered_feature_map'] which did not match any model input. They will be ignored by the model.\n",
            "  warnings.warn(\n",
            "485it [02:06,  1.77it/s]/usr/local/lib/python3.8/dist-packages/keras/engine/functional.py:582: UserWarning: Input dict contained keys ['ground_truth_trajectory', 'scene_id', 'track_id', 'prerendered_feature_map'] which did not match any model input. They will be ignored by the model.\n",
            "  warnings.warn(\n",
            "486it [02:06,  2.15it/s]/usr/local/lib/python3.8/dist-packages/keras/engine/functional.py:582: UserWarning: Input dict contained keys ['ground_truth_trajectory', 'scene_id', 'track_id', 'prerendered_feature_map'] which did not match any model input. They will be ignored by the model.\n",
            "  warnings.warn(\n",
            "487it [02:06,  2.53it/s]/usr/local/lib/python3.8/dist-packages/keras/engine/functional.py:582: UserWarning: Input dict contained keys ['ground_truth_trajectory', 'scene_id', 'track_id', 'prerendered_feature_map'] which did not match any model input. They will be ignored by the model.\n",
            "  warnings.warn(\n",
            "488it [02:07,  2.84it/s]/usr/local/lib/python3.8/dist-packages/keras/engine/functional.py:582: UserWarning: Input dict contained keys ['ground_truth_trajectory', 'scene_id', 'track_id', 'prerendered_feature_map'] which did not match any model input. They will be ignored by the model.\n",
            "  warnings.warn(\n",
            "489it [02:07,  3.20it/s]/usr/local/lib/python3.8/dist-packages/keras/engine/functional.py:582: UserWarning: Input dict contained keys ['ground_truth_trajectory', 'scene_id', 'track_id', 'prerendered_feature_map'] which did not match any model input. They will be ignored by the model.\n",
            "  warnings.warn(\n",
            "490it [02:07,  3.54it/s]/usr/local/lib/python3.8/dist-packages/keras/engine/functional.py:582: UserWarning: Input dict contained keys ['ground_truth_trajectory', 'scene_id', 'track_id', 'prerendered_feature_map'] which did not match any model input. They will be ignored by the model.\n",
            "  warnings.warn(\n",
            "491it [02:07,  3.76it/s]/usr/local/lib/python3.8/dist-packages/keras/engine/functional.py:582: UserWarning: Input dict contained keys ['ground_truth_trajectory', 'scene_id', 'track_id', 'prerendered_feature_map'] which did not match any model input. They will be ignored by the model.\n",
            "  warnings.warn(\n",
            "492it [02:07,  3.97it/s]/usr/local/lib/python3.8/dist-packages/keras/engine/functional.py:582: UserWarning: Input dict contained keys ['ground_truth_trajectory', 'scene_id', 'track_id', 'prerendered_feature_map'] which did not match any model input. They will be ignored by the model.\n",
            "  warnings.warn(\n",
            "493it [02:08,  4.06it/s]/usr/local/lib/python3.8/dist-packages/keras/engine/functional.py:582: UserWarning: Input dict contained keys ['ground_truth_trajectory', 'scene_id', 'track_id', 'prerendered_feature_map'] which did not match any model input. They will be ignored by the model.\n",
            "  warnings.warn(\n",
            "494it [02:08,  4.11it/s]/usr/local/lib/python3.8/dist-packages/keras/engine/functional.py:582: UserWarning: Input dict contained keys ['ground_truth_trajectory', 'scene_id', 'track_id', 'prerendered_feature_map'] which did not match any model input. They will be ignored by the model.\n",
            "  warnings.warn(\n",
            "495it [02:08,  4.24it/s]/usr/local/lib/python3.8/dist-packages/keras/engine/functional.py:582: UserWarning: Input dict contained keys ['ground_truth_trajectory', 'scene_id', 'track_id', 'prerendered_feature_map'] which did not match any model input. They will be ignored by the model.\n",
            "  warnings.warn(\n",
            "496it [02:08,  4.35it/s]/usr/local/lib/python3.8/dist-packages/keras/engine/functional.py:582: UserWarning: Input dict contained keys ['ground_truth_trajectory', 'scene_id', 'track_id', 'prerendered_feature_map'] which did not match any model input. They will be ignored by the model.\n",
            "  warnings.warn(\n",
            "497it [02:09,  4.35it/s]/usr/local/lib/python3.8/dist-packages/keras/engine/functional.py:582: UserWarning: Input dict contained keys ['ground_truth_trajectory', 'scene_id', 'track_id', 'prerendered_feature_map'] which did not match any model input. They will be ignored by the model.\n",
            "  warnings.warn(\n",
            "498it [02:09,  4.31it/s]/usr/local/lib/python3.8/dist-packages/keras/engine/functional.py:582: UserWarning: Input dict contained keys ['ground_truth_trajectory', 'scene_id', 'track_id', 'prerendered_feature_map'] which did not match any model input. They will be ignored by the model.\n",
            "  warnings.warn(\n",
            "499it [02:09,  4.24it/s]/usr/local/lib/python3.8/dist-packages/keras/engine/functional.py:582: UserWarning: Input dict contained keys ['ground_truth_trajectory', 'scene_id', 'track_id', 'prerendered_feature_map'] which did not match any model input. They will be ignored by the model.\n",
            "  warnings.warn(\n",
            "500it [02:09,  4.27it/s]/usr/local/lib/python3.8/dist-packages/keras/engine/functional.py:582: UserWarning: Input dict contained keys ['ground_truth_trajectory', 'scene_id', 'track_id', 'prerendered_feature_map'] which did not match any model input. They will be ignored by the model.\n",
            "  warnings.warn(\n",
            "501it [02:09,  4.19it/s]/usr/local/lib/python3.8/dist-packages/keras/engine/functional.py:582: UserWarning: Input dict contained keys ['ground_truth_trajectory', 'scene_id', 'track_id', 'prerendered_feature_map'] which did not match any model input. They will be ignored by the model.\n",
            "  warnings.warn(\n",
            "502it [02:10,  4.22it/s]/usr/local/lib/python3.8/dist-packages/keras/engine/functional.py:582: UserWarning: Input dict contained keys ['ground_truth_trajectory', 'scene_id', 'track_id', 'prerendered_feature_map'] which did not match any model input. They will be ignored by the model.\n",
            "  warnings.warn(\n",
            "503it [02:10,  4.13it/s]/usr/local/lib/python3.8/dist-packages/keras/engine/functional.py:582: UserWarning: Input dict contained keys ['ground_truth_trajectory', 'scene_id', 'track_id', 'prerendered_feature_map'] which did not match any model input. They will be ignored by the model.\n",
            "  warnings.warn(\n",
            "504it [02:10,  4.24it/s]/usr/local/lib/python3.8/dist-packages/keras/engine/functional.py:582: UserWarning: Input dict contained keys ['ground_truth_trajectory', 'scene_id', 'track_id', 'prerendered_feature_map'] which did not match any model input. They will be ignored by the model.\n",
            "  warnings.warn(\n",
            "505it [02:10,  4.32it/s]/usr/local/lib/python3.8/dist-packages/keras/engine/functional.py:582: UserWarning: Input dict contained keys ['ground_truth_trajectory', 'scene_id', 'track_id', 'prerendered_feature_map'] which did not match any model input. They will be ignored by the model.\n",
            "  warnings.warn(\n",
            "506it [02:11,  4.09it/s]/usr/local/lib/python3.8/dist-packages/keras/engine/functional.py:582: UserWarning: Input dict contained keys ['ground_truth_trajectory', 'scene_id', 'track_id', 'prerendered_feature_map'] which did not match any model input. They will be ignored by the model.\n",
            "  warnings.warn(\n",
            "507it [02:11,  4.10it/s]/usr/local/lib/python3.8/dist-packages/keras/engine/functional.py:582: UserWarning: Input dict contained keys ['ground_truth_trajectory', 'scene_id', 'track_id', 'prerendered_feature_map'] which did not match any model input. They will be ignored by the model.\n",
            "  warnings.warn(\n",
            "508it [02:11,  4.12it/s]/usr/local/lib/python3.8/dist-packages/keras/engine/functional.py:582: UserWarning: Input dict contained keys ['ground_truth_trajectory', 'scene_id', 'track_id', 'prerendered_feature_map'] which did not match any model input. They will be ignored by the model.\n",
            "  warnings.warn(\n",
            "509it [02:11,  4.21it/s]/usr/local/lib/python3.8/dist-packages/keras/engine/functional.py:582: UserWarning: Input dict contained keys ['ground_truth_trajectory', 'scene_id', 'track_id', 'prerendered_feature_map'] which did not match any model input. They will be ignored by the model.\n",
            "  warnings.warn(\n",
            "510it [02:12,  4.22it/s]/usr/local/lib/python3.8/dist-packages/keras/engine/functional.py:582: UserWarning: Input dict contained keys ['ground_truth_trajectory', 'scene_id', 'track_id', 'prerendered_feature_map'] which did not match any model input. They will be ignored by the model.\n",
            "  warnings.warn(\n",
            "511it [02:12,  4.32it/s]/usr/local/lib/python3.8/dist-packages/keras/engine/functional.py:582: UserWarning: Input dict contained keys ['ground_truth_trajectory', 'scene_id', 'track_id', 'prerendered_feature_map'] which did not match any model input. They will be ignored by the model.\n",
            "  warnings.warn(\n",
            "512it [02:12,  4.29it/s]/usr/local/lib/python3.8/dist-packages/keras/engine/functional.py:582: UserWarning: Input dict contained keys ['ground_truth_trajectory', 'scene_id', 'track_id', 'prerendered_feature_map'] which did not match any model input. They will be ignored by the model.\n",
            "  warnings.warn(\n",
            "513it [02:12,  4.34it/s]/usr/local/lib/python3.8/dist-packages/keras/engine/functional.py:582: UserWarning: Input dict contained keys ['ground_truth_trajectory', 'scene_id', 'track_id', 'prerendered_feature_map'] which did not match any model input. They will be ignored by the model.\n",
            "  warnings.warn(\n",
            "514it [02:13,  4.27it/s]/usr/local/lib/python3.8/dist-packages/keras/engine/functional.py:582: UserWarning: Input dict contained keys ['ground_truth_trajectory', 'scene_id', 'track_id', 'prerendered_feature_map'] which did not match any model input. They will be ignored by the model.\n",
            "  warnings.warn(\n",
            "515it [02:13,  4.26it/s]/usr/local/lib/python3.8/dist-packages/keras/engine/functional.py:582: UserWarning: Input dict contained keys ['ground_truth_trajectory', 'scene_id', 'track_id', 'prerendered_feature_map'] which did not match any model input. They will be ignored by the model.\n",
            "  warnings.warn(\n",
            "516it [02:13,  4.26it/s]/usr/local/lib/python3.8/dist-packages/keras/engine/functional.py:582: UserWarning: Input dict contained keys ['ground_truth_trajectory', 'scene_id', 'track_id', 'prerendered_feature_map'] which did not match any model input. They will be ignored by the model.\n",
            "  warnings.warn(\n",
            "517it [02:13,  4.17it/s]/usr/local/lib/python3.8/dist-packages/keras/engine/functional.py:582: UserWarning: Input dict contained keys ['ground_truth_trajectory', 'scene_id', 'track_id', 'prerendered_feature_map'] which did not match any model input. They will be ignored by the model.\n",
            "  warnings.warn(\n",
            "518it [02:13,  4.25it/s]/usr/local/lib/python3.8/dist-packages/keras/engine/functional.py:582: UserWarning: Input dict contained keys ['ground_truth_trajectory', 'scene_id', 'track_id', 'prerendered_feature_map'] which did not match any model input. They will be ignored by the model.\n",
            "  warnings.warn(\n",
            "519it [02:14,  4.33it/s]/usr/local/lib/python3.8/dist-packages/keras/engine/functional.py:582: UserWarning: Input dict contained keys ['ground_truth_trajectory', 'scene_id', 'track_id', 'prerendered_feature_map'] which did not match any model input. They will be ignored by the model.\n",
            "  warnings.warn(\n",
            "520it [02:14,  4.23it/s]/usr/local/lib/python3.8/dist-packages/keras/engine/functional.py:582: UserWarning: Input dict contained keys ['ground_truth_trajectory', 'scene_id', 'track_id', 'prerendered_feature_map'] which did not match any model input. They will be ignored by the model.\n",
            "  warnings.warn(\n",
            "521it [02:14,  4.13it/s]/usr/local/lib/python3.8/dist-packages/keras/engine/functional.py:582: UserWarning: Input dict contained keys ['ground_truth_trajectory', 'scene_id', 'track_id', 'prerendered_feature_map'] which did not match any model input. They will be ignored by the model.\n",
            "  warnings.warn(\n",
            "522it [02:14,  4.13it/s]/usr/local/lib/python3.8/dist-packages/keras/engine/functional.py:582: UserWarning: Input dict contained keys ['ground_truth_trajectory', 'scene_id', 'track_id', 'prerendered_feature_map'] which did not match any model input. They will be ignored by the model.\n",
            "  warnings.warn(\n",
            "523it [02:15,  4.26it/s]/usr/local/lib/python3.8/dist-packages/keras/engine/functional.py:582: UserWarning: Input dict contained keys ['ground_truth_trajectory', 'scene_id', 'track_id', 'prerendered_feature_map'] which did not match any model input. They will be ignored by the model.\n",
            "  warnings.warn(\n",
            "524it [02:15,  4.44it/s]/usr/local/lib/python3.8/dist-packages/keras/engine/functional.py:582: UserWarning: Input dict contained keys ['ground_truth_trajectory', 'scene_id', 'track_id', 'prerendered_feature_map'] which did not match any model input. They will be ignored by the model.\n",
            "  warnings.warn(\n",
            "525it [02:15,  3.68it/s]/usr/local/lib/python3.8/dist-packages/keras/engine/functional.py:582: UserWarning: Input dict contained keys ['ground_truth_trajectory', 'scene_id', 'track_id', 'prerendered_feature_map'] which did not match any model input. They will be ignored by the model.\n",
            "  warnings.warn(\n",
            "526it [02:16,  3.82it/s]/usr/local/lib/python3.8/dist-packages/keras/engine/functional.py:582: UserWarning: Input dict contained keys ['ground_truth_trajectory', 'scene_id', 'track_id', 'prerendered_feature_map'] which did not match any model input. They will be ignored by the model.\n",
            "  warnings.warn(\n",
            "527it [02:16,  3.92it/s]/usr/local/lib/python3.8/dist-packages/keras/engine/functional.py:582: UserWarning: Input dict contained keys ['ground_truth_trajectory', 'scene_id', 'track_id', 'prerendered_feature_map'] which did not match any model input. They will be ignored by the model.\n",
            "  warnings.warn(\n",
            "528it [02:16,  4.01it/s]/usr/local/lib/python3.8/dist-packages/keras/engine/functional.py:582: UserWarning: Input dict contained keys ['ground_truth_trajectory', 'scene_id', 'track_id', 'prerendered_feature_map'] which did not match any model input. They will be ignored by the model.\n",
            "  warnings.warn(\n",
            "529it [02:16,  4.10it/s]/usr/local/lib/python3.8/dist-packages/keras/engine/functional.py:582: UserWarning: Input dict contained keys ['ground_truth_trajectory', 'scene_id', 'track_id', 'prerendered_feature_map'] which did not match any model input. They will be ignored by the model.\n",
            "  warnings.warn(\n",
            "530it [02:16,  4.23it/s]/usr/local/lib/python3.8/dist-packages/keras/engine/functional.py:582: UserWarning: Input dict contained keys ['ground_truth_trajectory', 'scene_id', 'track_id', 'prerendered_feature_map'] which did not match any model input. They will be ignored by the model.\n",
            "  warnings.warn(\n",
            "531it [02:17,  4.17it/s]/usr/local/lib/python3.8/dist-packages/keras/engine/functional.py:582: UserWarning: Input dict contained keys ['ground_truth_trajectory', 'scene_id', 'track_id', 'prerendered_feature_map'] which did not match any model input. They will be ignored by the model.\n",
            "  warnings.warn(\n",
            "532it [02:17,  4.13it/s]/usr/local/lib/python3.8/dist-packages/keras/engine/functional.py:582: UserWarning: Input dict contained keys ['ground_truth_trajectory', 'scene_id', 'track_id', 'prerendered_feature_map'] which did not match any model input. They will be ignored by the model.\n",
            "  warnings.warn(\n",
            "533it [02:17,  4.13it/s]/usr/local/lib/python3.8/dist-packages/keras/engine/functional.py:582: UserWarning: Input dict contained keys ['ground_truth_trajectory', 'scene_id', 'track_id', 'prerendered_feature_map'] which did not match any model input. They will be ignored by the model.\n",
            "  warnings.warn(\n",
            "534it [02:17,  4.17it/s]/usr/local/lib/python3.8/dist-packages/keras/engine/functional.py:582: UserWarning: Input dict contained keys ['ground_truth_trajectory', 'scene_id', 'track_id', 'prerendered_feature_map'] which did not match any model input. They will be ignored by the model.\n",
            "  warnings.warn(\n",
            "535it [02:18,  4.22it/s]/usr/local/lib/python3.8/dist-packages/keras/engine/functional.py:582: UserWarning: Input dict contained keys ['ground_truth_trajectory', 'scene_id', 'track_id', 'prerendered_feature_map'] which did not match any model input. They will be ignored by the model.\n",
            "  warnings.warn(\n",
            "536it [02:18,  4.32it/s]/usr/local/lib/python3.8/dist-packages/keras/engine/functional.py:582: UserWarning: Input dict contained keys ['ground_truth_trajectory', 'scene_id', 'track_id', 'prerendered_feature_map'] which did not match any model input. They will be ignored by the model.\n",
            "  warnings.warn(\n",
            "537it [02:18,  4.30it/s]/usr/local/lib/python3.8/dist-packages/keras/engine/functional.py:582: UserWarning: Input dict contained keys ['ground_truth_trajectory', 'scene_id', 'track_id', 'prerendered_feature_map'] which did not match any model input. They will be ignored by the model.\n",
            "  warnings.warn(\n",
            "538it [02:18,  4.31it/s]/usr/local/lib/python3.8/dist-packages/keras/engine/functional.py:582: UserWarning: Input dict contained keys ['ground_truth_trajectory', 'scene_id', 'track_id', 'prerendered_feature_map'] which did not match any model input. They will be ignored by the model.\n",
            "  warnings.warn(\n",
            "539it [02:19,  4.32it/s]/usr/local/lib/python3.8/dist-packages/keras/engine/functional.py:582: UserWarning: Input dict contained keys ['ground_truth_trajectory', 'scene_id', 'track_id', 'prerendered_feature_map'] which did not match any model input. They will be ignored by the model.\n",
            "  warnings.warn(\n",
            "540it [02:19,  4.23it/s]/usr/local/lib/python3.8/dist-packages/keras/engine/functional.py:582: UserWarning: Input dict contained keys ['ground_truth_trajectory', 'scene_id', 'track_id', 'prerendered_feature_map'] which did not match any model input. They will be ignored by the model.\n",
            "  warnings.warn(\n",
            "541it [02:19,  4.36it/s]/usr/local/lib/python3.8/dist-packages/keras/engine/functional.py:582: UserWarning: Input dict contained keys ['ground_truth_trajectory', 'scene_id', 'track_id', 'prerendered_feature_map'] which did not match any model input. They will be ignored by the model.\n",
            "  warnings.warn(\n",
            "542it [02:19,  4.35it/s]/usr/local/lib/python3.8/dist-packages/keras/engine/functional.py:582: UserWarning: Input dict contained keys ['ground_truth_trajectory', 'scene_id', 'track_id', 'prerendered_feature_map'] which did not match any model input. They will be ignored by the model.\n",
            "  warnings.warn(\n",
            "543it [02:19,  4.42it/s]/usr/local/lib/python3.8/dist-packages/keras/engine/functional.py:582: UserWarning: Input dict contained keys ['ground_truth_trajectory', 'scene_id', 'track_id', 'prerendered_feature_map'] which did not match any model input. They will be ignored by the model.\n",
            "  warnings.warn(\n",
            "544it [02:20,  4.30it/s]/usr/local/lib/python3.8/dist-packages/keras/engine/functional.py:582: UserWarning: Input dict contained keys ['ground_truth_trajectory', 'scene_id', 'track_id', 'prerendered_feature_map'] which did not match any model input. They will be ignored by the model.\n",
            "  warnings.warn(\n",
            "545it [02:20,  4.26it/s]/usr/local/lib/python3.8/dist-packages/keras/engine/functional.py:582: UserWarning: Input dict contained keys ['ground_truth_trajectory', 'scene_id', 'track_id', 'prerendered_feature_map'] which did not match any model input. They will be ignored by the model.\n",
            "  warnings.warn(\n",
            "546it [02:20,  4.33it/s]/usr/local/lib/python3.8/dist-packages/keras/engine/functional.py:582: UserWarning: Input dict contained keys ['ground_truth_trajectory', 'scene_id', 'track_id', 'prerendered_feature_map'] which did not match any model input. They will be ignored by the model.\n",
            "  warnings.warn(\n",
            "547it [02:20,  3.89it/s]\n",
            "/kernel/lib/python3.8/site-packages/ml_kernel/kernel.py:864: UserWarning: The following variables cannot be serialized: dataset, dataset_iter, test_dataset, val_dataset\n",
            "  warnings.warn(message)\n"
          ]
        }
      ],
      "source": [
        "#!c1.8\n",
        "ades = []\n",
        "fdes = []\n",
        "\n",
        "for batch in tqdm.tqdm(test_dataset.batch(32, num_parallel_calls=8)):\n",
        "    predictions = model(batch)\n",
        "    ades.append(ade(batch['ground_truth_trajectory'], predictions))\n",
        "    fdes.append(fde(batch['ground_truth_trajectory'], predictions))"
      ]
    },
    {
      "cell_type": "code",
      "execution_count": null,
      "id": "5817c78a",
      "metadata": {
        "cellId": "uuhl7mjhd3jtfn9lb9ea4p",
        "id": "5817c78a",
        "outputId": "ee276f26-622e-449e-8ac4-3fea855bfec7"
      },
      "outputs": [
        {
          "name": "stdout",
          "output_type": "stream",
          "text": [
            "Baseline metrics\n",
            "ADE: 1.699360, FDE: 3.989676\n"
          ]
        }
      ],
      "source": [
        "#!c1.8\n",
        "print('Baseline metrics')\n",
        "print(f'ADE: {np.mean(np.concatenate(ades)):.6f}, FDE: {np.mean(np.concatenate(fdes)):.6f}')"
      ]
    },
    {
      "cell_type": "markdown",
      "id": "cdbfb7b6",
      "metadata": {
        "cellId": "aacot255rs6sv80xezo3qs",
        "id": "cdbfb7b6"
      },
      "source": [
        "Нарисуем предсказания нашей модели. Они будут выделены красным."
      ]
    },
    {
      "cell_type": "code",
      "execution_count": null,
      "id": "75c1e110",
      "metadata": {
        "cellId": "ecnoe1miq3plgx2u60zs1r",
        "id": "75c1e110",
        "outputId": "db260f47-632f-4d9c-8814-66d2660e7538"
      },
      "outputs": [
        {
          "name": "stderr",
          "output_type": "stream",
          "text": [
            "/kernel/lib/python3.8/site-packages/ml_kernel/kernel.py:864: UserWarning: The following variables cannot be serialized: dataset, dataset_iter, test_dataset, val_dataset\n",
            "  warnings.warn(message)\n"
          ]
        }
      ],
      "source": [
        "#!c1.8\n",
        "for data_item in test_dataset.batch(1):\n",
        "    if data_item['ground_truth_trajectory'][0, -1, 0] > 5:\n",
        "        break"
      ]
    },
    {
      "cell_type": "code",
      "execution_count": null,
      "id": "49e19937",
      "metadata": {
        "cellId": "ldabrqvz0fsokx3udmc2f",
        "id": "49e19937",
        "outputId": "d52706da-cf26-469a-dbc8-a256364c0550"
      },
      "outputs": [
        {
          "name": "stderr",
          "output_type": "stream",
          "text": [
            "/usr/local/lib/python3.8/dist-packages/keras/engine/functional.py:582: UserWarning: Input dict contained keys ['ground_truth_trajectory', 'scene_id', 'track_id', 'prerendered_feature_map'] which did not match any model input. They will be ignored by the model.\n",
            "  warnings.warn(\n"
          ]
        },
        {
          "data": {
            "image/png": "[encoded data removed]",
            "text/plain": [
              "<Figure size 720x720 with 1 Axes>"
            ]
          },
          "metadata": {
            "needs_background": "light"
          },
          "output_type": "display_data"
        },
        {
          "name": "stderr",
          "output_type": "stream",
          "text": [
            "/kernel/lib/python3.8/site-packages/ml_kernel/kernel.py:864: UserWarning: The following variables cannot be serialized: dataset, dataset_iter, test_dataset, val_dataset\n",
            "  warnings.warn(message)\n"
          ]
        }
      ],
      "source": [
        "#!c1.8\n",
        "prediction = model(data_item)\n",
        "\n",
        "draw_feature_map(\n",
        "    data_item['prerendered_feature_map'][0],\n",
        "    data_item['ground_truth_trajectory'][0],\n",
        "    prediction[0].numpy().astype(np.float32),\n",
        "    transform=renderer.to_feature_map_tf,\n",
        ")"
      ]
    },
    {
      "cell_type": "markdown",
      "id": "6a4d8bce",
      "metadata": {
        "cellId": "xkmgf3h1vq17bmrg1zrks",
        "id": "6a4d8bce"
      },
      "source": [
        "Модель справилась довольно неплохо. Посмотрим пример посложнее."
      ]
    },
    {
      "cell_type": "code",
      "execution_count": null,
      "id": "2ee52936",
      "metadata": {
        "cellId": "f58owlgc75idzx9eezy6so",
        "id": "2ee52936",
        "outputId": "73c2ae03-fb31-42d3-a660-02baedfc25bb"
      },
      "outputs": [
        {
          "name": "stderr",
          "output_type": "stream",
          "text": [
            "/kernel/lib/python3.8/site-packages/ml_kernel/kernel.py:864: UserWarning: The following variables cannot be serialized: dataset, dataset_iter, test_dataset, val_dataset\n",
            "  warnings.warn(message)\n"
          ]
        }
      ],
      "source": [
        "#!c1.8\n",
        "for data_item in test_dataset.batch(1):\n",
        "    # Смещение по оси y больше 5 метров скорее всего будет поворотом, который наша модель предсказать не сможет\n",
        "    if data_item['ground_truth_trajectory'][0, -1, 1] > 5:\n",
        "        break"
      ]
    },
    {
      "cell_type": "code",
      "execution_count": null,
      "id": "d31fcafb",
      "metadata": {
        "cellId": "pndpa3dt8cd46g82olwxjg",
        "id": "d31fcafb",
        "outputId": "b5bd8af6-3f32-4cd9-8ffa-2937c0ec7aad"
      },
      "outputs": [
        {
          "name": "stderr",
          "output_type": "stream",
          "text": [
            "/usr/local/lib/python3.8/dist-packages/keras/engine/functional.py:582: UserWarning: Input dict contained keys ['ground_truth_trajectory', 'scene_id', 'track_id', 'prerendered_feature_map'] which did not match any model input. They will be ignored by the model.\n",
            "  warnings.warn(\n"
          ]
        },
        {
          "data": {
            "image/png": "[encoded data removed]",
            "text/plain": [
              "<Figure size 720x720 with 1 Axes>"
            ]
          },
          "metadata": {
            "needs_background": "light"
          },
          "output_type": "display_data"
        },
        {
          "name": "stderr",
          "output_type": "stream",
          "text": [
            "/kernel/lib/python3.8/site-packages/ml_kernel/kernel.py:864: UserWarning: The following variables cannot be serialized: dataset, dataset_iter, test_dataset, val_dataset\n",
            "  warnings.warn(message)\n"
          ]
        }
      ],
      "source": [
        "#!c1.8\n",
        "prediction = model(data_item)\n",
        "\n",
        "draw_feature_map(\n",
        "    data_item['prerendered_feature_map'][0],\n",
        "    data_item['ground_truth_trajectory'][0],\n",
        "    prediction[0].numpy().astype(np.float32),\n",
        "    transform=renderer.to_feature_map_tf,\n",
        ")"
      ]
    },
    {
      "cell_type": "markdown",
      "id": "6ca42955",
      "metadata": {
        "cellId": "umrf86ic1qqhpw9krfbfa",
        "id": "6ca42955"
      },
      "source": [
        "## Этап 1"
      ]
    },
    {
      "cell_type": "markdown",
      "id": "731a9918",
      "metadata": {
        "cellId": "wx1ko7ynzf700n4047azq",
        "id": "731a9918"
      },
      "source": [
        "Реализуем нейросеть, которая будет использовать векторное представление и побьёт бейзлайн по метрикам.\n",
        "\n",
        "Возьмём признаки, которые мы смотрели выше (5 * 8 штук), сделаем Flatten и используем несколько полносвязных слоев. Добавим Dropout и Skip connections."
      ]
    },
    {
      "cell_type": "code",
      "execution_count": null,
      "id": "cebaff7e",
      "metadata": {
        "cellId": "pe6zfgk77khrvavpte8fs",
        "id": "cebaff7e"
      },
      "outputs": [],
      "source": [
        "#!c1.8\n",
        "\n",
        "inputs = tf.keras.layers.Input(shape=(5, 8), name='vector_features')\n",
        "x = tf.keras.layers.Reshape((5, 8))(inputs)\n",
        "x = tf.keras.layers.Flatten(input_shape=(5, 8))(x)\n",
        "x = tf.keras.layers.Dense(100, activation='relu')(x)\n",
        "x = tf.keras.layers.Dropout(0.2)(x)\n",
        "block_1_output = x\n",
        "\n",
        "x = tf.keras.layers.Dense(100, activation='relu')(block_1_output)\n",
        "x = tf.keras.layers.Dropout(0.3)(x)\n",
        "block_2_output = tf.keras.layers.add([x, block_1_output])\n",
        "\n",
        "x = tf.keras.layers.Dense(100, activation='relu')(block_2_output)\n",
        "x = tf.keras.layers.Dropout(0.2)(x)\n",
        "block_3_output = tf.keras.layers.add([x, block_2_output])\n",
        "\n",
        "x = tf.keras.layers.Dense(100, activation='relu')(block_3_output)\n",
        "x = tf.keras.layers.Dropout(0.3)(x)\n",
        "block_4_output = tf.keras.layers.add([x, block_3_output])\n",
        "\n",
        "x = tf.keras.layers.Dense(100, activation='relu')(block_4_output)\n",
        "x = tf.keras.layers.Dropout(0.2)(x)\n",
        "block_5_output = tf.keras.layers.add([x, block_4_output])\n",
        "\n",
        "x = tf.keras.layers.Dense(100, activation='relu')(block_5_output)\n",
        "x = tf.keras.layers.Dropout(0.3)(x)\n",
        "block_6_output = tf.keras.layers.add([x, block_5_output])\n",
        "\n",
        "x = tf.keras.layers.Dense(100, activation='relu')(block_6_output)\n",
        "x = tf.keras.layers.Dropout(0.2)(x)\n",
        "\n",
        "x = tf.keras.layers.Dense(50)(x)\n",
        "output = tf.keras.layers.Reshape((25, 2))(x)\n",
        "\n",
        "\n",
        "\n",
        "dense_model = tf.keras.Model(inputs, output, name=\"dense_model\")"
      ]
    },
    {
      "cell_type": "code",
      "execution_count": null,
      "id": "3704c28c",
      "metadata": {
        "cellId": "0v9cu76k4z7ogzybckppqxv",
        "id": "3704c28c",
        "outputId": "33f86e5d-4a30-4b01-9d0d-74d6631daf69"
      },
      "outputs": [
        {
          "name": "stdout",
          "output_type": "stream",
          "text": [
            "Model: \"dense_model\"\n",
            "__________________________________________________________________________________________________\n",
            "Layer (type)                    Output Shape         Param #     Connected to                     \n",
            "==================================================================================================\n",
            "vector_features (InputLayer)    [(None, 5, 8)]       0                                            \n",
            "__________________________________________________________________________________________________\n",
            "reshape (Reshape)               (None, 5, 8)         0           vector_features[0][0]            \n",
            "__________________________________________________________________________________________________\n",
            "flatten (Flatten)               (None, 40)           0           reshape[0][0]                    \n",
            "__________________________________________________________________________________________________\n",
            "dense (Dense)                   (None, 100)          4100        flatten[0][0]                    \n",
            "__________________________________________________________________________________________________\n",
            "dropout (Dropout)               (None, 100)          0           dense[0][0]                      \n",
            "__________________________________________________________________________________________________\n",
            "dense_1 (Dense)                 (None, 100)          10100       dropout[0][0]                    \n",
            "__________________________________________________________________________________________________\n",
            "dropout_1 (Dropout)             (None, 100)          0           dense_1[0][0]                    \n",
            "__________________________________________________________________________________________________\n",
            "add (Add)                       (None, 100)          0           dropout_1[0][0]                  \n",
            "                                                                 dropout[0][0]                    \n",
            "__________________________________________________________________________________________________\n",
            "dense_2 (Dense)                 (None, 100)          10100       add[0][0]                        \n",
            "__________________________________________________________________________________________________\n",
            "dropout_2 (Dropout)             (None, 100)          0           dense_2[0][0]                    \n",
            "__________________________________________________________________________________________________\n",
            "add_1 (Add)                     (None, 100)          0           dropout_2[0][0]                  \n",
            "                                                                 add[0][0]                        \n",
            "__________________________________________________________________________________________________\n",
            "dense_3 (Dense)                 (None, 100)          10100       add_1[0][0]                      \n",
            "__________________________________________________________________________________________________\n",
            "dropout_3 (Dropout)             (None, 100)          0           dense_3[0][0]                    \n",
            "__________________________________________________________________________________________________\n",
            "add_2 (Add)                     (None, 100)          0           dropout_3[0][0]                  \n",
            "                                                                 add_1[0][0]                      \n",
            "__________________________________________________________________________________________________\n",
            "dense_4 (Dense)                 (None, 100)          10100       add_2[0][0]                      \n",
            "__________________________________________________________________________________________________\n",
            "dropout_4 (Dropout)             (None, 100)          0           dense_4[0][0]                    \n",
            "__________________________________________________________________________________________________\n",
            "add_3 (Add)                     (None, 100)          0           dropout_4[0][0]                  \n",
            "                                                                 add_2[0][0]                      \n",
            "__________________________________________________________________________________________________\n",
            "dense_5 (Dense)                 (None, 100)          10100       add_3[0][0]                      \n",
            "__________________________________________________________________________________________________\n",
            "dropout_5 (Dropout)             (None, 100)          0           dense_5[0][0]                    \n",
            "__________________________________________________________________________________________________\n",
            "add_4 (Add)                     (None, 100)          0           dropout_5[0][0]                  \n",
            "                                                                 add_3[0][0]                      \n",
            "__________________________________________________________________________________________________\n",
            "dense_6 (Dense)                 (None, 100)          10100       add_4[0][0]                      \n",
            "__________________________________________________________________________________________________\n",
            "dropout_6 (Dropout)             (None, 100)          0           dense_6[0][0]                    \n",
            "__________________________________________________________________________________________________\n",
            "dense_7 (Dense)                 (None, 50)           5050        dropout_6[0][0]                  \n",
            "__________________________________________________________________________________________________\n",
            "reshape_1 (Reshape)             (None, 25, 2)        0           dense_7[0][0]                    \n",
            "==================================================================================================\n",
            "Total params: 69,750\n",
            "Trainable params: 69,750\n",
            "Non-trainable params: 0\n",
            "__________________________________________________________________________________________________\n"
          ]
        }
      ],
      "source": [
        "#!c1.8\n",
        "dense_model.summary()"
      ]
    },
    {
      "cell_type": "code",
      "execution_count": null,
      "id": "81426440",
      "metadata": {
        "cellId": "0ve3o85p69ao1w3g2yxyfcb",
        "id": "81426440"
      },
      "outputs": [],
      "source": [
        "#!c1.8\n",
        "def tf_ade(y_true, y_pred):\n",
        "    return tf.reduce_mean(tf.norm(y_true - y_pred, axis=-1), axis=-1)\n",
        "def tf_fde(y_true, y_pred):\n",
        "    return tf.norm(y_true - y_pred, axis=-1)[..., -1]"
      ]
    },
    {
      "cell_type": "code",
      "execution_count": null,
      "id": "f58c7bc7",
      "metadata": {
        "cellId": "gynv3dkkjq7o37ipishtg",
        "id": "f58c7bc7"
      },
      "outputs": [],
      "source": [
        "#!c1.8\n",
        "dense_model.compile(\n",
        "    optimizer='sgd',\n",
        "    loss=tf_ade, metrics=[tf_fde])"
      ]
    },
    {
      "cell_type": "code",
      "execution_count": null,
      "id": "0a4ef86d",
      "metadata": {
        "cellId": "hx46ear6gekf7dq0ciqwie",
        "id": "0a4ef86d"
      },
      "outputs": [],
      "source": [
        "#!c1.8\n",
        "# загрузим данные в векторном представлении\n",
        "vect_train_x = np.load('vectorizer_train_x.npy')\n",
        "vect_train_y = np.load('vectorizer_train_y.npy')\n",
        "vect_test_x = np.load('vectorizer_test_x.npy')\n",
        "vect_test_y = np.load('vectorizer_test_y.npy')\n",
        "vect_val_x = np.load('vectorizer_val_x.npy')\n",
        "vect_val_y = np.load('vectorizer_val_y.npy')"
      ]
    },
    {
      "cell_type": "code",
      "execution_count": null,
      "id": "37b3621e",
      "metadata": {
        "cellId": "jpmnggt4vepl80nprivz",
        "id": "37b3621e",
        "outputId": "a075add9-5baf-488a-8a23-148e91c3fa8e"
      },
      "outputs": [
        {
          "name": "stdout",
          "output_type": "stream",
          "text": [
            "Epoch 1/50\n",
            "4078/4078 [==============================] - 8s 2ms/step - loss: 2.5497 - tf_fde: 5.4014\n",
            "Epoch 2/50\n",
            "4078/4078 [==============================] - 7s 2ms/step - loss: 2.2479 - tf_fde: 4.9763\n",
            "Epoch 3/50\n",
            "4078/4078 [==============================] - 7s 2ms/step - loss: 2.2064 - tf_fde: 4.9041\n",
            "Epoch 4/50\n",
            "4078/4078 [==============================] - 7s 2ms/step - loss: 2.1895 - tf_fde: 4.8700\n",
            "Epoch 5/50\n",
            "4078/4078 [==============================] - 7s 2ms/step - loss: 2.1688 - tf_fde: 4.8339\n",
            "Epoch 6/50\n",
            "4078/4078 [==============================] - 7s 2ms/step - loss: 2.1482 - tf_fde: 4.7910\n",
            "Epoch 7/50\n",
            "4078/4078 [==============================] - 7s 2ms/step - loss: 2.1537 - tf_fde: 4.7980\n",
            "Epoch 8/50\n",
            "4078/4078 [==============================] - 7s 2ms/step - loss: 2.1495 - tf_fde: 4.7924\n",
            "Epoch 9/50\n",
            "4078/4078 [==============================] - 7s 2ms/step - loss: 2.1413 - tf_fde: 4.7789\n",
            "Epoch 10/50\n",
            "4078/4078 [==============================] - 7s 2ms/step - loss: 2.1308 - tf_fde: 4.7566\n",
            "Epoch 11/50\n",
            "4078/4078 [==============================] - 7s 2ms/step - loss: 2.1297 - tf_fde: 4.7542\n",
            "Epoch 12/50\n",
            "4078/4078 [==============================] - 7s 2ms/step - loss: 2.1277 - tf_fde: 4.7473\n",
            "Epoch 13/50\n",
            "4078/4078 [==============================] - 7s 2ms/step - loss: 2.1183 - tf_fde: 4.7330\n",
            "Epoch 14/50\n",
            "4078/4078 [==============================] - 7s 2ms/step - loss: 2.1170 - tf_fde: 4.7289\n",
            "Epoch 15/50\n",
            "4078/4078 [==============================] - 7s 2ms/step - loss: 2.1171 - tf_fde: 4.7283\n",
            "Epoch 16/50\n",
            "4078/4078 [==============================] - 7s 2ms/step - loss: 2.1129 - tf_fde: 4.7160\n",
            "Epoch 17/50\n",
            "4078/4078 [==============================] - 7s 2ms/step - loss: 2.1125 - tf_fde: 4.7164\n",
            "Epoch 18/50\n",
            "4078/4078 [==============================] - 7s 2ms/step - loss: 2.1103 - tf_fde: 4.7139\n",
            "Epoch 19/50\n",
            "4078/4078 [==============================] - 7s 2ms/step - loss: 2.1126 - tf_fde: 4.7147\n",
            "Epoch 20/50\n",
            "4078/4078 [==============================] - 7s 2ms/step - loss: 2.1061 - tf_fde: 4.7051\n",
            "Epoch 21/50\n",
            "4078/4078 [==============================] - 7s 2ms/step - loss: 2.1033 - tf_fde: 4.7049\n",
            "Epoch 22/50\n",
            "4078/4078 [==============================] - 7s 2ms/step - loss: 2.1107 - tf_fde: 4.7193\n",
            "Epoch 23/50\n",
            "4078/4078 [==============================] - 7s 2ms/step - loss: 2.0973 - tf_fde: 4.6892\n",
            "Epoch 24/50\n",
            "4078/4078 [==============================] - 7s 2ms/step - loss: 2.1010 - tf_fde: 4.6949\n",
            "Epoch 25/50\n",
            "4078/4078 [==============================] - 7s 2ms/step - loss: 2.0984 - tf_fde: 4.6931\n",
            "Epoch 26/50\n",
            "4078/4078 [==============================] - 7s 2ms/step - loss: 2.1042 - tf_fde: 4.7044\n",
            "Epoch 27/50\n",
            "4078/4078 [==============================] - 7s 2ms/step - loss: 2.0965 - tf_fde: 4.6839\n",
            "Epoch 28/50\n",
            "4078/4078 [==============================] - 7s 2ms/step - loss: 2.0974 - tf_fde: 4.6909\n",
            "Epoch 29/50\n",
            "4078/4078 [==============================] - 7s 2ms/step - loss: 2.0927 - tf_fde: 4.6818\n",
            "Epoch 30/50\n",
            "4078/4078 [==============================] - 7s 2ms/step - loss: 2.0991 - tf_fde: 4.6907\n",
            "Epoch 31/50\n",
            "4078/4078 [==============================] - 7s 2ms/step - loss: 2.0889 - tf_fde: 4.6732\n",
            "Epoch 32/50\n",
            "4078/4078 [==============================] - 7s 2ms/step - loss: 2.0934 - tf_fde: 4.6820\n",
            "Epoch 33/50\n",
            "4078/4078 [==============================] - 7s 2ms/step - loss: 2.0899 - tf_fde: 4.6708\n",
            "Epoch 34/50\n",
            "4078/4078 [==============================] - 7s 2ms/step - loss: 2.0951 - tf_fde: 4.6830\n",
            "Epoch 35/50\n",
            "4078/4078 [==============================] - 7s 2ms/step - loss: 2.0873 - tf_fde: 4.6665\n",
            "Epoch 36/50\n",
            "4078/4078 [==============================] - 7s 2ms/step - loss: 2.0928 - tf_fde: 4.6812\n",
            "Epoch 37/50\n",
            "4078/4078 [==============================] - 7s 2ms/step - loss: 2.0996 - tf_fde: 4.6931\n",
            "Epoch 38/50\n",
            "4078/4078 [==============================] - 7s 2ms/step - loss: 2.0906 - tf_fde: 4.6782\n",
            "Epoch 39/50\n",
            "4078/4078 [==============================] - 7s 2ms/step - loss: 2.0886 - tf_fde: 4.6727\n",
            "Epoch 40/50\n",
            "4078/4078 [==============================] - 7s 2ms/step - loss: 2.0860 - tf_fde: 4.6661\n",
            "Epoch 41/50\n",
            "4078/4078 [==============================] - 7s 2ms/step - loss: 2.0875 - tf_fde: 4.6726\n",
            "Epoch 42/50\n",
            "4078/4078 [==============================] - 7s 2ms/step - loss: 2.0813 - tf_fde: 4.6573\n",
            "Epoch 43/50\n",
            "4078/4078 [==============================] - 7s 2ms/step - loss: 2.0854 - tf_fde: 4.6639\n",
            "Epoch 44/50\n",
            "4078/4078 [==============================] - 7s 2ms/step - loss: 2.0848 - tf_fde: 4.6620\n",
            "Epoch 45/50\n",
            "4078/4078 [==============================] - 7s 2ms/step - loss: 2.0817 - tf_fde: 4.6567\n",
            "Epoch 46/50\n",
            "4078/4078 [==============================] - 7s 2ms/step - loss: 2.0820 - tf_fde: 4.6579\n",
            "Epoch 47/50\n",
            "4078/4078 [==============================] - 7s 2ms/step - loss: 2.0821 - tf_fde: 4.6558\n",
            "Epoch 48/50\n",
            "4078/4078 [==============================] - 7s 2ms/step - loss: 2.0819 - tf_fde: 4.6540\n",
            "Epoch 49/50\n",
            "4078/4078 [==============================] - 7s 2ms/step - loss: 2.0869 - tf_fde: 4.6686\n",
            "Epoch 50/50\n",
            "4078/4078 [==============================] - 7s 2ms/step - loss: 2.0769 - tf_fde: 4.6461\n"
          ]
        },
        {
          "data": {
            "text/plain": [
              "<keras.callbacks.History at 0x7f91c3b56640>"
            ]
          },
          "execution_count": 59,
          "metadata": {},
          "output_type": "execute_result"
        },
        {
          "name": "stderr",
          "output_type": "stream",
          "text": [
            "/kernel/lib/python3.8/site-packages/ml_kernel/kernel.py:864: UserWarning: The following variables cannot be serialized: dense_model\n",
            "  warnings.warn(message)\n"
          ]
        }
      ],
      "source": [
        "#!c1.8\n",
        "dense_model.fit(x=vect_train_x, y=vect_train_y, batch_size=32, epochs=50, verbose=True, use_multiprocessing=True)"
      ]
    },
    {
      "cell_type": "code",
      "execution_count": null,
      "id": "de8d90a5",
      "metadata": {
        "cellId": "iuiayi7vgsdzim4ad0omj",
        "id": "de8d90a5",
        "outputId": "01269f67-9d3e-463b-db9a-154408fff2b9"
      },
      "outputs": [
        {
          "name": "stdout",
          "output_type": "stream",
          "text": [
            "Dense_model metrics\n",
            "ADE: 2.110274, FDE: 4.409\n"
          ]
        },
        {
          "name": "stderr",
          "output_type": "stream",
          "text": [
            "/kernel/lib/python3.8/site-packages/ml_kernel/kernel.py:864: UserWarning: The following variables cannot be serialized: dense_model\n",
            "  warnings.warn(message)\n"
          ]
        }
      ],
      "source": [
        "#!c1.8\n",
        "pred = dense_model.predict(vect_test_x)\n",
        "ade_res = round(float(ade(vect_test_y, pred).mean()), 6)\n",
        "fde_res = round(float(fde(vect_test_y, pred).mean()), 3)\n",
        "print('Dense_model metrics')\n",
        "print(f'ADE: {ade_res}, FDE: {fde_res}')"
      ]
    },
    {
      "cell_type": "markdown",
      "id": "a3d21534",
      "metadata": {
        "cellId": "1f8sdct4xax6em70jo5n6w",
        "id": "a3d21534"
      },
      "source": [
        "Несмотря на применение dropout и skip connections(продвинутых вещей), модель оказалась хуже бейслайна\n",
        "\n",
        "А ведь 0 модель была сделана очень просто, давайте сделаем тоже что-то очень примитивное"
      ]
    },
    {
      "cell_type": "code",
      "execution_count": null,
      "id": "0a56fa79",
      "metadata": {
        "cellId": "iajomg9m6aj9r85rconm",
        "id": "0a56fa79"
      },
      "outputs": [],
      "source": [
        "#!c1.8\n",
        "super_dense_model = tf.keras.models.Sequential([\n",
        "    tf.keras.layers.Input(shape=(5, 8), name='vector_features'),\n",
        "    tf.keras.layers.Reshape((5, 8)),\n",
        "    tf.keras.layers.Flatten(input_shape=(5, 8)),\n",
        "    tf.keras.layers.Dense(1000, activation='relu'),\n",
        "    tf.keras.layers.Dense(1000, activation='relu'),\n",
        "    tf.keras.layers.Dense(1000, activation='relu'),\n",
        "    tf.keras.layers.Dense(50),\n",
        "    tf.keras.layers.Reshape((25, 2))\n",
        "])"
      ]
    },
    {
      "cell_type": "code",
      "execution_count": null,
      "id": "61beda4c",
      "metadata": {
        "cellId": "y2heh1n3twamn4v93gb63j",
        "id": "61beda4c",
        "outputId": "d250bb7e-7fb2-45ad-deda-ba14c4db45cc"
      },
      "outputs": [
        {
          "name": "stdout",
          "output_type": "stream",
          "text": [
            "Model: \"sequential\"\n",
            "_________________________________________________________________\n",
            "Layer (type)                 Output Shape              Param #   \n",
            "=================================================================\n",
            "reshape_2 (Reshape)          (None, 5, 8)              0         \n",
            "_________________________________________________________________\n",
            "flatten_1 (Flatten)          (None, 40)                0         \n",
            "_________________________________________________________________\n",
            "dense_8 (Dense)              (None, 1000)              41000     \n",
            "_________________________________________________________________\n",
            "dense_9 (Dense)              (None, 1000)              1001000   \n",
            "_________________________________________________________________\n",
            "dense_10 (Dense)             (None, 1000)              1001000   \n",
            "_________________________________________________________________\n",
            "dense_11 (Dense)             (None, 50)                50050     \n",
            "_________________________________________________________________\n",
            "reshape_3 (Reshape)          (None, 25, 2)             0         \n",
            "=================================================================\n",
            "Total params: 2,093,050\n",
            "Trainable params: 2,093,050\n",
            "Non-trainable params: 0\n",
            "_________________________________________________________________\n",
            "None\n"
          ]
        },
        {
          "name": "stderr",
          "output_type": "stream",
          "text": [
            "/kernel/lib/python3.8/site-packages/ml_kernel/kernel.py:864: UserWarning: The following variables cannot be serialized: dense_model\n",
            "  warnings.warn(message)\n"
          ]
        }
      ],
      "source": [
        "#!c1.8\n",
        "print(super_dense_model.summary())\n",
        "super_dense_model.compile(\n",
        "    optimizer='sgd',\n",
        "    loss=tf_ade, metrics=[tf_fde])"
      ]
    },
    {
      "cell_type": "code",
      "execution_count": null,
      "id": "ef7a56b4",
      "metadata": {
        "cellId": "jw455nfkcahly9pxmkhvj",
        "id": "ef7a56b4",
        "outputId": "049dc091-d7bd-40b9-ac8b-9135b9b04ba1"
      },
      "outputs": [
        {
          "name": "stdout",
          "output_type": "stream",
          "text": [
            "Epoch 1/50\n",
            "4078/4078 [==============================] - 27s 7ms/step - loss: 2.0570 - tf_fde: 4.6853\n",
            "Epoch 2/50\n",
            "4078/4078 [==============================] - 27s 7ms/step - loss: 1.8582 - tf_fde: 4.3005\n",
            "Epoch 3/50\n",
            "4078/4078 [==============================] - 27s 7ms/step - loss: 1.8323 - tf_fde: 4.2527\n",
            "Epoch 4/50\n",
            "4078/4078 [==============================] - 27s 7ms/step - loss: 1.8129 - tf_fde: 4.2147\n",
            "Epoch 5/50\n",
            "4078/4078 [==============================] - 27s 7ms/step - loss: 1.8022 - tf_fde: 4.1932\n",
            "Epoch 6/50\n",
            "4078/4078 [==============================] - 27s 7ms/step - loss: 1.7918 - tf_fde: 4.1756\n",
            "Epoch 7/50\n",
            "4078/4078 [==============================] - 27s 7ms/step - loss: 1.7779 - tf_fde: 4.1491\n",
            "Epoch 8/50\n",
            "4078/4078 [==============================] - 27s 7ms/step - loss: 1.7795 - tf_fde: 4.1485\n",
            "Epoch 9/50\n",
            "4078/4078 [==============================] - 27s 7ms/step - loss: 1.7683 - tf_fde: 4.1271\n",
            "Epoch 10/50\n",
            "4078/4078 [==============================] - 27s 7ms/step - loss: 1.7614 - tf_fde: 4.1137\n",
            "Epoch 11/50\n",
            "4078/4078 [==============================] - 27s 7ms/step - loss: 1.7600 - tf_fde: 4.1128\n",
            "Epoch 12/50\n",
            "4078/4078 [==============================] - 27s 7ms/step - loss: 1.7474 - tf_fde: 4.0893\n",
            "Epoch 13/50\n",
            "4078/4078 [==============================] - 27s 7ms/step - loss: 1.7435 - tf_fde: 4.0789\n",
            "Epoch 14/50\n",
            "4078/4078 [==============================] - 27s 7ms/step - loss: 1.7409 - tf_fde: 4.0743\n",
            "Epoch 15/50\n",
            "4078/4078 [==============================] - 27s 7ms/step - loss: 1.7374 - tf_fde: 4.0680\n",
            "Epoch 16/50\n",
            "4078/4078 [==============================] - 27s 7ms/step - loss: 1.7306 - tf_fde: 4.0564\n",
            "Epoch 17/50\n",
            "4078/4078 [==============================] - 27s 7ms/step - loss: 1.7246 - tf_fde: 4.0438\n",
            "Epoch 18/50\n",
            "4078/4078 [==============================] - 27s 7ms/step - loss: 1.7205 - tf_fde: 4.0339\n",
            "Epoch 19/50\n",
            "4078/4078 [==============================] - 27s 7ms/step - loss: 1.7178 - tf_fde: 4.0282\n",
            "Epoch 20/50\n",
            "4078/4078 [==============================] - 27s 7ms/step - loss: 1.7086 - tf_fde: 4.0107\n",
            "Epoch 21/50\n",
            "4078/4078 [==============================] - 27s 7ms/step - loss: 1.7100 - tf_fde: 4.0133\n",
            "Epoch 22/50\n",
            "4078/4078 [==============================] - 27s 7ms/step - loss: 1.7053 - tf_fde: 4.0046\n",
            "Epoch 23/50\n",
            "4078/4078 [==============================] - 27s 7ms/step - loss: 1.6950 - tf_fde: 3.9842\n",
            "Epoch 24/50\n",
            "4078/4078 [==============================] - 27s 7ms/step - loss: 1.6952 - tf_fde: 3.9809\n",
            "Epoch 25/50\n",
            "4078/4078 [==============================] - 27s 7ms/step - loss: 1.6987 - tf_fde: 3.9881\n",
            "Epoch 26/50\n",
            "4078/4078 [==============================] - 27s 7ms/step - loss: 1.6938 - tf_fde: 3.9773\n",
            "Epoch 27/50\n",
            "4078/4078 [==============================] - 27s 7ms/step - loss: 1.6882 - tf_fde: 3.9687\n",
            "Epoch 28/50\n",
            "4078/4078 [==============================] - 27s 7ms/step - loss: 1.6868 - tf_fde: 3.9659\n",
            "Epoch 29/50\n",
            "4078/4078 [==============================] - 27s 7ms/step - loss: 1.6809 - tf_fde: 3.9540\n",
            "Epoch 30/50\n",
            "4078/4078 [==============================] - 27s 7ms/step - loss: 1.6798 - tf_fde: 3.9513\n",
            "Epoch 31/50\n",
            "4078/4078 [==============================] - 27s 7ms/step - loss: 1.6801 - tf_fde: 3.9508\n",
            "Epoch 32/50\n",
            "4078/4078 [==============================] - 27s 7ms/step - loss: 1.6791 - tf_fde: 3.9500\n",
            "Epoch 33/50\n",
            "4078/4078 [==============================] - 27s 7ms/step - loss: 1.6742 - tf_fde: 3.9375\n",
            "Epoch 34/50\n",
            "4078/4078 [==============================] - 27s 7ms/step - loss: 1.6706 - tf_fde: 3.9312\n",
            "Epoch 35/50\n",
            "4078/4078 [==============================] - 27s 7ms/step - loss: 1.6692 - tf_fde: 3.9287\n",
            "Epoch 36/50\n",
            "4078/4078 [==============================] - 27s 7ms/step - loss: 1.6692 - tf_fde: 3.9268\n",
            "Epoch 37/50\n",
            "4078/4078 [==============================] - 27s 7ms/step - loss: 1.6636 - tf_fde: 3.9159\n",
            "Epoch 38/50\n",
            "4078/4078 [==============================] - 27s 7ms/step - loss: 1.6613 - tf_fde: 3.9107\n",
            "Epoch 39/50\n",
            "4078/4078 [==============================] - 27s 7ms/step - loss: 1.6612 - tf_fde: 3.9114\n",
            "Epoch 40/50\n",
            "4078/4078 [==============================] - 27s 7ms/step - loss: 1.6554 - tf_fde: 3.9011\n",
            "Epoch 41/50\n",
            "4078/4078 [==============================] - 27s 7ms/step - loss: 1.6538 - tf_fde: 3.8985\n",
            "Epoch 42/50\n",
            "4078/4078 [==============================] - 27s 7ms/step - loss: 1.6529 - tf_fde: 3.8961\n",
            "Epoch 43/50\n",
            "4078/4078 [==============================] - 27s 7ms/step - loss: 1.6514 - tf_fde: 3.8924\n",
            "Epoch 44/50\n",
            "4078/4078 [==============================] - 27s 7ms/step - loss: 1.6544 - tf_fde: 3.8980\n",
            "Epoch 45/50\n",
            "4078/4078 [==============================] - 27s 7ms/step - loss: 1.6483 - tf_fde: 3.8859\n",
            "Epoch 46/50\n",
            "4078/4078 [==============================] - 27s 7ms/step - loss: 1.6455 - tf_fde: 3.8829\n",
            "Epoch 47/50\n",
            "4078/4078 [==============================] - 27s 7ms/step - loss: 1.6461 - tf_fde: 3.8835\n",
            "Epoch 48/50\n",
            "4078/4078 [==============================] - 27s 7ms/step - loss: 1.6471 - tf_fde: 3.8838\n",
            "Epoch 49/50\n",
            "4078/4078 [==============================] - 27s 7ms/step - loss: 1.6432 - tf_fde: 3.8756\n",
            "Epoch 50/50\n",
            "4078/4078 [==============================] - 27s 7ms/step - loss: 1.6444 - tf_fde: 3.8770\n"
          ]
        },
        {
          "data": {
            "text/plain": [
              "<keras.callbacks.History at 0x7f91c3da7f70>"
            ]
          },
          "execution_count": 67,
          "metadata": {},
          "output_type": "execute_result"
        },
        {
          "name": "stderr",
          "output_type": "stream",
          "text": [
            "/kernel/lib/python3.8/site-packages/ml_kernel/kernel.py:864: UserWarning: The following variables cannot be serialized: dense_model\n",
            "  warnings.warn(message)\n"
          ]
        }
      ],
      "source": [
        "#!c1.8\n",
        "super_dense_model.fit(x=vect_train_x, y=vect_train_y, batch_size=32, epochs=50, verbose=True, use_multiprocessing=True)"
      ]
    },
    {
      "cell_type": "code",
      "execution_count": null,
      "id": "2fd012f2",
      "metadata": {
        "cellId": "pch06fw4assp59r4wwe08f",
        "id": "2fd012f2",
        "outputId": "2346b115-db34-440f-ce8a-e9e2a16bb1df"
      },
      "outputs": [
        {
          "name": "stdout",
          "output_type": "stream",
          "text": [
            "Dense_model metrics\n",
            "ADE: 1.404227, FDE: 3.336\n"
          ]
        },
        {
          "name": "stderr",
          "output_type": "stream",
          "text": [
            "/kernel/lib/python3.8/site-packages/ml_kernel/kernel.py:864: UserWarning: The following variables cannot be serialized: dense_model\n",
            "  warnings.warn(message)\n"
          ]
        }
      ],
      "source": [
        "#!c1.8\n",
        "pred = super_dense_model.predict(vect_test_x)\n",
        "ade_res = round(float(ade(vect_test_y, pred).mean()), 6)\n",
        "fde_res = round(float(fde(vect_test_y, pred).mean()), 3)\n",
        "print('Simple Dense model metrics')\n",
        "print(f'ADE: {ade_res}, FDE: {fde_res}')"
      ]
    },
    {
      "cell_type": "markdown",
      "id": "8925ff7f",
      "metadata": {
        "cellId": "ixwyb1eaijg0b6x0zrx5uq",
        "id": "8925ff7f"
      },
      "source": [
        "Baseline побит, причём неплохо, в самой первой модели были дропауты, но они только мешали, ведь самих параметров было не очень много(относительно кол-ва данных)\n",
        "\n",
        "Поэтому попробуем сделать золотую середину между первой и второй моделью, ну и значительно увеличим кол-во слоёв."
      ]
    },
    {
      "cell_type": "code",
      "execution_count": null,
      "id": "a4c8bb75",
      "metadata": {
        "cellId": "t0v955ru4lfxdc63aulo3",
        "id": "a4c8bb75",
        "outputId": "6d17e05e-d313-4518-cdf7-9b61ce627dc4"
      },
      "outputs": [
        {
          "name": "stderr",
          "output_type": "stream",
          "text": [
            "/kernel/lib/python3.8/site-packages/ml_kernel/kernel.py:864: UserWarning: The following variables cannot be serialized: dense_model\n",
            "  warnings.warn(message)\n"
          ]
        }
      ],
      "source": [
        "#!c1.8\n",
        "inputs = tf.keras.layers.Input(shape=(5, 8), name='vector_features')\n",
        "x = tf.keras.layers.Reshape((5, 8))(inputs)\n",
        "x = tf.keras.layers.Flatten(input_shape=(5, 8))(x)\n",
        "x = tf.keras.layers.Dense(300, activation='relu')(x)\n",
        "block_1_output = x\n",
        "\n",
        "x = tf.keras.layers.Dense(200, activation='relu')(block_1_output)\n",
        "x = tf.keras.layers.Dense(300, activation='relu')(x)\n",
        "block_2_output = tf.keras.layers.add([x, block_1_output])\n",
        "\n",
        "x = tf.keras.layers.Dense(200, activation='relu')(block_2_output)\n",
        "x = tf.keras.layers.Dense(300, activation='relu')(x)\n",
        "block_3_output = tf.keras.layers.add([x, block_2_output])\n",
        "\n",
        "x = tf.keras.layers.Dense(200, activation='relu')(block_3_output)\n",
        "x = tf.keras.layers.Dense(300, activation='relu')(x)\n",
        "block_4_output = tf.keras.layers.add([x, block_3_output])\n",
        "\n",
        "x = tf.keras.layers.Dense(200, activation='relu')(block_4_output)\n",
        "x = tf.keras.layers.Dense(300, activation='relu')(x)\n",
        "block_5_output = tf.keras.layers.add([x, block_4_output])\n",
        "\n",
        "x = tf.keras.layers.Dense(200, activation='relu')(block_5_output)\n",
        "x = tf.keras.layers.Dense(300, activation='relu')(x)\n",
        "block_6_output = tf.keras.layers.add([x, block_5_output])\n",
        "\n",
        "x = tf.keras.layers.Dense(200, activation='relu')(block_6_output)\n",
        "x = tf.keras.layers.Dense(300, activation='relu')(x)\n",
        "block_7_output = tf.keras.layers.add([x, block_6_output])\n",
        "\n",
        "x = tf.keras.layers.Dense(200, activation='relu')(block_7_output)\n",
        "x = tf.keras.layers.Dense(300, activation='relu')(x)\n",
        "block_8_output = tf.keras.layers.add([x, block_7_output])\n",
        "\n",
        "x = tf.keras.layers.Dense(200, activation='relu')(block_8_output)\n",
        "x = tf.keras.layers.Dense(300, activation='relu')(x)\n",
        "block_9_output = tf.keras.layers.add([x, block_8_output])\n",
        "\n",
        "x = tf.keras.layers.Dense(200, activation='relu')(block_9_output)\n",
        "x = tf.keras.layers.Dense(300, activation='relu')(x)\n",
        "block_10_output = tf.keras.layers.add([x, block_9_output])\n",
        "\n",
        "x = tf.keras.layers.Dense(200, activation='relu')(block_10_output)\n",
        "x = tf.keras.layers.Dense(300, activation='relu')(x)\n",
        "block_11_output = tf.keras.layers.add([x, block_10_output])\n",
        "\n",
        "x = tf.keras.layers.Dense(200, activation='relu')(block_11_output)\n",
        "x = tf.keras.layers.Dense(300, activation='relu')(x)\n",
        "block_12_output = tf.keras.layers.add([x, block_11_output])\n",
        "\n",
        "x = tf.keras.layers.Dense(200, activation='relu')(block_12_output)\n",
        "x = tf.keras.layers.Dense(300, activation='relu')(x)\n",
        "block_13_output = tf.keras.layers.add([x, block_12_output])\n",
        "\n",
        "x = tf.keras.layers.Dense(200, activation='relu')(block_13_output)\n",
        "x = tf.keras.layers.Dense(300, activation='relu')(x)\n",
        "block_14_output = tf.keras.layers.add([x, block_13_output])\n",
        "\n",
        "x = tf.keras.layers.Dense(200, activation='relu')(block_14_output)\n",
        "x = tf.keras.layers.Dense(300, activation='relu')(x)\n",
        "block_15_output = tf.keras.layers.add([x, block_14_output])\n",
        "\n",
        "x = tf.keras.layers.Dense(50)(block_15_output)\n",
        "output = tf.keras.layers.Reshape((25, 2))(x)\n",
        "\n",
        "deep_model = tf.keras.Model(inputs, output, name=\"deep_model\")"
      ]
    },
    {
      "cell_type": "code",
      "execution_count": null,
      "id": "6a6283a3",
      "metadata": {
        "cellId": "cciro3x353eywqvz3l1nh",
        "id": "6a6283a3",
        "outputId": "6fd692b9-7a9e-479c-eb93-7d31a3fde683"
      },
      "outputs": [
        {
          "name": "stdout",
          "output_type": "stream",
          "text": [
            "Model: \"deep_model\"\n",
            "__________________________________________________________________________________________________\n",
            "Layer (type)                    Output Shape         Param #     Connected to                     \n",
            "==================================================================================================\n",
            "vector_features (InputLayer)    [(None, 5, 8)]       0                                            \n",
            "__________________________________________________________________________________________________\n",
            "reshape_5 (Reshape)             (None, 5, 8)         0           vector_features[0][0]            \n",
            "__________________________________________________________________________________________________\n",
            "flatten_3 (Flatten)             (None, 40)           0           reshape_5[0][0]                  \n",
            "__________________________________________________________________________________________________\n",
            "dense_15 (Dense)                (None, 300)          12300       flatten_3[0][0]                  \n",
            "__________________________________________________________________________________________________\n",
            "dense_16 (Dense)                (None, 200)          60200       dense_15[0][0]                   \n",
            "__________________________________________________________________________________________________\n",
            "dense_17 (Dense)                (None, 300)          60300       dense_16[0][0]                   \n",
            "__________________________________________________________________________________________________\n",
            "add_6 (Add)                     (None, 300)          0           dense_17[0][0]                   \n",
            "                                                                 dense_15[0][0]                   \n",
            "__________________________________________________________________________________________________\n",
            "dense_18 (Dense)                (None, 200)          60200       add_6[0][0]                      \n",
            "__________________________________________________________________________________________________\n",
            "dense_19 (Dense)                (None, 300)          60300       dense_18[0][0]                   \n",
            "__________________________________________________________________________________________________\n",
            "add_7 (Add)                     (None, 300)          0           dense_19[0][0]                   \n",
            "                                                                 add_6[0][0]                      \n",
            "__________________________________________________________________________________________________\n",
            "dense_20 (Dense)                (None, 200)          60200       add_7[0][0]                      \n",
            "__________________________________________________________________________________________________\n",
            "dense_21 (Dense)                (None, 300)          60300       dense_20[0][0]                   \n",
            "__________________________________________________________________________________________________\n",
            "add_8 (Add)                     (None, 300)          0           dense_21[0][0]                   \n",
            "                                                                 add_7[0][0]                      \n",
            "__________________________________________________________________________________________________\n",
            "dense_22 (Dense)                (None, 200)          60200       add_8[0][0]                      \n",
            "__________________________________________________________________________________________________\n",
            "dense_23 (Dense)                (None, 300)          60300       dense_22[0][0]                   \n",
            "__________________________________________________________________________________________________\n",
            "add_9 (Add)                     (None, 300)          0           dense_23[0][0]                   \n",
            "                                                                 add_8[0][0]                      \n",
            "__________________________________________________________________________________________________\n",
            "dense_24 (Dense)                (None, 200)          60200       add_9[0][0]                      \n",
            "__________________________________________________________________________________________________\n",
            "dense_25 (Dense)                (None, 300)          60300       dense_24[0][0]                   \n",
            "__________________________________________________________________________________________________\n",
            "add_10 (Add)                    (None, 300)          0           dense_25[0][0]                   \n",
            "                                                                 add_9[0][0]                      \n",
            "__________________________________________________________________________________________________\n",
            "dense_26 (Dense)                (None, 200)          60200       add_10[0][0]                     \n",
            "__________________________________________________________________________________________________\n",
            "dense_27 (Dense)                (None, 300)          60300       dense_26[0][0]                   \n",
            "__________________________________________________________________________________________________\n",
            "add_11 (Add)                    (None, 300)          0           dense_27[0][0]                   \n",
            "                                                                 add_10[0][0]                     \n",
            "__________________________________________________________________________________________________\n",
            "dense_28 (Dense)                (None, 200)          60200       add_11[0][0]                     \n",
            "__________________________________________________________________________________________________\n",
            "dense_29 (Dense)                (None, 300)          60300       dense_28[0][0]                   \n",
            "__________________________________________________________________________________________________\n",
            "add_12 (Add)                    (None, 300)          0           dense_29[0][0]                   \n",
            "                                                                 add_11[0][0]                     \n",
            "__________________________________________________________________________________________________\n",
            "dense_30 (Dense)                (None, 200)          60200       add_12[0][0]                     \n",
            "__________________________________________________________________________________________________\n",
            "dense_31 (Dense)                (None, 300)          60300       dense_30[0][0]                   \n",
            "__________________________________________________________________________________________________\n",
            "add_13 (Add)                    (None, 300)          0           dense_31[0][0]                   \n",
            "                                                                 add_12[0][0]                     \n",
            "__________________________________________________________________________________________________\n",
            "dense_32 (Dense)                (None, 200)          60200       add_13[0][0]                     \n",
            "__________________________________________________________________________________________________\n",
            "dense_33 (Dense)                (None, 300)          60300       dense_32[0][0]                   \n",
            "__________________________________________________________________________________________________\n",
            "add_14 (Add)                    (None, 300)          0           dense_33[0][0]                   \n",
            "                                                                 add_13[0][0]                     \n",
            "__________________________________________________________________________________________________\n",
            "dense_34 (Dense)                (None, 200)          60200       add_14[0][0]                     \n",
            "__________________________________________________________________________________________________\n",
            "dense_35 (Dense)                (None, 300)          60300       dense_34[0][0]                   \n",
            "__________________________________________________________________________________________________\n",
            "add_15 (Add)                    (None, 300)          0           dense_35[0][0]                   \n",
            "                                                                 add_14[0][0]                     \n",
            "__________________________________________________________________________________________________\n",
            "dense_36 (Dense)                (None, 200)          60200       add_15[0][0]                     \n",
            "__________________________________________________________________________________________________\n",
            "dense_37 (Dense)                (None, 300)          60300       dense_36[0][0]                   \n",
            "__________________________________________________________________________________________________\n",
            "add_16 (Add)                    (None, 300)          0           dense_37[0][0]                   \n",
            "                                                                 add_15[0][0]                     \n",
            "__________________________________________________________________________________________________\n",
            "dense_38 (Dense)                (None, 200)          60200       add_16[0][0]                     \n",
            "__________________________________________________________________________________________________\n",
            "dense_39 (Dense)                (None, 300)          60300       dense_38[0][0]                   \n",
            "__________________________________________________________________________________________________\n",
            "add_17 (Add)                    (None, 300)          0           dense_39[0][0]                   \n",
            "                                                                 add_16[0][0]                     \n",
            "__________________________________________________________________________________________________\n",
            "dense_40 (Dense)                (None, 200)          60200       add_17[0][0]                     \n",
            "__________________________________________________________________________________________________\n",
            "dense_41 (Dense)                (None, 300)          60300       dense_40[0][0]                   \n",
            "__________________________________________________________________________________________________\n",
            "add_18 (Add)                    (None, 300)          0           dense_41[0][0]                   \n",
            "                                                                 add_17[0][0]                     \n",
            "__________________________________________________________________________________________________\n",
            "dense_42 (Dense)                (None, 200)          60200       add_18[0][0]                     \n",
            "__________________________________________________________________________________________________\n",
            "dense_43 (Dense)                (None, 300)          60300       dense_42[0][0]                   \n",
            "__________________________________________________________________________________________________\n",
            "add_19 (Add)                    (None, 300)          0           dense_43[0][0]                   \n",
            "                                                                 add_18[0][0]                     \n",
            "__________________________________________________________________________________________________\n",
            "dense_44 (Dense)                (None, 50)           15050       add_19[0][0]                     \n",
            "__________________________________________________________________________________________________\n",
            "reshape_6 (Reshape)             (None, 25, 2)        0           dense_44[0][0]                   \n",
            "==================================================================================================\n",
            "Total params: 1,714,350\n",
            "Trainable params: 1,714,350\n",
            "Non-trainable params: 0\n",
            "__________________________________________________________________________________________________\n",
            "None\n"
          ]
        },
        {
          "name": "stderr",
          "output_type": "stream",
          "text": [
            "/kernel/lib/python3.8/site-packages/ml_kernel/kernel.py:864: UserWarning: The following variables cannot be serialized: dense_model\n",
            "  warnings.warn(message)\n"
          ]
        }
      ],
      "source": [
        "#!c1.8\n",
        "print(deep_model.summary())\n",
        "deep_model.compile(\n",
        "    optimizer='sgd',\n",
        "    loss=tf_ade, metrics=[tf_fde])"
      ]
    },
    {
      "cell_type": "code",
      "execution_count": null,
      "id": "0b85cc3d",
      "metadata": {
        "cellId": "wm5hs72hx5jnh6k8e7ye",
        "id": "0b85cc3d",
        "outputId": "7fbec71a-7785-4dc3-c8ba-cd658dcd3c76"
      },
      "outputs": [
        {
          "name": "stdout",
          "output_type": "stream",
          "text": [
            "Epoch 1/50\n",
            "4078/4078 [==============================] - 41s 10ms/step - loss: 2.0314 - tf_fde: 4.5173\n",
            "Epoch 2/50\n",
            "4078/4078 [==============================] - 40s 10ms/step - loss: 1.7603 - tf_fde: 4.1161\n",
            "Epoch 3/50\n",
            "4078/4078 [==============================] - 41s 10ms/step - loss: 1.7234 - tf_fde: 4.0575\n",
            "Epoch 4/50\n",
            "4078/4078 [==============================] - 41s 10ms/step - loss: 1.7029 - tf_fde: 4.0220\n",
            "Epoch 5/50\n",
            "4078/4078 [==============================] - 40s 10ms/step - loss: 1.6853 - tf_fde: 3.9911\n",
            "Epoch 6/50\n",
            "4078/4078 [==============================] - 40s 10ms/step - loss: 1.6728 - tf_fde: 3.9685\n",
            "Epoch 7/50\n",
            "4078/4078 [==============================] - 40s 10ms/step - loss: 1.6637 - tf_fde: 3.9517\n",
            "Epoch 8/50\n",
            "4078/4078 [==============================] - 40s 10ms/step - loss: 1.6531 - tf_fde: 3.9322\n",
            "Epoch 9/50\n",
            "4078/4078 [==============================] - 40s 10ms/step - loss: 1.6444 - tf_fde: 3.9150\n",
            "Epoch 10/50\n",
            "4078/4078 [==============================] - 40s 10ms/step - loss: 1.6350 - tf_fde: 3.8964\n",
            "Epoch 11/50\n",
            "4078/4078 [==============================] - 40s 10ms/step - loss: 1.6282 - tf_fde: 3.8841\n",
            "Epoch 12/50\n",
            "4078/4078 [==============================] - 40s 10ms/step - loss: 1.6240 - tf_fde: 3.8772\n",
            "Epoch 13/50\n",
            "4078/4078 [==============================] - 40s 10ms/step - loss: 1.6177 - tf_fde: 3.8634\n",
            "Epoch 14/50\n",
            "4078/4078 [==============================] - 40s 10ms/step - loss: 1.6098 - tf_fde: 3.8476\n",
            "Epoch 15/50\n",
            "4078/4078 [==============================] - 40s 10ms/step - loss: 1.6072 - tf_fde: 3.8427\n",
            "Epoch 16/50\n",
            "4078/4078 [==============================] - 40s 10ms/step - loss: 1.6016 - tf_fde: 3.8310\n",
            "Epoch 17/50\n",
            "4078/4078 [==============================] - 40s 10ms/step - loss: 1.5966 - tf_fde: 3.8222\n",
            "Epoch 18/50\n",
            "4078/4078 [==============================] - 40s 10ms/step - loss: 1.5918 - tf_fde: 3.8121\n",
            "Epoch 19/50\n",
            "4078/4078 [==============================] - 40s 10ms/step - loss: 1.5878 - tf_fde: 3.8051\n",
            "Epoch 20/50\n",
            "4078/4078 [==============================] - 40s 10ms/step - loss: 1.5847 - tf_fde: 3.7985\n",
            "Epoch 21/50\n",
            "4078/4078 [==============================] - 40s 10ms/step - loss: 1.5807 - tf_fde: 3.7912\n",
            "Epoch 22/50\n",
            "4078/4078 [==============================] - 40s 10ms/step - loss: 1.5763 - tf_fde: 3.7816\n",
            "Epoch 23/50\n",
            "4078/4078 [==============================] - 40s 10ms/step - loss: 1.5708 - tf_fde: 3.7709\n",
            "Epoch 24/50\n",
            "4078/4078 [==============================] - 40s 10ms/step - loss: 1.5704 - tf_fde: 3.7714\n",
            "Epoch 25/50\n",
            "4078/4078 [==============================] - 40s 10ms/step - loss: 1.5669 - tf_fde: 3.7640\n",
            "Epoch 26/50\n",
            "4078/4078 [==============================] - 40s 10ms/step - loss: 1.5676 - tf_fde: 3.7632\n",
            "Epoch 27/50\n",
            "4078/4078 [==============================] - 40s 10ms/step - loss: 1.5581 - tf_fde: 3.7454\n",
            "Epoch 28/50\n",
            "4078/4078 [==============================] - 40s 10ms/step - loss: 1.5581 - tf_fde: 3.7467\n",
            "Epoch 29/50\n",
            "4078/4078 [==============================] - 40s 10ms/step - loss: 1.5529 - tf_fde: 3.7362\n",
            "Epoch 30/50\n",
            "4078/4078 [==============================] - 40s 10ms/step - loss: 1.5479 - tf_fde: 3.7250\n",
            "Epoch 31/50\n",
            "4078/4078 [==============================] - 40s 10ms/step - loss: 1.5485 - tf_fde: 3.7253\n",
            "Epoch 32/50\n",
            "4078/4078 [==============================] - 40s 10ms/step - loss: 1.5412 - tf_fde: 3.7124\n",
            "Epoch 33/50\n",
            "4078/4078 [==============================] - 40s 10ms/step - loss: 1.5405 - tf_fde: 3.7109\n",
            "Epoch 34/50\n",
            "4078/4078 [==============================] - 40s 10ms/step - loss: 1.5385 - tf_fde: 3.7052\n",
            "Epoch 35/50\n",
            "4078/4078 [==============================] - 40s 10ms/step - loss: 1.5337 - tf_fde: 3.6976\n",
            "Epoch 36/50\n",
            "4078/4078 [==============================] - 40s 10ms/step - loss: 1.5332 - tf_fde: 3.6951\n",
            "Epoch 37/50\n",
            "4078/4078 [==============================] - 40s 10ms/step - loss: 1.5285 - tf_fde: 3.6840\n",
            "Epoch 38/50\n",
            "4078/4078 [==============================] - 40s 10ms/step - loss: 1.5231 - tf_fde: 3.6753\n",
            "Epoch 39/50\n",
            "4078/4078 [==============================] - 40s 10ms/step - loss: 1.5246 - tf_fde: 3.6776\n",
            "Epoch 40/50\n",
            "4078/4078 [==============================] - 40s 10ms/step - loss: 1.5187 - tf_fde: 3.6661\n",
            "Epoch 41/50\n",
            "4078/4078 [==============================] - 40s 10ms/step - loss: 1.5147 - tf_fde: 3.6565\n",
            "Epoch 42/50\n",
            "4078/4078 [==============================] - 40s 10ms/step - loss: 1.5106 - tf_fde: 3.6486\n",
            "Epoch 43/50\n",
            "4078/4078 [==============================] - 40s 10ms/step - loss: 1.5087 - tf_fde: 3.6434\n",
            "Epoch 44/50\n",
            "4078/4078 [==============================] - 40s 10ms/step - loss: 1.5039 - tf_fde: 3.6336\n",
            "Epoch 45/50\n",
            "4078/4078 [==============================] - 40s 10ms/step - loss: 1.5058 - tf_fde: 3.6383\n",
            "Epoch 46/50\n",
            "4078/4078 [==============================] - 40s 10ms/step - loss: 1.4996 - tf_fde: 3.6250\n",
            "Epoch 47/50\n",
            "4078/4078 [==============================] - 40s 10ms/step - loss: 1.4968 - tf_fde: 3.6203\n",
            "Epoch 48/50\n",
            "4078/4078 [==============================] - 40s 10ms/step - loss: 1.4930 - tf_fde: 3.6106\n",
            "Epoch 49/50\n",
            "4078/4078 [==============================] - 40s 10ms/step - loss: 1.4931 - tf_fde: 3.6118\n",
            "Epoch 50/50\n",
            "4078/4078 [==============================] - 40s 10ms/step - loss: 1.4870 - tf_fde: 3.5991\n"
          ]
        },
        {
          "data": {
            "text/plain": [
              "<keras.callbacks.History at 0x7f91c21bd580>"
            ]
          },
          "execution_count": 72,
          "metadata": {},
          "output_type": "execute_result"
        },
        {
          "name": "stderr",
          "output_type": "stream",
          "text": [
            "/kernel/lib/python3.8/site-packages/ml_kernel/kernel.py:864: UserWarning: The following variables cannot be serialized: deep_model, dense_model\n",
            "  warnings.warn(message)\n"
          ]
        }
      ],
      "source": [
        "#!c1.8\n",
        "deep_model.fit(x=vect_train_x, y=vect_train_y, batch_size=32, epochs=50, verbose=True, use_multiprocessing=True)"
      ]
    },
    {
      "cell_type": "code",
      "execution_count": null,
      "id": "b5c8592f",
      "metadata": {
        "cellId": "amylc3zb64wcbon5kocos5",
        "id": "b5c8592f",
        "outputId": "77a2100c-369c-4da2-f1fe-700a954e2f90"
      },
      "outputs": [
        {
          "name": "stdout",
          "output_type": "stream",
          "text": [
            "Deep dense model metrics\n",
            "ADE: 1.287763, FDE: 3.103\n"
          ]
        },
        {
          "name": "stderr",
          "output_type": "stream",
          "text": [
            "/kernel/lib/python3.8/site-packages/ml_kernel/kernel.py:864: UserWarning: The following variables cannot be serialized: deep_model, dense_model\n",
            "  warnings.warn(message)\n"
          ]
        }
      ],
      "source": [
        "#!c1.8\n",
        "pred = deep_model.predict(vect_test_x)\n",
        "ade_res = round(float(ade(vect_test_y, pred).mean()), 6)\n",
        "fde_res = round(float(fde(vect_test_y, pred).mean()), 3)\n",
        "print('Deep dense model metrics')\n",
        "print(f'ADE: {ade_res}, FDE: {fde_res}')"
      ]
    },
    {
      "cell_type": "markdown",
      "id": "ad4260c5",
      "metadata": {
        "cellId": "5dzj7efqecue7uojvgefc",
        "id": "ad4260c5"
      },
      "source": [
        "Эта модель показала себя ещё лучше чем предыдущая."
      ]
    },
    {
      "cell_type": "markdown",
      "id": "2ce93ce3",
      "metadata": {
        "cellId": "kg8xdvsnzhlowq5f1zwm3",
        "id": "2ce93ce3"
      },
      "source": [
        "По итогам первого этапа прояснились достаточно очевидные вещи: не надо использовать dropout, когда в модели немного параметров относительно размера датасета и даже простая полносвязная сеточка лучше такой, но конечно же DEEP LEARNING победило. Благодаря skip connections градиент затухал значительно менее сильно, чем у 2 модели."
      ]
    },
    {
      "cell_type": "markdown",
      "id": "d21fca6b",
      "metadata": {
        "cellId": "m9udbyddq2f8t1b4ubdn7m",
        "id": "d21fca6b"
      },
      "source": [
        "## Этап 2"
      ]
    },
    {
      "cell_type": "markdown",
      "id": "386a9ddf",
      "metadata": {
        "cellId": "d02o70ayingg6p8d4cw6gv",
        "id": "386a9ddf"
      },
      "source": [
        "Попробуем улучшить модель из прошлого пункта, добавив изображение.\n",
        "\n",
        "Для начала можно попробовать использовать только сверточную сеть на картинках. Если этого будет недостаточно можно использовать оба представления."
      ]
    },
    {
      "cell_type": "code",
      "execution_count": null,
      "id": "613f94f7",
      "metadata": {
        "cellId": "zcxkeynin9k50q6qoboe",
        "id": "613f94f7"
      },
      "outputs": [],
      "source": [
        "#!g1.1\n",
        "def ade(y_true, y_pred):\n",
        "    return np.mean(np.linalg.norm(y_true - y_pred, axis=-1), axis=-1)\n",
        "\n",
        "def fde(y_true, y_pred):\n",
        "    return np.linalg.norm(y_true - y_pred, axis=-1)[..., -1]\n",
        "\n",
        "def min_ade(y_true, y_pred):\n",
        "    y_true = y_true[:, np.newaxis, ...]\n",
        "    return np.min(ade(y_true, y_pred), axis=1)\n",
        "\n",
        "def min_fde(y_true, y_pred):\n",
        "    y_true = y_true[:, np.newaxis, ...]\n",
        "    return np.min(fde(y_true, y_pred), axis=1)\n",
        "\n",
        "def tf_ade(y_true, y_pred):\n",
        "    return tf.reduce_mean(tf.norm(y_true - y_pred, axis=-1), axis=-1)\n",
        "\n",
        "def tf_fde(y_true, y_pred):\n",
        "    return tf.norm(y_true - y_pred, axis=-1)[..., -1]\n"
      ]
    },
    {
      "cell_type": "code",
      "execution_count": null,
      "id": "5f2ca427",
      "metadata": {
        "cellId": "s8pvmn3vfwp8zmuwkz0jw3",
        "id": "5f2ca427"
      },
      "outputs": [],
      "source": [
        "#!g1.1\n",
        "vectorizer = FeatureVectorizer(vectorizer_config)\n",
        "with open('vectorizer_config.yaml') as f:\n",
        "    vectorizer_config = yaml.safe_load(f)"
      ]
    },
    {
      "cell_type": "code",
      "execution_count": null,
      "id": "4b4ce544",
      "metadata": {
        "cellId": "20jelh5hp76usv9zj9fwwi",
        "id": "4b4ce544",
        "outputId": "940c0781-1e5d-4f74-e0e5-cbc3cec30f1d"
      },
      "outputs": [
        {
          "name": "stderr",
          "output_type": "stream",
          "text": [
            "/kernel/lib/python3.8/site-packages/ml_kernel/kernel.py:864: UserWarning: The following variables cannot be serialized: dataset, test_data, test_dataset, train_data, val_data, val_dataset\n",
            "  warnings.warn(message)\n"
          ]
        }
      ],
      "source": [
        "#!g1.1\n",
        "dataset_path = 'data/train'\n",
        "val_dataset_path = 'data/val'\n",
        "test_dataset_path = 'data/test'\n",
        "\n",
        "dataset = TFMotionPredictionDataset(\n",
        "    # Путь к датасету\n",
        "    dataset_path=dataset_path,\n",
        "    # Путь к подготовленным картинкам, у нас они лежат там же\n",
        "    prerendered_dataset_path=dataset_path,\n",
        "    # Набор объектов, умеющих готовить фичи для модели. У нас это только векторайзер.\n",
        "    feature_producers=[vectorizer],\n",
        ").get_tf_dataset()\n",
        "train_data = dataset.map(lambda d: ((d['prerendered_feature_map'], d['vector_features']), d['ground_truth_trajectory']))\n",
        "train_data = train_data.batch(32)\n",
        "\n",
        "val_dataset = TFMotionPredictionDataset(\n",
        "    dataset_path=val_dataset_path,\n",
        "    prerendered_dataset_path=val_dataset_path,\n",
        "    feature_producers=[vectorizer],\n",
        ").get_tf_dataset()\n",
        "val_data = val_dataset.map(lambda d: ((d['prerendered_feature_map'], d['vector_features']), d['ground_truth_trajectory']))\n",
        "val_data\n",
        "\n",
        "test_dataset = TFMotionPredictionDataset(\n",
        "    dataset_path=test_dataset_path,\n",
        "    prerendered_dataset_path=test_dataset_path,\n",
        "    feature_producers=[vectorizer],\n",
        ").get_tf_dataset()\n",
        "\n",
        "test_data = test_dataset.map(lambda d: ((d['prerendered_feature_map'], d['vector_features']), d['ground_truth_trajectory']))"
      ]
    },
    {
      "cell_type": "code",
      "execution_count": null,
      "id": "96e70586",
      "metadata": {
        "cellId": "ciqtbkml65qtxru4bryfe",
        "id": "96e70586"
      },
      "outputs": [],
      "source": [
        "#!g1.1\n",
        "inputs = layers.Input(shape=, name=\"inputs\")\n",
        "\n",
        "x = layers.Conv2D(32, 3, activation=\"relu\")(inputs)\n",
        "x = layers.Conv2D(64, 3, activation=\"relu\")(x)\n",
        "block_1_output = layers.MaxPooling2D(3)(x)\n",
        "\n",
        "x = layers.Conv2D(64, 3, activation=\"relu\", padding=\"same\")(block_1_output)\n",
        "x = layers.Conv2D(64, 3, activation=\"relu\", padding=\"same\")(x)\n",
        "block_2_output = layers.add([x, block_1_output])\n",
        "\n",
        "x = layers.Conv2D(64, 3, activation=\"relu\", padding=\"same\")(block_2_output)\n",
        "x = layers.Conv2D(64, 3, activation=\"relu\", padding=\"same\")(x)\n",
        "block_3_output = layers.add([x, block_2_output])\n",
        "\n",
        "x = layers.Conv2D(64, 3, activation=\"relu\", padding=\"same\")(block_3_output)\n",
        "x = layers.Conv2D(64, 3, activation=\"relu\", padding=\"same\")(x)\n",
        "block_4_output = layers.add([x, block_3_output])\n",
        "\n",
        "x = layers.Conv2D(64, 3, activation=\"relu\", padding=\"same\")(block_4_output)\n",
        "x = layers.Conv2D(64, 3, activation=\"relu\", padding=\"same\")(x)\n",
        "block_5_output = layers.add([x, block_4_output])\n",
        "\n",
        "x = layers.Conv2D(64, 3, activation=\"relu\", padding=\"same\")(block_5_output)\n",
        "x = layers.Conv2D(64, 3, activation=\"relu\", padding=\"same\")(x)\n",
        "block_6_output = layers.add([x, block_5_output])\n",
        "\n",
        "x = layers.Conv2D(64, 3, activation=\"relu\", padding=\"same\")(block_6_output)\n",
        "x = layers.Conv2D(64, 3, activation=\"relu\", padding=\"same\")(x)\n",
        "block_7_output = layers.add([x, block_6_output])\n",
        "\n",
        "x = layers.Conv2D(64, 3, activation=\"relu\", padding=\"same\")(block_7_output)\n",
        "x = layers.Conv2D(64, 3, activation=\"relu\", padding=\"same\")(x)\n",
        "block_8_output = layers.add([x, block_7_output])\n",
        "\n",
        "x = layers.Conv2D(64, 3, activation=\"relu\", padding=\"same\")(block_8_output)\n",
        "x = layers.Conv2D(64, 3, activation=\"relu\", padding=\"same\")(x)\n",
        "block_9_output = layers.add([x, block_8_output])\n",
        "\n",
        "x = layers.Conv2D(64, 3, activation=\"relu\", padding=\"same\")(block_9_output)\n",
        "x = layers.Conv2D(64, 3, activation=\"relu\", padding=\"same\")(x)\n",
        "block_10_output = layers.add([x, block_9_output])\n",
        "\n",
        "x = layers.Conv2D(64, 3, activation=\"relu\")(block_10_output)\n",
        "x = layers.GlobalAveragePooling2D()(x)\n",
        "x = layers.Dense(256, activation=\"relu\")(x)\n",
        "x = layers.Dropout(0.5)(x)\n",
        "outputs = layers.Dense(10)(x)\n",
        "\n",
        "model = tf.keras.Model(inputs, outputs, name=\"skip_connection_net\")\n",
        "model.summary()"
      ]
    },
    {
      "cell_type": "markdown",
      "source": [
        "# Полученные результаты"
      ],
      "metadata": {
        "id": "vR5BwfEAl_A_"
      },
      "id": "vR5BwfEAl_A_"
    },
    {
      "cell_type": "markdown",
      "source": [
        "Проведён Research области self-driving cars, в течение которого были найдены подходящие для задачи данные, найдены метрики оценивания моделей, выполняющих задачу, а также протестированы различные подходы Deep Learning, с помощью которых можно решать задачу\n",
        "\n",
        "В финале получили модель, которая почти очень часто успешно предсказывает траекторию движения автомобиля, но проваливается на краевых случаях"
      ],
      "metadata": {
        "id": "sDbphE9kmIRU"
      },
      "id": "sDbphE9kmIRU"
    }
  ],
  "metadata": {
    "kernelspec": {
      "display_name": "Yandex DataSphere Kernel",
      "language": "python",
      "name": "python3"
    },
    "language_info": {
      "codemirror_mode": {
        "name": "ipython",
        "version": 3
      },
      "file_extension": ".py",
      "mimetype": "text/x-python",
      "name": "python",
      "nbconvert_exporter": "python",
      "pygments_lexer": "ipython3",
      "version": "3.7.7"
    },
    "notebookId": "aae49059-c957-4ace-9f00-371afa4de6ad",
    "notebookPath": "seminar.ipynb",
    "colab": {
      "provenance": []
    }
  },
  "nbformat": 4,
  "nbformat_minor": 5
}